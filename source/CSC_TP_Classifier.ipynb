{
 "cells": [
  {
   "cell_type": "markdown",
   "id": "e8db7d5f-1161-44f1-ab1c-717424fdb752",
   "metadata": {
    "tags": []
   },
   "source": [
    "# CSC 874 Topics in Big Data Fall 2022\n",
    "**Title: Temporal Orientation Classifier**<br>\n",
    "**Author: Gian Carlo L. Baldonado**<br>\n",
    "December 16, 2022\n",
    "\n"
   ]
  },
  {
   "cell_type": "code",
   "execution_count": 568,
   "id": "2ca39d44-c1aa-4ddc-9f6c-21391368a470",
   "metadata": {},
   "outputs": [],
   "source": [
    "## for data\n",
    "import json\n",
    "import pandas as pd\n",
    "pd.set_option('display.max_colwidth', None)\n",
    "import numpy as np\n",
    "from collections import Counter\n",
    "\n",
    "## for plotting\n",
    "from matplotlib import pyplot\n",
    "import seaborn as sns\n",
    "import matplotlib.pyplot as plt\n",
    "\n",
    "## for preprocessing and text analysis\n",
    "import re\n",
    "import nltk\n",
    "from nltk.corpus import stopwords\n",
    "from nltk.tokenize import word_tokenize, sent_tokenize\n",
    "from nltk.sentiment.vader import SentimentIntensityAnalyzer\n",
    "from textblob import TextBlob\n",
    "from pycorenlp import StanfordCoreNLP\n",
    "\n",
    "\n",
    "## for word embedding\n",
    "import gensim\n",
    "import gensim.downloader as gensim_api\n",
    "from gensim.models import Word2Vec\n",
    "import pickle\n",
    "\n",
    "## model and evaluation\n",
    "from sklearn import metrics\n",
    "from sklearn.metrics import confusion_matrix, classification_report, ConfusionMatrixDisplay\n",
    "from sklearn.ensemble import RandomForestClassifier\n",
    "from sklearn.linear_model import LogisticRegression\n",
    "from sklearn.svm import SVC\n",
    "from sklearn.naive_bayes import MultinomialNB\n",
    "from sklearn.model_selection import GridSearchCV\n",
    "from sklearn.feature_extraction.text import TfidfVectorizer, CountVectorizer\n",
    "from sklearn import feature_extraction, model_selection, naive_bayes, manifold, preprocessing, feature_selection\n",
    "from sklearn.model_selection import train_test_split\n",
    "\n",
    "## initiate StandordCoreNLP library\n",
    "## must have package downlaoded and running in background\n",
    "nlp = StanfordCoreNLP('http://localhost:9000')\n",
    "\n",
    "## load custom stop words\n",
    "lst_stopwords = pd.read_csv(\"./lst_custom_stopwords.txt\")\n",
    "lst_stopwords = lst_stopwords[\"header\"].to_list()\n",
    "\n",
    "\n",
    "## initiate encoder numeric -> categorical\n",
    "le = preprocessing.LabelEncoder()"
   ]
  },
  {
   "cell_type": "markdown",
   "id": "86d5a7e3-9964-4868-af40-3d328dfe7b5f",
   "metadata": {
    "jp-MarkdownHeadingCollapsed": true,
    "tags": []
   },
   "source": [
    "## Load Data"
   ]
  },
  {
   "cell_type": "code",
   "execution_count": 12,
   "id": "201eff3c-62ee-4ec3-8a7f-c23332b0e950",
   "metadata": {},
   "outputs": [
    {
     "data": {
      "text/html": [
       "<div>\n",
       "<style scoped>\n",
       "    .dataframe tbody tr th:only-of-type {\n",
       "        vertical-align: middle;\n",
       "    }\n",
       "\n",
       "    .dataframe tbody tr th {\n",
       "        vertical-align: top;\n",
       "    }\n",
       "\n",
       "    .dataframe thead th {\n",
       "        text-align: right;\n",
       "    }\n",
       "</style>\n",
       "<table border=\"1\" class=\"dataframe\">\n",
       "  <thead>\n",
       "    <tr style=\"text-align: right;\">\n",
       "      <th></th>\n",
       "      <th>doc</th>\n",
       "      <th>label</th>\n",
       "    </tr>\n",
       "  </thead>\n",
       "  <tbody>\n",
       "    <tr>\n",
       "      <th>0</th>\n",
       "      <td>Filipino clients may not take pain medication because they view pain as being the will of god” give me 3 kilos of oxycontin ill show you how fast i can overdose</td>\n",
       "      <td>Present</td>\n",
       "    </tr>\n",
       "    <tr>\n",
       "      <th>1</th>\n",
       "      <td>I miss my lil Percocet phase 😂😂 I c y niggas take them istg I can’t get addicted tho</td>\n",
       "      <td>Past</td>\n",
       "    </tr>\n",
       "    <tr>\n",
       "      <th>2</th>\n",
       "      <td>I can not sleep so maybe I will use tramadol</td>\n",
       "      <td>Future</td>\n",
       "    </tr>\n",
       "    <tr>\n",
       "      <th>3</th>\n",
       "      <td>I’ve got opiate-withdrawal leg muscle spasms tonight. It’s driving me crazy. For some reason I couldn’t have absorbed my evening tramadol. (Or that’s my reasoning)</td>\n",
       "      <td>Present</td>\n",
       "    </tr>\n",
       "    <tr>\n",
       "      <th>4</th>\n",
       "      <td>there is no better taste than oxycodone in the back of your throat (still sober)</td>\n",
       "      <td>Present</td>\n",
       "    </tr>\n",
       "    <tr>\n",
       "      <th>...</th>\n",
       "      <td>...</td>\n",
       "      <td>...</td>\n",
       "    </tr>\n",
       "    <tr>\n",
       "      <th>643</th>\n",
       "      <td>Nope 10 year oxycodone run. But they tested me and I was clean before the shot so I have no idea.</td>\n",
       "      <td>Past</td>\n",
       "    </tr>\n",
       "    <tr>\n",
       "      <th>644</th>\n",
       "      <td>I appreciate it a lot. Im 19 been addicted for about a year &amp;amp; as for body fat im about as skinny and frail as it gets. Only 130 pounds too.</td>\n",
       "      <td>Present</td>\n",
       "    </tr>\n",
       "    <tr>\n",
       "      <th>645</th>\n",
       "      <td>I gotta yeast overgrowth from kratom and it ruined my gut health. Fuck kratom seriously. Nasty green crap, you have no idea what it's doing to your internal organs.</td>\n",
       "      <td>Present</td>\n",
       "    </tr>\n",
       "    <tr>\n",
       "      <th>646</th>\n",
       "      <td>Kratom gave me a yeast overgrowth and ruin my gut health. You have no idea what it's doing to your internal organs.</td>\n",
       "      <td>Past</td>\n",
       "    </tr>\n",
       "    <tr>\n",
       "      <th>647</th>\n",
       "      <td>I’m in the same boat. At work now on day 1. Just stay positive. It will pass. Hate this shit.</td>\n",
       "      <td>Present</td>\n",
       "    </tr>\n",
       "  </tbody>\n",
       "</table>\n",
       "<p>648 rows × 2 columns</p>\n",
       "</div>"
      ],
      "text/plain": [
       "                                                                                                                                                                      doc  \\\n",
       "0        Filipino clients may not take pain medication because they view pain as being the will of god” give me 3 kilos of oxycontin ill show you how fast i can overdose   \n",
       "1                                                                                    I miss my lil Percocet phase 😂😂 I c y niggas take them istg I can’t get addicted tho   \n",
       "2                                                                                                                            I can not sleep so maybe I will use tramadol   \n",
       "3     I’ve got opiate-withdrawal leg muscle spasms tonight. It’s driving me crazy. For some reason I couldn’t have absorbed my evening tramadol. (Or that’s my reasoning)   \n",
       "4                                                                                        there is no better taste than oxycodone in the back of your throat (still sober)   \n",
       "..                                                                                                                                                                    ...   \n",
       "643                                                                     Nope 10 year oxycodone run. But they tested me and I was clean before the shot so I have no idea.   \n",
       "644                       I appreciate it a lot. Im 19 been addicted for about a year &amp; as for body fat im about as skinny and frail as it gets. Only 130 pounds too.   \n",
       "645  I gotta yeast overgrowth from kratom and it ruined my gut health. Fuck kratom seriously. Nasty green crap, you have no idea what it's doing to your internal organs.   \n",
       "646                                                   Kratom gave me a yeast overgrowth and ruin my gut health. You have no idea what it's doing to your internal organs.   \n",
       "647                                                                         I’m in the same boat. At work now on day 1. Just stay positive. It will pass. Hate this shit.   \n",
       "\n",
       "       label  \n",
       "0    Present  \n",
       "1       Past  \n",
       "2     Future  \n",
       "3    Present  \n",
       "4    Present  \n",
       "..       ...  \n",
       "643     Past  \n",
       "644  Present  \n",
       "645  Present  \n",
       "646     Past  \n",
       "647  Present  \n",
       "\n",
       "[648 rows x 2 columns]"
      ]
     },
     "execution_count": 12,
     "metadata": {},
     "output_type": "execute_result"
    }
   ],
   "source": [
    "posts_df = pd.read_csv(\"./data/posts2.csv\")\n",
    "posts_df"
   ]
  },
  {
   "cell_type": "markdown",
   "id": "71c80c2b-b180-42bd-9f7f-ffb0f5cced83",
   "metadata": {
    "tags": []
   },
   "source": [
    "## Preprocessing"
   ]
  },
  {
   "cell_type": "code",
   "execution_count": 13,
   "id": "627b5062-08f1-4528-a8fb-36158bc84913",
   "metadata": {
    "scrolled": true,
    "tags": []
   },
   "outputs": [],
   "source": [
    "def preprocess_text(text, use_stem=False, use_lemm=True, lst_stopwords=None):\n",
    "    \n",
    "    ## de-construct contractions\n",
    "    text = re.sub(r\"won\\'t\", \"will not\", text)\n",
    "    text = re.sub(r\"can\\'t\", \"can not\", text)\n",
    "    text = re.sub(r\"gonna\", \"going to\", text)\n",
    "    text = re.sub(r\"n\\'t\", \" not\", text)\n",
    "    text = re.sub(r\"\\'re\", \" are\", text)\n",
    "    text = re.sub(r\"\\'s\", \" is\", text)\n",
    "    text = re.sub(r\"\\'d\", \" would\", text)\n",
    "    text = re.sub(r\"\\'ll\", \" will\", text)\n",
    "    text = re.sub(r\"\\'t\", \" not\", text)\n",
    "    text = re.sub(r\"\\'ve\", \" have\", text)\n",
    "    text = re.sub(r\"\\'m\", \" am\", text)\n",
    "    \n",
    "    ## clean (convert \\n or \\t to \" \", lower case, remove punctuations, strip, remove hyperlinks)\n",
    "    text = re.sub(r'\\n', ' ', text)\n",
    "    text = re.sub(r'\\t', ' ', text)\n",
    "    text = re.sub(r'[^\\w\\s]', '', text)\n",
    "    text = re.sub(r'http\\S+', '', str(text).lower().strip())\n",
    "    \n",
    "    ## tokenize (make a list of text)\n",
    "    lst_text = text.split()\n",
    "    \n",
    "    ## remove stopwords\n",
    "    if lst_stopwords is not None:\n",
    "        lst_text = [word for word in lst_text if word not in lst_stopwords]\n",
    "        \n",
    "    ## stemming (remove -ing, -ly, ...)\n",
    "    if use_stem == True:\n",
    "        ps = nltk.stem.porter.PorterStemmer()\n",
    "        lst_text = [ps.stem(word) for word in lst_text]\n",
    "    \n",
    "    ## lemmatization (convert word into base form)\n",
    "    if use_lemm == True:\n",
    "        lem = nltk.stem.wordnet.WordNetLemmatizer()\n",
    "        lst_text = [lem.lemmatize(word) for word in lst_text]\n",
    "        \n",
    "    ## join lst back to string\n",
    "    \n",
    "    text = \" \".join(lst_text)\n",
    "    return text"
   ]
  },
  {
   "cell_type": "code",
   "execution_count": null,
   "id": "4abc7519-d688-4992-aaf8-e2f5cb2a80b2",
   "metadata": {},
   "outputs": [],
   "source": [
    "posts_df[\"clean\"] = [preprocess_text(x, use_stem=False, use_lemm=False, lst_stopwords=lst_stopwords) for x in posts_df[\"doc\"]]"
   ]
  },
  {
   "cell_type": "code",
   "execution_count": 17,
   "id": "b9338a7f-66de-4ce4-8c5d-869e11def789",
   "metadata": {
    "tags": []
   },
   "outputs": [
    {
     "data": {
      "text/html": [
       "<div>\n",
       "<style scoped>\n",
       "    .dataframe tbody tr th:only-of-type {\n",
       "        vertical-align: middle;\n",
       "    }\n",
       "\n",
       "    .dataframe tbody tr th {\n",
       "        vertical-align: top;\n",
       "    }\n",
       "\n",
       "    .dataframe thead th {\n",
       "        text-align: right;\n",
       "    }\n",
       "</style>\n",
       "<table border=\"1\" class=\"dataframe\">\n",
       "  <thead>\n",
       "    <tr style=\"text-align: right;\">\n",
       "      <th></th>\n",
       "      <th>doc</th>\n",
       "      <th>label</th>\n",
       "      <th>clean</th>\n",
       "    </tr>\n",
       "  </thead>\n",
       "  <tbody>\n",
       "    <tr>\n",
       "      <th>0</th>\n",
       "      <td>Filipino clients may not take pain medication because they view pain as being the will of god” give me 3 kilos of oxycontin ill show you how fast i can overdose</td>\n",
       "      <td>Present</td>\n",
       "      <td>filipino clients may not take pain medication because view pain as being the will of god give 3 kilos of oxycontin ill show how fast can overdose</td>\n",
       "    </tr>\n",
       "    <tr>\n",
       "      <th>1</th>\n",
       "      <td>I miss my lil Percocet phase 😂😂 I c y niggas take them istg I can’t get addicted tho</td>\n",
       "      <td>Past</td>\n",
       "      <td>miss lil percocet phase c y niggas take istg cant get addicted tho</td>\n",
       "    </tr>\n",
       "    <tr>\n",
       "      <th>2</th>\n",
       "      <td>I can not sleep so maybe I will use tramadol</td>\n",
       "      <td>Future</td>\n",
       "      <td>can not sleep so maybe will use tramadol</td>\n",
       "    </tr>\n",
       "    <tr>\n",
       "      <th>3</th>\n",
       "      <td>I’ve got opiate-withdrawal leg muscle spasms tonight. It’s driving me crazy. For some reason I couldn’t have absorbed my evening tramadol. (Or that’s my reasoning)</td>\n",
       "      <td>Present</td>\n",
       "      <td>ive got opiatewithdrawal leg muscle spasms tonight driving crazy for some reason couldnt have absorbed evening tramadol or thats reasoning</td>\n",
       "    </tr>\n",
       "    <tr>\n",
       "      <th>4</th>\n",
       "      <td>there is no better taste than oxycodone in the back of your throat (still sober)</td>\n",
       "      <td>Present</td>\n",
       "      <td>there is no better taste than oxycodone in the back of throat still sober</td>\n",
       "    </tr>\n",
       "    <tr>\n",
       "      <th>...</th>\n",
       "      <td>...</td>\n",
       "      <td>...</td>\n",
       "      <td>...</td>\n",
       "    </tr>\n",
       "    <tr>\n",
       "      <th>643</th>\n",
       "      <td>Nope 10 year oxycodone run. But they tested me and I was clean before the shot so I have no idea.</td>\n",
       "      <td>Past</td>\n",
       "      <td>nope 10 year oxycodone run but tested and was clean before the shot so have no idea</td>\n",
       "    </tr>\n",
       "    <tr>\n",
       "      <th>644</th>\n",
       "      <td>I appreciate it a lot. Im 19 been addicted for about a year &amp;amp; as for body fat im about as skinny and frail as it gets. Only 130 pounds too.</td>\n",
       "      <td>Present</td>\n",
       "      <td>appreciate a lot im 19 been addicted for about a year amp as for body fat im about as skinny and frail as gets only 130 pounds too</td>\n",
       "    </tr>\n",
       "    <tr>\n",
       "      <th>645</th>\n",
       "      <td>I gotta yeast overgrowth from kratom and it ruined my gut health. Fuck kratom seriously. Nasty green crap, you have no idea what it's doing to your internal organs.</td>\n",
       "      <td>Present</td>\n",
       "      <td>gotta yeast overgrowth from kratom and ruined gut health fuck kratom seriously nasty green crap have no idea is doing to internal organs</td>\n",
       "    </tr>\n",
       "    <tr>\n",
       "      <th>646</th>\n",
       "      <td>Kratom gave me a yeast overgrowth and ruin my gut health. You have no idea what it's doing to your internal organs.</td>\n",
       "      <td>Past</td>\n",
       "      <td>kratom gave a yeast overgrowth and ruin gut health have no idea is doing to internal organs</td>\n",
       "    </tr>\n",
       "    <tr>\n",
       "      <th>647</th>\n",
       "      <td>I’m in the same boat. At work now on day 1. Just stay positive. It will pass. Hate this shit.</td>\n",
       "      <td>Present</td>\n",
       "      <td>im in the same boat at work now on day 1 just stay positive will pass hate shit</td>\n",
       "    </tr>\n",
       "  </tbody>\n",
       "</table>\n",
       "<p>648 rows × 3 columns</p>\n",
       "</div>"
      ],
      "text/plain": [
       "                                                                                                                                                                      doc  \\\n",
       "0        Filipino clients may not take pain medication because they view pain as being the will of god” give me 3 kilos of oxycontin ill show you how fast i can overdose   \n",
       "1                                                                                    I miss my lil Percocet phase 😂😂 I c y niggas take them istg I can’t get addicted tho   \n",
       "2                                                                                                                            I can not sleep so maybe I will use tramadol   \n",
       "3     I’ve got opiate-withdrawal leg muscle spasms tonight. It’s driving me crazy. For some reason I couldn’t have absorbed my evening tramadol. (Or that’s my reasoning)   \n",
       "4                                                                                        there is no better taste than oxycodone in the back of your throat (still sober)   \n",
       "..                                                                                                                                                                    ...   \n",
       "643                                                                     Nope 10 year oxycodone run. But they tested me and I was clean before the shot so I have no idea.   \n",
       "644                       I appreciate it a lot. Im 19 been addicted for about a year &amp; as for body fat im about as skinny and frail as it gets. Only 130 pounds too.   \n",
       "645  I gotta yeast overgrowth from kratom and it ruined my gut health. Fuck kratom seriously. Nasty green crap, you have no idea what it's doing to your internal organs.   \n",
       "646                                                   Kratom gave me a yeast overgrowth and ruin my gut health. You have no idea what it's doing to your internal organs.   \n",
       "647                                                                         I’m in the same boat. At work now on day 1. Just stay positive. It will pass. Hate this shit.   \n",
       "\n",
       "       label  \\\n",
       "0    Present   \n",
       "1       Past   \n",
       "2     Future   \n",
       "3    Present   \n",
       "4    Present   \n",
       "..       ...   \n",
       "643     Past   \n",
       "644  Present   \n",
       "645  Present   \n",
       "646     Past   \n",
       "647  Present   \n",
       "\n",
       "                                                                                                                                                 clean  \n",
       "0    filipino clients may not take pain medication because view pain as being the will of god give 3 kilos of oxycontin ill show how fast can overdose  \n",
       "1                                                                                   miss lil percocet phase c y niggas take istg cant get addicted tho  \n",
       "2                                                                                                             can not sleep so maybe will use tramadol  \n",
       "3           ive got opiatewithdrawal leg muscle spasms tonight driving crazy for some reason couldnt have absorbed evening tramadol or thats reasoning  \n",
       "4                                                                            there is no better taste than oxycodone in the back of throat still sober  \n",
       "..                                                                                                                                                 ...  \n",
       "643                                                                nope 10 year oxycodone run but tested and was clean before the shot so have no idea  \n",
       "644                 appreciate a lot im 19 been addicted for about a year amp as for body fat im about as skinny and frail as gets only 130 pounds too  \n",
       "645           gotta yeast overgrowth from kratom and ruined gut health fuck kratom seriously nasty green crap have no idea is doing to internal organs  \n",
       "646                                                        kratom gave a yeast overgrowth and ruin gut health have no idea is doing to internal organs  \n",
       "647                                                                    im in the same boat at work now on day 1 just stay positive will pass hate shit  \n",
       "\n",
       "[648 rows x 3 columns]"
      ]
     },
     "execution_count": 17,
     "metadata": {},
     "output_type": "execute_result"
    }
   ],
   "source": [
    "posts_df"
   ]
  },
  {
   "cell_type": "code",
   "execution_count": 19,
   "id": "f50bd208-cf40-43d2-a67b-abff79135d98",
   "metadata": {
    "scrolled": true,
    "tags": []
   },
   "outputs": [],
   "source": [
    "X = posts_df.drop([\"label\"], axis=1)\n",
    "y = posts_df[\"label\"]"
   ]
  },
  {
   "cell_type": "code",
   "execution_count": 21,
   "id": "e26c1a94-f884-45af-b868-54120a4a8f63",
   "metadata": {},
   "outputs": [],
   "source": [
    "X_train, X_test, y_train, y_test = train_test_split(X, y, test_size = 0.33, shuffle=True, random_state=42)"
   ]
  },
  {
   "cell_type": "markdown",
   "id": "0c6d5cf2-9e61-4ccd-bb29-5eda5737cef3",
   "metadata": {},
   "source": [
    "### Quick Stats\n",
    "\n",
    "#### Training set"
   ]
  },
  {
   "cell_type": "code",
   "execution_count": 22,
   "id": "36496dfb-d8d6-4fc7-beae-9f3ee0b52298",
   "metadata": {},
   "outputs": [],
   "source": [
    "Xy_train = X_train.copy()\n",
    "Xy_train[\"label\"] = y_train"
   ]
  },
  {
   "cell_type": "code",
   "execution_count": 24,
   "id": "ac9be20d-be60-4992-8595-966da5b31b5c",
   "metadata": {},
   "outputs": [
    {
     "name": "stdout",
     "output_type": "stream",
     "text": [
      "Present labels in the training dataset : 181  out of 434 or 41.71%\n",
      "Past labels in the training dataset : 163  out of 434 or 37.56%\n",
      "Future labels in the training dataset : 90  out of 434 or 20.74%\n",
      "Present    181\n",
      "Past       163\n",
      "Future      90\n",
      "Name: label, dtype: int64\n"
     ]
    }
   ],
   "source": [
    "temp_orientation_labels = [\"Present\", \"Past\", \"Future\"]\n",
    "\n",
    "#Training set label counts and frequency\n",
    "len_train = Xy_train.shape[0]\n",
    "\n",
    "count_of_labels = {\"Past\": 0, \"Present\": 0, \"Future\": 0}\n",
    "\n",
    "for temp in temp_orientation_labels:\n",
    "    counts = len(Xy_train[Xy_train[\"label\"] == temp])\n",
    "    count_of_labels[temp] = counts\n",
    "    print(f\"{temp} labels in the training dataset : {counts}  out of {len_train} or {np.round(((counts/len_train) * 100),2)}%\")\n",
    "\n",
    "\n",
    "count_all_labels_train = Xy_train[\"label\"].value_counts()\n",
    "print(count_all_labels_train)"
   ]
  },
  {
   "cell_type": "markdown",
   "id": "1c82e514-4c0d-498a-9093-2127010a9601",
   "metadata": {},
   "source": [
    "#### Test set"
   ]
  },
  {
   "cell_type": "code",
   "execution_count": 26,
   "id": "5c54e3f5-6886-40a0-8d60-337b0d033f4c",
   "metadata": {},
   "outputs": [
    {
     "name": "stdout",
     "output_type": "stream",
     "text": [
      "Present labels in the testing dataset : 87  out of 214 or 40.65%\n",
      "Past labels in the testing dataset : 77  out of 214 or 35.98%\n",
      "Future labels in the testing dataset : 50  out of 214 or 23.36%\n",
      "Present    87\n",
      "Past       77\n",
      "Future     50\n",
      "Name: Label, dtype: int64\n"
     ]
    }
   ],
   "source": [
    "Xy_test = X_test.copy()\n",
    "Xy_test[\"Label\"] = y_test\n",
    "\n",
    "#Testing set label counts and frequency\n",
    "len_test = Xy_test.shape[0]\n",
    "\n",
    "count_of_labels_test = {\"Past\": 0, \"Present\": 0, \"Future\": 0}\n",
    "\n",
    "for temp in temp_orientation_labels:\n",
    "    counts = len(Xy_test[Xy_test[\"Label\"] == temp])\n",
    "    count_of_labels_test[temp] = counts\n",
    "    print(f\"{temp} labels in the testing dataset : {counts}  out of {len_test} or {np.round(((counts/len_test) * 100),2)}%\")\n",
    "\n",
    "\n",
    "count_all_labels_test = Xy_test[\"Label\"].value_counts()\n",
    "print(count_all_labels_test)"
   ]
  },
  {
   "cell_type": "markdown",
   "id": "3d4bbd39-5936-4549-83d9-cc18f4d57d1b",
   "metadata": {
    "tags": []
   },
   "source": [
    "## Feature Engineering and Selection"
   ]
  },
  {
   "cell_type": "markdown",
   "id": "352ad5dd-1a78-4d9c-93e5-d31a9d011a00",
   "metadata": {},
   "source": [
    "**Note: Sample dataset (for feature testing)**"
   ]
  },
  {
   "cell_type": "code",
   "execution_count": 414,
   "id": "f9291aa6-2442-41a7-a51a-27053c38bf03",
   "metadata": {},
   "outputs": [
    {
     "data": {
      "text/html": [
       "<div>\n",
       "<style scoped>\n",
       "    .dataframe tbody tr th:only-of-type {\n",
       "        vertical-align: middle;\n",
       "    }\n",
       "\n",
       "    .dataframe tbody tr th {\n",
       "        vertical-align: top;\n",
       "    }\n",
       "\n",
       "    .dataframe thead th {\n",
       "        text-align: right;\n",
       "    }\n",
       "</style>\n",
       "<table border=\"1\" class=\"dataframe\">\n",
       "  <thead>\n",
       "    <tr style=\"text-align: right;\">\n",
       "      <th></th>\n",
       "      <th>doc</th>\n",
       "      <th>label</th>\n",
       "      <th>clean</th>\n",
       "    </tr>\n",
       "  </thead>\n",
       "  <tbody>\n",
       "    <tr>\n",
       "      <th>0</th>\n",
       "      <td>now to wait for the oxycodone to kick in. if there's anything i have to look forward to in life, it's definitely painkillers. that, and alcohol.</td>\n",
       "      <td>present</td>\n",
       "      <td>now to wait for the oxycodone to kick in if there is anything have to look forward to in life is definitely painkillers and alcohol</td>\n",
       "    </tr>\n",
       "    <tr>\n",
       "      <th>1</th>\n",
       "      <td>I've only been to rehab twice, but both times most of the opiate users were all younger.  I was in my mid-30's and there were a couple other opiate addicts my age, but the vast majority were 18-25.  The women older than me were all there for alcohol.</td>\n",
       "      <td>past</td>\n",
       "      <td>have only been to rehab twice but both times most of the opiate users were all younger was in mid30 is and there were a couple other opiate addicts age but the vast majority were 1825 the women older than were all there for alcohol</td>\n",
       "    </tr>\n",
       "    <tr>\n",
       "      <th>2</th>\n",
       "      <td>I find it helps to change everything. New friends, new hobbies, new routines. Get into a healthy lifestyle. Exercise. Work on mental health stuff, I personally do therapy, some ppl do self help groups.</td>\n",
       "      <td>future</td>\n",
       "      <td>find helps to change everything new friends new hobbies new routines get into a healthy lifestyle exercise work on mental health stuff personally do therapy some ppl do self help groups</td>\n",
       "    </tr>\n",
       "  </tbody>\n",
       "</table>\n",
       "</div>"
      ],
      "text/plain": [
       "                                                                                                                                                                                                                                                          doc  \\\n",
       "0                                                                                                            now to wait for the oxycodone to kick in. if there's anything i have to look forward to in life, it's definitely painkillers. that, and alcohol.   \n",
       "1  I've only been to rehab twice, but both times most of the opiate users were all younger.  I was in my mid-30's and there were a couple other opiate addicts my age, but the vast majority were 18-25.  The women older than me were all there for alcohol.   \n",
       "2                                                   I find it helps to change everything. New friends, new hobbies, new routines. Get into a healthy lifestyle. Exercise. Work on mental health stuff, I personally do therapy, some ppl do self help groups.   \n",
       "\n",
       "     label  \\\n",
       "0  present   \n",
       "1     past   \n",
       "2   future   \n",
       "\n",
       "                                                                                                                                                                                                                                     clean  \n",
       "0                                                                                                      now to wait for the oxycodone to kick in if there is anything have to look forward to in life is definitely painkillers and alcohol  \n",
       "1  have only been to rehab twice but both times most of the opiate users were all younger was in mid30 is and there were a couple other opiate addicts age but the vast majority were 1825 the women older than were all there for alcohol  \n",
       "2                                                find helps to change everything new friends new hobbies new routines get into a healthy lifestyle exercise work on mental health stuff personally do therapy some ppl do self help groups  "
      ]
     },
     "execution_count": 414,
     "metadata": {},
     "output_type": "execute_result"
    }
   ],
   "source": [
    "sents = [\"now to wait for the oxycodone to kick in. if there's anything i have to look forward to in life, it's definitely painkillers. that, and alcohol.\",\n",
    "         \"I've only been to rehab twice, but both times most of the opiate users were all younger.  I was in my mid-30's and there were a couple other opiate addicts my age, but the vast majority were 18-25.  The women older than me were all there for alcohol.\",\n",
    "         \"I find it helps to change everything. New friends, new hobbies, new routines. Get into a healthy lifestyle. Exercise. Work on mental health stuff, I personally do therapy, some ppl do self help groups.\"]\n",
    "\n",
    "labels = [\"present\", \"past\", \"future\"]\n",
    "\n",
    "sample_df = pd.DataFrame({\"doc\": sents, \"label\": labels})\n",
    "\n",
    "\n",
    "sample_df[\"clean\"] = [preprocess_text(x, use_stem=False, use_lemm=False, lst_stopwords=lst_stopwords) for x in sample_df[\"doc\"]]\n",
    "\n",
    "present = sample_df[\"clean\"][0]\n",
    "past = sample_df[\"clean\"][1]\n",
    "future = sample_df[\"clean\"][2]\n",
    "\n",
    "\n",
    "# label = sample_df[\"label\"]\n",
    "# sample_df.drop(columns=\"label\", inplace=True)\n",
    "\n",
    "# sample_df[\"label\"] = label\n",
    "sample_df"
   ]
  },
  {
   "cell_type": "markdown",
   "id": "82e1b1f0-efb6-44c7-bbb8-6d67e5a87828",
   "metadata": {},
   "source": [
    "### 1. TF-IDF"
   ]
  },
  {
   "cell_type": "code",
   "execution_count": 413,
   "id": "259aa802-6e2a-4695-aa46-7409a4007e5b",
   "metadata": {},
   "outputs": [
    {
     "data": {
      "text/html": [
       "<div>\n",
       "<style scoped>\n",
       "    .dataframe tbody tr th:only-of-type {\n",
       "        vertical-align: middle;\n",
       "    }\n",
       "\n",
       "    .dataframe tbody tr th {\n",
       "        vertical-align: top;\n",
       "    }\n",
       "\n",
       "    .dataframe thead th {\n",
       "        text-align: right;\n",
       "    }\n",
       "</style>\n",
       "<table border=\"1\" class=\"dataframe\">\n",
       "  <thead>\n",
       "    <tr style=\"text-align: right;\">\n",
       "      <th></th>\n",
       "      <th>doc</th>\n",
       "      <th>clean</th>\n",
       "      <th>label</th>\n",
       "    </tr>\n",
       "  </thead>\n",
       "  <tbody>\n",
       "    <tr>\n",
       "      <th>0</th>\n",
       "      <td>2</td>\n",
       "      <td>2</td>\n",
       "      <td>2</td>\n",
       "    </tr>\n",
       "    <tr>\n",
       "      <th>1</th>\n",
       "      <td>1</td>\n",
       "      <td>1</td>\n",
       "      <td>1</td>\n",
       "    </tr>\n",
       "    <tr>\n",
       "      <th>2</th>\n",
       "      <td>0</td>\n",
       "      <td>0</td>\n",
       "      <td>0</td>\n",
       "    </tr>\n",
       "  </tbody>\n",
       "</table>\n",
       "</div>"
      ],
      "text/plain": [
       "   doc  clean  label\n",
       "0    2      2      2\n",
       "1    1      1      1\n",
       "2    0      0      0"
      ]
     },
     "execution_count": 413,
     "metadata": {},
     "output_type": "execute_result"
    }
   ],
   "source": [
    "sample_df"
   ]
  },
  {
   "cell_type": "code",
   "execution_count": null,
   "id": "831978d1-5d05-47f9-bbcb-66fd7459b95c",
   "metadata": {},
   "outputs": [],
   "source": []
  },
  {
   "cell_type": "code",
   "execution_count": 424,
   "id": "bf2052fd-3460-48c4-bbfe-7f3726f33599",
   "metadata": {},
   "outputs": [
    {
     "data": {
      "text/html": [
       "<div>\n",
       "<style scoped>\n",
       "    .dataframe tbody tr th:only-of-type {\n",
       "        vertical-align: middle;\n",
       "    }\n",
       "\n",
       "    .dataframe tbody tr th {\n",
       "        vertical-align: top;\n",
       "    }\n",
       "\n",
       "    .dataframe thead th {\n",
       "        text-align: right;\n",
       "    }\n",
       "</style>\n",
       "<table border=\"1\" class=\"dataframe\">\n",
       "  <thead>\n",
       "    <tr style=\"text-align: right;\">\n",
       "      <th></th>\n",
       "      <th>neg_polarity</th>\n",
       "      <th>neu_polarity</th>\n",
       "      <th>pos_polarity</th>\n",
       "      <th>com_polarity</th>\n",
       "      <th>subjectivity</th>\n",
       "      <th>count_time_expressions</th>\n",
       "      <th>futuristic</th>\n",
       "      <th>past</th>\n",
       "      <th>past present</th>\n",
       "      <th>present</th>\n",
       "      <th>...</th>\n",
       "      <th>undetermined</th>\n",
       "      <th>interjections</th>\n",
       "      <th>nouns</th>\n",
       "      <th>adverb</th>\n",
       "      <th>verb</th>\n",
       "      <th>determiner</th>\n",
       "      <th>pronoun</th>\n",
       "      <th>adjetive</th>\n",
       "      <th>preposition</th>\n",
       "      <th>label</th>\n",
       "    </tr>\n",
       "  </thead>\n",
       "  <tbody>\n",
       "    <tr>\n",
       "      <th>0</th>\n",
       "      <td>0.082</td>\n",
       "      <td>0.760</td>\n",
       "      <td>0.158</td>\n",
       "      <td>0.3826</td>\n",
       "      <td>0.80</td>\n",
       "      <td>0</td>\n",
       "      <td>0</td>\n",
       "      <td>0</td>\n",
       "      <td>0</td>\n",
       "      <td>0</td>\n",
       "      <td>...</td>\n",
       "      <td>0</td>\n",
       "      <td>0</td>\n",
       "      <td>10</td>\n",
       "      <td>1</td>\n",
       "      <td>4</td>\n",
       "      <td>1</td>\n",
       "      <td>0</td>\n",
       "      <td>1</td>\n",
       "      <td>4</td>\n",
       "      <td>Present</td>\n",
       "    </tr>\n",
       "    <tr>\n",
       "      <th>1</th>\n",
       "      <td>0.250</td>\n",
       "      <td>0.750</td>\n",
       "      <td>0.000</td>\n",
       "      <td>-0.4588</td>\n",
       "      <td>0.60</td>\n",
       "      <td>0</td>\n",
       "      <td>0</td>\n",
       "      <td>0</td>\n",
       "      <td>0</td>\n",
       "      <td>0</td>\n",
       "      <td>...</td>\n",
       "      <td>0</td>\n",
       "      <td>0</td>\n",
       "      <td>11</td>\n",
       "      <td>0</td>\n",
       "      <td>1</td>\n",
       "      <td>0</td>\n",
       "      <td>0</td>\n",
       "      <td>0</td>\n",
       "      <td>0</td>\n",
       "      <td>Past</td>\n",
       "    </tr>\n",
       "    <tr>\n",
       "      <th>2</th>\n",
       "      <td>0.000</td>\n",
       "      <td>1.000</td>\n",
       "      <td>0.000</td>\n",
       "      <td>0.0000</td>\n",
       "      <td>0.00</td>\n",
       "      <td>0</td>\n",
       "      <td>0</td>\n",
       "      <td>0</td>\n",
       "      <td>0</td>\n",
       "      <td>0</td>\n",
       "      <td>...</td>\n",
       "      <td>0</td>\n",
       "      <td>0</td>\n",
       "      <td>1</td>\n",
       "      <td>3</td>\n",
       "      <td>2</td>\n",
       "      <td>0</td>\n",
       "      <td>0</td>\n",
       "      <td>0</td>\n",
       "      <td>0</td>\n",
       "      <td>Future</td>\n",
       "    </tr>\n",
       "    <tr>\n",
       "      <th>3</th>\n",
       "      <td>0.094</td>\n",
       "      <td>0.906</td>\n",
       "      <td>0.000</td>\n",
       "      <td>-0.3400</td>\n",
       "      <td>0.90</td>\n",
       "      <td>2</td>\n",
       "      <td>0</td>\n",
       "      <td>0</td>\n",
       "      <td>0</td>\n",
       "      <td>0</td>\n",
       "      <td>...</td>\n",
       "      <td>0</td>\n",
       "      <td>0</td>\n",
       "      <td>7</td>\n",
       "      <td>0</td>\n",
       "      <td>5</td>\n",
       "      <td>1</td>\n",
       "      <td>0</td>\n",
       "      <td>4</td>\n",
       "      <td>1</td>\n",
       "      <td>Present</td>\n",
       "    </tr>\n",
       "    <tr>\n",
       "      <th>4</th>\n",
       "      <td>0.122</td>\n",
       "      <td>0.718</td>\n",
       "      <td>0.160</td>\n",
       "      <td>0.1779</td>\n",
       "      <td>0.23</td>\n",
       "      <td>0</td>\n",
       "      <td>0</td>\n",
       "      <td>0</td>\n",
       "      <td>0</td>\n",
       "      <td>1</td>\n",
       "      <td>...</td>\n",
       "      <td>0</td>\n",
       "      <td>0</td>\n",
       "      <td>4</td>\n",
       "      <td>1</td>\n",
       "      <td>1</td>\n",
       "      <td>2</td>\n",
       "      <td>0</td>\n",
       "      <td>1</td>\n",
       "      <td>3</td>\n",
       "      <td>Present</td>\n",
       "    </tr>\n",
       "    <tr>\n",
       "      <th>...</th>\n",
       "      <td>...</td>\n",
       "      <td>...</td>\n",
       "      <td>...</td>\n",
       "      <td>...</td>\n",
       "      <td>...</td>\n",
       "      <td>...</td>\n",
       "      <td>...</td>\n",
       "      <td>...</td>\n",
       "      <td>...</td>\n",
       "      <td>...</td>\n",
       "      <td>...</td>\n",
       "      <td>...</td>\n",
       "      <td>...</td>\n",
       "      <td>...</td>\n",
       "      <td>...</td>\n",
       "      <td>...</td>\n",
       "      <td>...</td>\n",
       "      <td>...</td>\n",
       "      <td>...</td>\n",
       "      <td>...</td>\n",
       "      <td>...</td>\n",
       "    </tr>\n",
       "    <tr>\n",
       "      <th>643</th>\n",
       "      <td>0.135</td>\n",
       "      <td>0.715</td>\n",
       "      <td>0.149</td>\n",
       "      <td>0.0855</td>\n",
       "      <td>0.70</td>\n",
       "      <td>1</td>\n",
       "      <td>0</td>\n",
       "      <td>1</td>\n",
       "      <td>0</td>\n",
       "      <td>0</td>\n",
       "      <td>...</td>\n",
       "      <td>0</td>\n",
       "      <td>0</td>\n",
       "      <td>5</td>\n",
       "      <td>2</td>\n",
       "      <td>2</td>\n",
       "      <td>2</td>\n",
       "      <td>0</td>\n",
       "      <td>2</td>\n",
       "      <td>1</td>\n",
       "      <td>Past</td>\n",
       "    </tr>\n",
       "    <tr>\n",
       "      <th>644</th>\n",
       "      <td>0.000</td>\n",
       "      <td>0.909</td>\n",
       "      <td>0.091</td>\n",
       "      <td>0.4019</td>\n",
       "      <td>0.80</td>\n",
       "      <td>1</td>\n",
       "      <td>0</td>\n",
       "      <td>0</td>\n",
       "      <td>0</td>\n",
       "      <td>0</td>\n",
       "      <td>...</td>\n",
       "      <td>0</td>\n",
       "      <td>0</td>\n",
       "      <td>9</td>\n",
       "      <td>2</td>\n",
       "      <td>3</td>\n",
       "      <td>2</td>\n",
       "      <td>0</td>\n",
       "      <td>1</td>\n",
       "      <td>7</td>\n",
       "      <td>Present</td>\n",
       "    </tr>\n",
       "    <tr>\n",
       "      <th>645</th>\n",
       "      <td>0.432</td>\n",
       "      <td>0.568</td>\n",
       "      <td>0.000</td>\n",
       "      <td>-0.9403</td>\n",
       "      <td>0.54</td>\n",
       "      <td>0</td>\n",
       "      <td>0</td>\n",
       "      <td>0</td>\n",
       "      <td>0</td>\n",
       "      <td>0</td>\n",
       "      <td>...</td>\n",
       "      <td>0</td>\n",
       "      <td>0</td>\n",
       "      <td>11</td>\n",
       "      <td>1</td>\n",
       "      <td>2</td>\n",
       "      <td>1</td>\n",
       "      <td>0</td>\n",
       "      <td>3</td>\n",
       "      <td>1</td>\n",
       "      <td>Present</td>\n",
       "    </tr>\n",
       "    <tr>\n",
       "      <th>646</th>\n",
       "      <td>0.240</td>\n",
       "      <td>0.760</td>\n",
       "      <td>0.000</td>\n",
       "      <td>-0.7184</td>\n",
       "      <td>0.00</td>\n",
       "      <td>0</td>\n",
       "      <td>0</td>\n",
       "      <td>0</td>\n",
       "      <td>0</td>\n",
       "      <td>0</td>\n",
       "      <td>...</td>\n",
       "      <td>0</td>\n",
       "      <td>0</td>\n",
       "      <td>7</td>\n",
       "      <td>0</td>\n",
       "      <td>3</td>\n",
       "      <td>2</td>\n",
       "      <td>0</td>\n",
       "      <td>1</td>\n",
       "      <td>0</td>\n",
       "      <td>Past</td>\n",
       "    </tr>\n",
       "    <tr>\n",
       "      <th>647</th>\n",
       "      <td>0.278</td>\n",
       "      <td>0.595</td>\n",
       "      <td>0.126</td>\n",
       "      <td>-0.6542</td>\n",
       "      <td>0.59</td>\n",
       "      <td>2</td>\n",
       "      <td>0</td>\n",
       "      <td>0</td>\n",
       "      <td>0</td>\n",
       "      <td>2</td>\n",
       "      <td>...</td>\n",
       "      <td>0</td>\n",
       "      <td>0</td>\n",
       "      <td>6</td>\n",
       "      <td>2</td>\n",
       "      <td>2</td>\n",
       "      <td>1</td>\n",
       "      <td>0</td>\n",
       "      <td>2</td>\n",
       "      <td>3</td>\n",
       "      <td>Present</td>\n",
       "    </tr>\n",
       "  </tbody>\n",
       "</table>\n",
       "<p>648 rows × 21 columns</p>\n",
       "</div>"
      ],
      "text/plain": [
       "     neg_polarity  neu_polarity  pos_polarity  com_polarity  subjectivity  \\\n",
       "0           0.082         0.760         0.158        0.3826          0.80   \n",
       "1           0.250         0.750         0.000       -0.4588          0.60   \n",
       "2           0.000         1.000         0.000        0.0000          0.00   \n",
       "3           0.094         0.906         0.000       -0.3400          0.90   \n",
       "4           0.122         0.718         0.160        0.1779          0.23   \n",
       "..            ...           ...           ...           ...           ...   \n",
       "643         0.135         0.715         0.149        0.0855          0.70   \n",
       "644         0.000         0.909         0.091        0.4019          0.80   \n",
       "645         0.432         0.568         0.000       -0.9403          0.54   \n",
       "646         0.240         0.760         0.000       -0.7184          0.00   \n",
       "647         0.278         0.595         0.126       -0.6542          0.59   \n",
       "\n",
       "     count_time_expressions  futuristic  past  past present  present  ...  \\\n",
       "0                         0           0     0             0        0  ...   \n",
       "1                         0           0     0             0        0  ...   \n",
       "2                         0           0     0             0        0  ...   \n",
       "3                         2           0     0             0        0  ...   \n",
       "4                         0           0     0             0        1  ...   \n",
       "..                      ...         ...   ...           ...      ...  ...   \n",
       "643                       1           0     1             0        0  ...   \n",
       "644                       1           0     0             0        0  ...   \n",
       "645                       0           0     0             0        0  ...   \n",
       "646                       0           0     0             0        0  ...   \n",
       "647                       2           0     0             0        2  ...   \n",
       "\n",
       "     undetermined  interjections  nouns  adverb  verb  determiner  pronoun  \\\n",
       "0               0              0     10       1     4           1        0   \n",
       "1               0              0     11       0     1           0        0   \n",
       "2               0              0      1       3     2           0        0   \n",
       "3               0              0      7       0     5           1        0   \n",
       "4               0              0      4       1     1           2        0   \n",
       "..            ...            ...    ...     ...   ...         ...      ...   \n",
       "643             0              0      5       2     2           2        0   \n",
       "644             0              0      9       2     3           2        0   \n",
       "645             0              0     11       1     2           1        0   \n",
       "646             0              0      7       0     3           2        0   \n",
       "647             0              0      6       2     2           1        0   \n",
       "\n",
       "     adjetive  preposition    label  \n",
       "0           1            4  Present  \n",
       "1           0            0     Past  \n",
       "2           0            0   Future  \n",
       "3           4            1  Present  \n",
       "4           1            3  Present  \n",
       "..        ...          ...      ...  \n",
       "643         2            1     Past  \n",
       "644         1            7  Present  \n",
       "645         3            1  Present  \n",
       "646         1            0     Past  \n",
       "647         2            3  Present  \n",
       "\n",
       "[648 rows x 21 columns]"
      ]
     },
     "execution_count": 424,
     "metadata": {},
     "output_type": "execute_result"
    }
   ],
   "source": []
  },
  {
   "cell_type": "code",
   "execution_count": 429,
   "id": "dbd90234-291d-4890-8869-46f38695fc41",
   "metadata": {},
   "outputs": [],
   "source": [
    "## Tf-Idf (advanced variant of BoW)\n",
    "def get_tfidf_matrix(df): \n",
    "    vectorizer = TfidfVectorizer(max_features=10000, ngram_range=(1,2))\n",
    "    df_y = df[\"label\"]\n",
    "    corpus = df[\"clean\"]\n",
    "\n",
    "    vectorizer.fit(corpus)\n",
    "    X_tfidf = vectorizer.transform(corpus)\n",
    "    dic_vocabulary = vectorizer.vocabulary_\n",
    "    \n",
    "    ## Get most significant scorings through chi-squared\n",
    "    X_names = vectorizer.get_feature_names_out()\n",
    "    p_value_limit = 0.80\n",
    "    dtf_features = pd.DataFrame()\n",
    "    for cat in np.unique(df_y):\n",
    "        chi2, p = feature_selection.chi2(X_tfidf, df_y==cat)\n",
    "        dtf_features = dtf_features.append(pd.DataFrame(\n",
    "                       {\"feature\":X_names, \"score\":1-p, \"label\":cat}))\n",
    "        dtf_features = dtf_features.sort_values([\"label\",\"score\"], \n",
    "                        ascending=[True,False])\n",
    "        dtf_features = dtf_features[dtf_features[\"score\"]>p_value_limit]\n",
    "    X_names = dtf_features[\"feature\"].unique().tolist()\n",
    "    \n",
    "    \n",
    "    # refit tfidf\n",
    "    vectorizer = feature_extraction.text.TfidfVectorizer(vocabulary=X_names)\n",
    "    vectorizer.fit(corpus)\n",
    "    X_tfidf = vectorizer.transform(corpus)\n",
    "    dic_vocabulary = vectorizer.vocabulary_\n",
    "\n",
    "    tfidf_matrix = pd.DataFrame(X_tfidf.toarray(), columns=vectorizer.get_feature_names_out())\n",
    "    \n",
    "    return tfidf_matrix\n",
    "\n",
    "# get_tfidf_matrix(posts_df)"
   ]
  },
  {
   "cell_type": "markdown",
   "id": "761f64bc-0440-4d18-b2ac-4577d3b692db",
   "metadata": {},
   "source": [
    "### 2. Polarity + Subjectivity Scores"
   ]
  },
  {
   "cell_type": "code",
   "execution_count": 39,
   "id": "08f35e12-9060-47c3-9b57-a32fcbd99c07",
   "metadata": {},
   "outputs": [],
   "source": [
    "polarity_score_list = ['neg', 'neu', 'pos', 'compound', 'subjectivity']\n",
    "\n",
    "def get_polarity_subjectivity_scores(text):\n",
    "    subjectivity = np.round(TextBlob(text).sentiment.subjectivity,2)\n",
    "    sid = SentimentIntensityAnalyzer()\n",
    "    scores = sid.polarity_scores(text)\n",
    "    scores = list(scores.values())\n",
    "    scores.append(subjectivity)\n",
    "    \n",
    "    return tuple(scores)\n",
    "\n",
    "# get_polarity_subjectivity_scores(present)"
   ]
  },
  {
   "cell_type": "markdown",
   "id": "a946798b-e98b-46e7-9c7b-540c73b31617",
   "metadata": {},
   "source": [
    "### 3. Time Expression Count"
   ]
  },
  {
   "cell_type": "code",
   "execution_count": 41,
   "id": "7e35d12a-bb66-4520-b9be-e1d7f3d72ab3",
   "metadata": {},
   "outputs": [],
   "source": [
    "temporal_types = [\"DATE\", \"TIME\", \"DURATION\", \"SET\"]\n",
    "\n",
    "def count_time_expressions(text):\n",
    "    ner_list = {\"DATE\": [], \"TIME\": [], \"DURATION\":[], \"SET\":[]}\n",
    "    ner = nlp.annotate(text, properties={\n",
    "    'annotators': 'ner',\n",
    "    'outputFormat': 'json'\n",
    "    })\n",
    "    ner = json.loads(ner)\n",
    "    # print(ner)\n",
    "    if len(ner['sentences'][0]['entitymentions'])!= 0:\n",
    "        for ner_token_dict in  ner['sentences'][0]['entitymentions']:\n",
    "            if ner_token_dict['ner'] in temporal_types:\n",
    "                # print(ner[\"sentences\"][0][\"entitymentions\"])\n",
    "                ner_list[ner_token_dict[\"ner\"]].append(ner_token_dict['text'])\n",
    "                \n",
    "    dates = len(ner_list[\"DATE\"])\n",
    "    time = len(ner_list[\"TIME\"])\n",
    "    duration = len(ner_list[\"DURATION\"])\n",
    "    sets = len(ner_list[\"SET\"])\n",
    "    \n",
    "    total_count = dates + time + duration + sets\n",
    "        \n",
    "    return total_count\n",
    "\n",
    "# count_time_expressions(present)"
   ]
  },
  {
   "cell_type": "markdown",
   "id": "4a66d476-c441-4f8c-833e-7c8913be0730",
   "metadata": {},
   "source": [
    "### 4. Temporal Modifiers (Adj and Adv) Count"
   ]
  },
  {
   "cell_type": "code",
   "execution_count": 42,
   "id": "08d16b1c-3852-4d91-9d3f-642affd68cb5",
   "metadata": {},
   "outputs": [],
   "source": [
    "lst_types_modifiers = [\"futuristic\", \"past\", \"past present\", \"present\", \"present futuristic\", \"undetermined\"]\n",
    "\n",
    "lst_futuristic_modifiers = ['eventually', 'finally', 'later', 'next', 'soon', 'yet', 'forward', 'future']\n",
    "lst_past_modifiers = ['then', 'before', 'formerly', 'last', 'late', 'previously', 'past', 'former']\n",
    "lst_past_present_modifiers = ['yesterday', 'already', 'early', 'earlier', 'since', 'earlier']\n",
    "lst_present_modifiers = ['now', 'today', 'just', 'lately', 'recently', 'still', 'present', 'every day', 'current']\n",
    "lst_present_futuristic_modifiers = [\"tomorrow\", \"tonight\", \"later\"]\n",
    "lst_undetermined_modifiers = ['daily', 'fortnightly', 'hourly', 'monthly', 'nightly', 'quarterly', 'weekly', 'yearly', 'always', 'constantly', 'ever', 'frequently', 'generally', 'infrequently', 'never', 'normally', 'occasionally', 'often', 'rarely', 'regularly']\n",
    "\n",
    "lst_modifiers = [lst_futuristic_modifiers,\n",
    "                 lst_past_modifiers,\n",
    "                 lst_past_present_modifiers,\n",
    "                 lst_present_modifiers,\n",
    "                 lst_present_futuristic_modifiers,\n",
    "                 lst_undetermined_modifiers\n",
    "                ]\n",
    "\n",
    "dict_modifiers = {}\n",
    "for i in range(len(lst_types_modifiers)):\n",
    "    dict_modifiers[lst_types_modifiers[i]] = lst_modifiers[i]"
   ]
  },
  {
   "cell_type": "code",
   "execution_count": 43,
   "id": "778a0d64-a141-4d73-8cfd-efce18d2b78f",
   "metadata": {},
   "outputs": [],
   "source": [
    "def count_temporal_modifiers(tokens):\n",
    "    # tokens = text.split()\n",
    "    token_mods = []\n",
    "    \n",
    "    for i in tokens:\n",
    "        for k,v in dict_modifiers.items():\n",
    "            if i in v:\n",
    "                token_mods.append((i, k))\n",
    "    \n",
    "    count = Counter(tag for word,tag in token_mods)\n",
    "    c_futuristic = count[\"futuristic\"]\n",
    "    c_past = count[\"past\"]\n",
    "    c_past_present = count[\"past present\"]\n",
    "    c_present = count[\"present\"]\n",
    "    c_present_futuristic = count[\"present futuristic\"]\n",
    "    c_undetermined = count[\"undertermined\"]\n",
    "    # print(count)\n",
    "    return c_futuristic, c_past, c_past_present, c_present, c_present_futuristic, c_undetermined\n",
    "\n",
    "# print(count_temporal_modifiers(present))\n",
    "\n",
    "def mod_tag_extraction(dataframe, field, func, column_names):\n",
    "    return pd.concat((\n",
    "        dataframe,\n",
    "        dataframe[field].apply(\n",
    "            lambda cell: pd.Series(func(cell), index=column_names))), axis=1)"
   ]
  },
  {
   "cell_type": "markdown",
   "id": "91565908-36cc-418f-b98a-b685ee20af4a",
   "metadata": {},
   "source": [
    "### 5. Part of Speech Tag"
   ]
  },
  {
   "cell_type": "code",
   "execution_count": 45,
   "id": "9b1a38ac-8320-4893-84a3-943930502dae",
   "metadata": {},
   "outputs": [],
   "source": [
    "def count_pos_tags(tokens):\n",
    "    token_pos = nltk.pos_tag(tokens)\n",
    "    count = Counter(tag for word,tag in token_pos)\n",
    "    interjections =  count['UH']\n",
    "    nouns = count['NN'] + count['NNS'] + count['NNP'] + count['NNPS']\n",
    "    adverb = count['RB'] + count['RBS'] + count['RBR']\n",
    "    verb = count['VB'] + count['VBD'] + count['VBG'] + count['VBN']\n",
    "    determiner = count['DT']\n",
    "    pronoun = count['PRP']\n",
    "    adjetive = count['JJ'] + count['JJR'] + count['JJS']\n",
    "    preposition = count['IN']\n",
    "    return interjections, nouns, adverb, verb, determiner, pronoun, adjetive,preposition\n",
    "\n",
    "def pos_tag_extraction(dataframe, field, func, column_names):\n",
    "    return pd.concat((\n",
    "        dataframe,\n",
    "        dataframe[field].apply(\n",
    "            lambda cell: pd.Series(func(cell), index=column_names))), axis=1)"
   ]
  },
  {
   "cell_type": "markdown",
   "id": "495ed347-1192-4b64-9c66-19d0f5390e9e",
   "metadata": {},
   "source": [
    "### 6. Word Embeddings"
   ]
  },
  {
   "cell_type": "code",
   "execution_count": 446,
   "id": "83efdfa2-fdc0-41f8-ba9b-128c1812ee03",
   "metadata": {},
   "outputs": [],
   "source": [
    "# Load the w2v dict from pickle file\n",
    "\n",
    "## Model 1: All X feature set model\n",
    "with open('./embeddings/embeddings_model1.pkl', 'rb') as model1:\n",
    "    w2v_1 = pickle.load(model1)\n",
    "\n",
    "## Model 2: Train-only w2v model\n",
    "with open('./embeddings/embeddings_model2.pkl', 'rb') as model2:\n",
    "    w2v_2 = pickle.load(model2)"
   ]
  },
  {
   "cell_type": "code",
   "execution_count": 447,
   "id": "78ee7295-c7db-44db-b91e-57ea323420f1",
   "metadata": {},
   "outputs": [
    {
     "name": "stdout",
     "output_type": "stream",
     "text": [
      "length of word embeddings 3009\n",
      "length of word embeddings 2406\n"
     ]
    }
   ],
   "source": [
    "print(f'length of word embeddings {len(w2v_1.wv.key_to_index.keys())}')\n",
    "print(f'length of word embeddings {len(w2v_2.wv.key_to_index.keys())}')"
   ]
  },
  {
   "cell_type": "code",
   "execution_count": 448,
   "id": "72eff4c0-02cb-4234-95a4-77c7f096072d",
   "metadata": {
    "scrolled": true,
    "tags": []
   },
   "outputs": [],
   "source": [
    "# Get the vectors for the essay\n",
    "def add_vectors_to_features(df, model):\n",
    "    \n",
    "    ## tokenize\n",
    "    df[\"tokens\"] = [text.split() for text in df[\"clean\"]]\n",
    "    \n",
    "    w2v_df = pd.DataFrame()\n",
    "    \n",
    "       # append word embeddings\n",
    "    vect_arr = [vectorizer(i, model) for i in df.tokens]\n",
    "    \n",
    "    for index in range(0, len(vect_arr)):\n",
    "        i = 0\n",
    "        for item in vect_arr[index]:\n",
    "            column_name= \"embedding\" + str(i)\n",
    "            w2v_df.loc[index, column_name] = item\n",
    "            i +=1\n",
    "    \n",
    "    w2v_matrix = w2v_df.copy()\n",
    "            \n",
    "    return w2v_matrix\n",
    "\n",
    "def vectorizer(sequence, model):\n",
    "    vect = []\n",
    "    numw = 0\n",
    "    for w in sequence: \n",
    "        try :\n",
    "            if numw == 0:\n",
    "                vect = model.wv[w]\n",
    "            else:\n",
    "                vect = np.add(vect, model.wv[w])\n",
    "            numw += 1\n",
    "        except Exception as e:\n",
    "            pass\n",
    "    return np.divide(vect, numw)"
   ]
  },
  {
   "cell_type": "markdown",
   "id": "f3cfbb96-6dd5-4868-976a-19bd2d97aea9",
   "metadata": {},
   "source": [
    "### Feature Engineering Wrapper"
   ]
  },
  {
   "cell_type": "code",
   "execution_count": 435,
   "id": "44203d08-ea94-4687-95b2-43fa5512c2a0",
   "metadata": {},
   "outputs": [],
   "source": [
    "def engineer_features(df):\n",
    "    \n",
    "    \"\"\"\n",
    "    Output: A simple engineered df, the w2v_df, the tfidf_df\n",
    "    \"\"\"\n",
    "    \n",
    "    ## tokenize\n",
    "    df[\"tokens\"] = [x.split() for x in df[\"clean\"]]\n",
    "    \n",
    "    ## get polarity and subjectivity scores\n",
    "    df[\"neg_polarity\"], df[\"neu_polarity\"], df[\"pos_polarity\"], df[\"com_polarity\"], df[\"subjectivity\"] = zip(*df[\"doc\"].apply(get_polarity_subjectivity_scores))\n",
    "    \n",
    "    ## count time expressions\n",
    "    df[\"count_time_expressions\"] = [count_time_expressions(x) for x in df[\"clean\"]]\n",
    "    \n",
    "    ## count temporal modifiers\n",
    "    df = mod_tag_extraction(df, 'tokens', count_temporal_modifiers, lst_types_modifiers)\n",
    "    \n",
    "    ## count general part of speech (pos-tagging)\n",
    "    df = pos_tag_extraction(df, 'tokens', count_pos_tags, ['interjections', 'nouns', 'adverb', 'verb', 'determiner', 'pronoun', 'adjetive','preposition'])\n",
    "\n",
    "    return df\n",
    "    \n",
    "    "
   ]
  },
  {
   "cell_type": "code",
   "execution_count": 436,
   "id": "82c19dfd-62bd-4600-aaee-4e882b2d83d7",
   "metadata": {},
   "outputs": [],
   "source": [
    "## get simple features\n",
    "eposts_df = engineer_features(posts_df)"
   ]
  },
  {
   "cell_type": "code",
   "execution_count": 449,
   "id": "39f2c0ab-be67-468c-babd-1b53f0f0df51",
   "metadata": {},
   "outputs": [],
   "source": [
    "## get tfidf matrix\n",
    "tfidf_df = get_tfidf_matrix(posts_df)"
   ]
  },
  {
   "cell_type": "code",
   "execution_count": 450,
   "id": "84bb9c76-aa87-4a5b-b083-4a0725155ea6",
   "metadata": {},
   "outputs": [
    {
     "name": "stderr",
     "output_type": "stream",
     "text": [
      "/Users/gbaldonado/opt/anaconda3/lib/python3.9/site-packages/pandas/core/indexing.py:1684: PerformanceWarning: DataFrame is highly fragmented.  This is usually the result of calling `frame.insert` many times, which has poor performance.  Consider joining all columns at once using pd.concat(axis=1) instead.  To get a de-fragmented frame, use `newframe = frame.copy()`\n",
      "  self.obj[key] = infer_fill_value(value)\n"
     ]
    }
   ],
   "source": [
    "## get w2v\n",
    "w2v_df = add_vectors_to_features(posts_df,w2v_1)"
   ]
  },
  {
   "cell_type": "code",
   "execution_count": 452,
   "id": "b4a51393-d0c9-4751-bbe3-3bf99ffa0720",
   "metadata": {},
   "outputs": [],
   "source": [
    "## Feature 0: (Simple Features) Polarity + Subjectivity Score, Count of Temporal Expressions, Count of Temporal Modifiers, POS Tags\n",
    "features_0 = eposts_df.copy()\n",
    "\n",
    "## Feature 1: (All features) simple_features + tfidf + w2v\n",
    "features_1 = pd.concat([eposts_df, tfidf_df, w2v_df], axis=1)\n",
    "\n",
    "## Feature 2: Simple + w2v\n",
    "features_2 = pd.concat([eposts_df, w2v_df], axis=1)\n",
    "\n",
    "## Feature 3: Simple + tfidf\n",
    "features_3 = pd.concat([eposts_df, tfidf_df], axis=1)"
   ]
  },
  {
   "cell_type": "code",
   "execution_count": 578,
   "id": "4b7ed84f-9311-44d6-a4d1-214981142a0b",
   "metadata": {},
   "outputs": [
    {
     "data": {
      "text/plain": [
       "(648, 371)"
      ]
     },
     "execution_count": 578,
     "metadata": {},
     "output_type": "execute_result"
    }
   ],
   "source": [
    "features_1.shape"
   ]
  },
  {
   "cell_type": "markdown",
   "id": "99e67d97-f240-45fa-99b1-01589a519aef",
   "metadata": {
    "tags": []
   },
   "source": [
    "## Models and Evaluation"
   ]
  },
  {
   "cell_type": "markdown",
   "id": "fd7030e2-afbd-4244-89d9-6ce3e3c04bf3",
   "metadata": {
    "tags": []
   },
   "source": [
    "### Training and evaluation functions"
   ]
  },
  {
   "cell_type": "code",
   "execution_count": 284,
   "id": "cca278ce-32ee-48a6-818d-2f59e64ac1cc",
   "metadata": {},
   "outputs": [],
   "source": [
    "def encode_categorical_feat(df):\n",
    "    \"\"\"\n",
    "    Encode categorical features of a dataframe. Returns a new, encoded dataframe.\n",
    "    :param: df, the dataframe to be encoded\n",
    "    \"\"\"\n",
    "    \n",
    "    new_df = df.copy()\n",
    "    categorical_feats = []\n",
    "    \n",
    "    # rearrange label to the end of the dataframe\n",
    "    label = new_df[\"label\"]\n",
    "    new_df.drop(columns=\"label\", inplace=True)\n",
    "    new_df[\"label\"] = label\n",
    "    \n",
    "    for i in new_df.columns:\n",
    "        if type(new_df[i][0]) == str:\n",
    "            categorical_feats.append(i)\n",
    "    \n",
    "    for i in categorical_feats:\n",
    "        new_df[i] = le.fit_transform(df[i])\n",
    "  \n",
    "    \n",
    "    name_mapping = dict(zip(le.classes_, le.transform(le.classes_)))\n",
    "    print(\"Label mapping\", name_mapping)\n",
    " \n",
    "    return new_df\n",
    "\n",
    "def scale(df_no_label):\n",
    "    df_names = df_no_label.columns\n",
    "    \n",
    "    scaler = preprocessing.MinMaxScaler()\n",
    "    scaler.fit(df_no_label)\n",
    "    df_scaled = scaler.transform(df_no_label)\n",
    "    df_no_label = pd.DataFrame(df_scaled, columns=df_names)\n",
    "    \n",
    "    return df_no_label\n",
    "\n",
    "def train_test(engineered_df, scale_enabled=False, encode_enabled=False):\n",
    "    y = engineered_df[\"label\"]\n",
    "    X = engineered_df.drop(columns=[\"label\",\"doc\", \"clean\", \"tokens\"], axis=1)\n",
    "   \n",
    "    \n",
    "    if scale_enabled == True:\n",
    "        X = scale(X)\n",
    "        \n",
    "            \n",
    "    if encode_enabled == True:\n",
    "        encoded_df = encode_categorical_feat(engineered_df)\n",
    "        y = encoded_df[\"label\"]\n",
    "        \n",
    "    X_train, X_test, y_train, y_test = train_test_split(X, y, test_size = 0.33, random_state=42)\n",
    "\n",
    "    X_train.reset_index(inplace=True, drop=True)\n",
    "    X_test.reset_index(inplace=True, drop=True)\n",
    "    y_train.reset_index(inplace=True, drop=True)\n",
    "    y_test.reset_index(inplace=True, drop=True)\n",
    "    \n",
    "    print(\"Successfully created train and test sets.\")\n",
    "    \n",
    "    return X, y, X_train, y_train, X_test, y_test"
   ]
  },
  {
   "cell_type": "code",
   "execution_count": 409,
   "id": "6b187d1f-93ac-40d2-8ecb-8773c2b8700c",
   "metadata": {
    "scrolled": true,
    "tags": []
   },
   "outputs": [],
   "source": [
    "def evaluate_random_forest(rf, X_train_df, y_train_df, X_test_df, y_test_df, name=None):\n",
    "    print(f'Evaluation Random Forest Classifier: {name}')\n",
    "    \n",
    "\n",
    "    y_pred = rf.predict(X_test_df)\n",
    "\n",
    "    cm = confusion_matrix(y_test_df, y_pred)\n",
    "    print('-' * 80)\n",
    "    print(\"Mean accuracy score on training set\", rf.score(X_train_df, y_train_df))\n",
    "    print(\"Mean accuracy score on test set\", rf.score(X_test_df, y_test_df))\n",
    "    disp = ConfusionMatrixDisplay(confusion_matrix=cm, display_labels=list(label_mapping.keys()))\n",
    "    disp.plot()\n",
    "    plt.show()\n",
    "    print(classification_report(y_test_df, y_pred))\n",
    "    \n",
    "    return y_pred\n",
    "\n",
    "def evaluate_lr(lr, X_train_df, y_train_df, X_test_df, y_test_df, name=None):\n",
    "    print(f'Evaluation Logistic Regression Classifier: {name}')\n",
    "    \n",
    "\n",
    "    y_pred = lr.predict(X_test_df)\n",
    "\n",
    "    cm = confusion_matrix(y_test_df, y_pred)\n",
    "    print('-' * 80)\n",
    "    print(\"Mean accuracy score on training set\", lr.score(X_train_df, y_train_df))\n",
    "    print(\"Mean accuracy score on test set\", lr.score(X_test_df, y_test_df))\n",
    "    disp = ConfusionMatrixDisplay(confusion_matrix=cm, display_labels=list(label_mapping.keys()))\n",
    "    disp.plot()\n",
    "    plt.show()\n",
    "    print(classification_report(y_test_df, y_pred))\n",
    "    \n",
    "    return y_pred\n",
    "\n",
    "\n",
    "def evaluate_nb(nb, X_train_df, y_train_df, X_test_df, y_test_df, name=None):\n",
    "    print(f'Evaluation Naive Bayes Classifier: {name}')\n",
    "    \n",
    "\n",
    "    y_pred = nb.predict(X_test_df)\n",
    "\n",
    "    cm = confusion_matrix(y_test_df, y_pred)\n",
    "    print('-' * 80)\n",
    "    print(\"Mean accuracy score on training set\", nb.score(X_train_df, y_train_df))\n",
    "    print(\"Mean accuracy score on test set\", nb.score(X_test_df, y_test_df))\n",
    "    disp = ConfusionMatrixDisplay(confusion_matrix=cm, display_labels=list(label_mapping.keys()))\n",
    "    disp.plot()\n",
    "    plt.show()\n",
    "    print(classification_report(y_test_df, y_pred))\n",
    "    \n",
    "    return y_pred\n",
    "\n",
    "def evaluate_svm(svm, X_train_df, y_train_df, X_test_df, y_test_df, name=None):\n",
    "    print(f'Evaluation SVM Classifier: {name}')\n",
    "    \n",
    "\n",
    "    y_pred = svm.predict(X_test_df)\n",
    "\n",
    "    cm = confusion_matrix(y_test_df, y_pred)\n",
    "    print('-' * 80)\n",
    "    print(\"Mean accuracy score on training set\", svm.score(X_train_df, y_train_df))\n",
    "    print(\"Mean accuracy score on test set\", svm.score(X_test_df, y_test_df))\n",
    "    disp = ConfusionMatrixDisplay(confusion_matrix=cm, display_labels=list(label_mapping.keys()))\n",
    "    disp.plot()\n",
    "    plt.show()\n",
    "    print(classification_report(y_test_df, y_pred))\n",
    "    \n",
    "    return y_pred"
   ]
  },
  {
   "cell_type": "code",
   "execution_count": 352,
   "id": "e3f1f3cc-47bb-4e68-b339-26bc3c006bd8",
   "metadata": {},
   "outputs": [],
   "source": [
    "model_params = {\n",
    "    'random_forest' :{\n",
    "        'model' : RandomForestClassifier(),\n",
    "        'params' : {\n",
    "            'n_estimators' : [100,200,500,1000],\n",
    "            'min_samples_leaf':[1, 2, 5, 10,20],\n",
    "            'max_features' : [int(0.5*np.sqrt(len_features)), int(np.sqrt(len_features)), int(2*np.sqrt(len_features))]\n",
    "        }\n",
    "    },\n",
    "    \n",
    "    'logistics_regression' :{\n",
    "        'model' : LogisticRegression(multi_class = 'auto'),\n",
    "        'params' : {\n",
    "            'C' : [0.1, 1, 10, 100],\n",
    "            'solver' : ['lbfgs', 'liblinear'],\n",
    "            'penalty': ['l1', 'l2'],\n",
    "            'max_iter': [200,400,600]\n",
    "        }\n",
    "    },\n",
    "\n",
    "    'MultinomialNB' :{\n",
    "        'model' : MultinomialNB(),\n",
    "        'params' : {\n",
    "            'alpha' : np.linspace(0.5, 1.5, 6),\n",
    "            'fit_prior' : [True, False]\n",
    "         \n",
    "        }\n",
    "    },\n",
    "    'SVM': {\n",
    "        'model': SVC(), \n",
    "        'params': {\n",
    "            'kernel': ['rbf', 'linear'], \n",
    "            'gamma': [1e-3, 1e-4],\n",
    "            'C': [1, 10, 100, 1000]\n",
    "        }\n",
    "    }\n",
    "}"
   ]
  },
  {
   "cell_type": "markdown",
   "id": "6769c774-a04b-414b-a9e6-7b27bcba5d2c",
   "metadata": {
    "tags": []
   },
   "source": [
    "### Model 0. (Simple Features) Polarity + Subjectivity Score, Count of Temporal Expressions, Count of Temporal Modifiers, POS Tags"
   ]
  },
  {
   "cell_type": "markdown",
   "id": "21d5110b-5fbd-4034-a543-0aff8f6861c9",
   "metadata": {
    "tags": []
   },
   "source": [
    "#### Training: Model 0"
   ]
  },
  {
   "cell_type": "code",
   "execution_count": 370,
   "id": "58520be4-8232-4eb0-ad83-ea11ea93c373",
   "metadata": {},
   "outputs": [
    {
     "name": "stdout",
     "output_type": "stream",
     "text": [
      "Label mapping {'Future': 0, 'Past': 1, 'Present': 2}\n",
      "Successfully created train and test sets.\n"
     ]
    }
   ],
   "source": [
    "X_0, y_0, X_train_0, y_train_0, X_test_0, y_test_0 = train_test(features_0, \n",
    "                                                                scale_enabled=True, \n",
    "                                                                encode_enabled=True)\n",
    "\n",
    "label_mapping = {'Future': 0, 'Past': 1, 'Present': 2}"
   ]
  },
  {
   "cell_type": "code",
   "execution_count": 353,
   "id": "772dfc36-2903-4473-815f-e2d4a13ea1d6",
   "metadata": {},
   "outputs": [
    {
     "name": "stdout",
     "output_type": "stream",
     "text": [
      "RandomForestClassifier()\n",
      "\n",
      "fitting...\n",
      "Fitting 10 folds for each of 60 candidates, totalling 600 fits\n",
      "\n",
      "score is appended\n",
      "\n",
      "LogisticRegression()\n",
      "\n",
      "fitting...\n",
      "Fitting 10 folds for each of 48 candidates, totalling 480 fits\n"
     ]
    },
    {
     "name": "stderr",
     "output_type": "stream",
     "text": [
      "/Users/gbaldonado/opt/anaconda3/lib/python3.9/site-packages/sklearn/model_selection/_validation.py:378: FitFailedWarning: \n",
      "120 fits failed out of a total of 480.\n",
      "The score on these train-test partitions for these parameters will be set to nan.\n",
      "If these failures are not expected, you can try to debug them by setting error_score='raise'.\n",
      "\n",
      "Below are more details about the failures:\n",
      "--------------------------------------------------------------------------------\n",
      "120 fits failed with the following error:\n",
      "Traceback (most recent call last):\n",
      "  File \"/Users/gbaldonado/opt/anaconda3/lib/python3.9/site-packages/sklearn/model_selection/_validation.py\", line 686, in _fit_and_score\n",
      "    estimator.fit(X_train, y_train, **fit_params)\n",
      "  File \"/Users/gbaldonado/opt/anaconda3/lib/python3.9/site-packages/sklearn/linear_model/_logistic.py\", line 1162, in fit\n",
      "    solver = _check_solver(self.solver, self.penalty, self.dual)\n",
      "  File \"/Users/gbaldonado/opt/anaconda3/lib/python3.9/site-packages/sklearn/linear_model/_logistic.py\", line 54, in _check_solver\n",
      "    raise ValueError(\n",
      "ValueError: Solver lbfgs supports only 'l2' or 'none' penalties, got l1 penalty.\n",
      "\n",
      "  warnings.warn(some_fits_failed_message, FitFailedWarning)\n",
      "/Users/gbaldonado/opt/anaconda3/lib/python3.9/site-packages/sklearn/model_selection/_search.py:953: UserWarning: One or more of the test scores are non-finite: [       nan 0.27683948 0.39659712 0.39915353        nan 0.27803667\n",
      " 0.39659712 0.39915353        nan 0.27683948 0.39659712 0.39915353\n",
      "        nan 0.49934486 0.48018103 0.47140112        nan 0.49934486\n",
      " 0.48018103 0.47140112        nan 0.49934486 0.48018103 0.47140112\n",
      "        nan 0.49450868 0.48516348 0.4889196         nan 0.49450868\n",
      " 0.48516348 0.4889196         nan 0.49225293 0.48516348 0.4889196\n",
      "        nan 0.49253881 0.49196203 0.48935516        nan 0.49253881\n",
      " 0.49196203 0.48935516        nan 0.49253881 0.49196203 0.48935516]\n",
      "  warnings.warn(\n"
     ]
    },
    {
     "name": "stdout",
     "output_type": "stream",
     "text": [
      "\n",
      "score is appended\n",
      "\n",
      "MultinomialNB()\n",
      "\n",
      "fitting...\n",
      "Fitting 10 folds for each of 12 candidates, totalling 120 fits\n",
      "\n",
      "score is appended\n",
      "\n",
      "SVC()\n",
      "\n",
      "fitting...\n",
      "Fitting 10 folds for each of 16 candidates, totalling 160 fits\n",
      "\n",
      "score is appended\n",
      "\n"
     ]
    }
   ],
   "source": [
    "scores = []\n",
    "\n",
    "for model_name, mp in model_params.items():\n",
    "    clf = GridSearchCV(mp['model'], mp['params'], scoring=\"f1_weighted\", cv = 10, n_jobs=-1, verbose=1)\n",
    "    \n",
    "    print(mp['model'])\n",
    "    print('\\nfitting...')\n",
    "    clf.fit(X_train_0, y_train_0)\n",
    "    scores.append({\n",
    "        'model' : model_name,\n",
    "        'best_score' : clf.best_score_,\n",
    "        'best_params' : clf.best_params_\n",
    "    })\n",
    "    print('\\nscore is appended\\n')"
   ]
  },
  {
   "cell_type": "code",
   "execution_count": 354,
   "id": "a0e795fe-d86e-44eb-956d-65c07ed52d53",
   "metadata": {},
   "outputs": [
    {
     "data": {
      "text/plain": [
       "[{'model': 'random_forest',\n",
       "  'best_score': 0.449128835799813,\n",
       "  'best_params': {'max_features': 2,\n",
       "   'min_samples_leaf': 2,\n",
       "   'n_estimators': 500}},\n",
       " {'model': 'logistics_regression',\n",
       "  'best_score': 0.49934485677661467,\n",
       "  'best_params': {'C': 1,\n",
       "   'max_iter': 200,\n",
       "   'penalty': 'l1',\n",
       "   'solver': 'liblinear'}},\n",
       " {'model': 'MultinomialNB',\n",
       "  'best_score': 0.46278212346663333,\n",
       "  'best_params': {'alpha': 0.7, 'fit_prior': False}},\n",
       " {'model': 'SVM',\n",
       "  'best_score': 0.49062279111317364,\n",
       "  'best_params': {'C': 1000, 'gamma': 0.001, 'kernel': 'linear'}}]"
      ]
     },
     "execution_count": 354,
     "metadata": {},
     "output_type": "execute_result"
    }
   ],
   "source": [
    "scores"
   ]
  },
  {
   "cell_type": "markdown",
   "id": "db9b2190-395f-49c0-9a6a-dfa94cbb35ce",
   "metadata": {
    "tags": []
   },
   "source": [
    "#### Evaluation: Random Forest Model 0"
   ]
  },
  {
   "cell_type": "code",
   "execution_count": 356,
   "id": "95c6c199-7c8d-46b3-ae6f-fc0375341cc9",
   "metadata": {},
   "outputs": [
    {
     "data": {
      "text/plain": [
       "{'max_features': 2, 'min_samples_leaf': 2, 'n_estimators': 500}"
      ]
     },
     "execution_count": 356,
     "metadata": {},
     "output_type": "execute_result"
    }
   ],
   "source": [
    "best_parameters = scores[0][\"best_params\"]\n",
    "best_parameters"
   ]
  },
  {
   "cell_type": "code",
   "execution_count": 358,
   "id": "d1a2aab5-dbac-48e6-af9e-ccce0c1c59d4",
   "metadata": {},
   "outputs": [
    {
     "data": {
      "text/html": [
       "<style>#sk-container-id-4 {color: black;background-color: white;}#sk-container-id-4 pre{padding: 0;}#sk-container-id-4 div.sk-toggleable {background-color: white;}#sk-container-id-4 label.sk-toggleable__label {cursor: pointer;display: block;width: 100%;margin-bottom: 0;padding: 0.3em;box-sizing: border-box;text-align: center;}#sk-container-id-4 label.sk-toggleable__label-arrow:before {content: \"▸\";float: left;margin-right: 0.25em;color: #696969;}#sk-container-id-4 label.sk-toggleable__label-arrow:hover:before {color: black;}#sk-container-id-4 div.sk-estimator:hover label.sk-toggleable__label-arrow:before {color: black;}#sk-container-id-4 div.sk-toggleable__content {max-height: 0;max-width: 0;overflow: hidden;text-align: left;background-color: #f0f8ff;}#sk-container-id-4 div.sk-toggleable__content pre {margin: 0.2em;color: black;border-radius: 0.25em;background-color: #f0f8ff;}#sk-container-id-4 input.sk-toggleable__control:checked~div.sk-toggleable__content {max-height: 200px;max-width: 100%;overflow: auto;}#sk-container-id-4 input.sk-toggleable__control:checked~label.sk-toggleable__label-arrow:before {content: \"▾\";}#sk-container-id-4 div.sk-estimator input.sk-toggleable__control:checked~label.sk-toggleable__label {background-color: #d4ebff;}#sk-container-id-4 div.sk-label input.sk-toggleable__control:checked~label.sk-toggleable__label {background-color: #d4ebff;}#sk-container-id-4 input.sk-hidden--visually {border: 0;clip: rect(1px 1px 1px 1px);clip: rect(1px, 1px, 1px, 1px);height: 1px;margin: -1px;overflow: hidden;padding: 0;position: absolute;width: 1px;}#sk-container-id-4 div.sk-estimator {font-family: monospace;background-color: #f0f8ff;border: 1px dotted black;border-radius: 0.25em;box-sizing: border-box;margin-bottom: 0.5em;}#sk-container-id-4 div.sk-estimator:hover {background-color: #d4ebff;}#sk-container-id-4 div.sk-parallel-item::after {content: \"\";width: 100%;border-bottom: 1px solid gray;flex-grow: 1;}#sk-container-id-4 div.sk-label:hover label.sk-toggleable__label {background-color: #d4ebff;}#sk-container-id-4 div.sk-serial::before {content: \"\";position: absolute;border-left: 1px solid gray;box-sizing: border-box;top: 0;bottom: 0;left: 50%;z-index: 0;}#sk-container-id-4 div.sk-serial {display: flex;flex-direction: column;align-items: center;background-color: white;padding-right: 0.2em;padding-left: 0.2em;position: relative;}#sk-container-id-4 div.sk-item {position: relative;z-index: 1;}#sk-container-id-4 div.sk-parallel {display: flex;align-items: stretch;justify-content: center;background-color: white;position: relative;}#sk-container-id-4 div.sk-item::before, #sk-container-id-4 div.sk-parallel-item::before {content: \"\";position: absolute;border-left: 1px solid gray;box-sizing: border-box;top: 0;bottom: 0;left: 50%;z-index: -1;}#sk-container-id-4 div.sk-parallel-item {display: flex;flex-direction: column;z-index: 1;position: relative;background-color: white;}#sk-container-id-4 div.sk-parallel-item:first-child::after {align-self: flex-end;width: 50%;}#sk-container-id-4 div.sk-parallel-item:last-child::after {align-self: flex-start;width: 50%;}#sk-container-id-4 div.sk-parallel-item:only-child::after {width: 0;}#sk-container-id-4 div.sk-dashed-wrapped {border: 1px dashed gray;margin: 0 0.4em 0.5em 0.4em;box-sizing: border-box;padding-bottom: 0.4em;background-color: white;}#sk-container-id-4 div.sk-label label {font-family: monospace;font-weight: bold;display: inline-block;line-height: 1.2em;}#sk-container-id-4 div.sk-label-container {text-align: center;}#sk-container-id-4 div.sk-container {/* jupyter's `normalize.less` sets `[hidden] { display: none; }` but bootstrap.min.css set `[hidden] { display: none !important; }` so we also need the `!important` here to be able to override the default hidden behavior on the sphinx rendered scikit-learn.org. See: https://github.com/scikit-learn/scikit-learn/issues/21755 */display: inline-block !important;position: relative;}#sk-container-id-4 div.sk-text-repr-fallback {display: none;}</style><div id=\"sk-container-id-4\" class=\"sk-top-container\"><div class=\"sk-text-repr-fallback\"><pre>RandomForestClassifier(max_features=2, min_samples_leaf=2, n_estimators=500,\n",
       "                       random_state=18)</pre><b>In a Jupyter environment, please rerun this cell to show the HTML representation or trust the notebook. <br />On GitHub, the HTML representation is unable to render, please try loading this page with nbviewer.org.</b></div><div class=\"sk-container\" hidden><div class=\"sk-item\"><div class=\"sk-estimator sk-toggleable\"><input class=\"sk-toggleable__control sk-hidden--visually\" id=\"sk-estimator-id-4\" type=\"checkbox\" checked><label for=\"sk-estimator-id-4\" class=\"sk-toggleable__label sk-toggleable__label-arrow\">RandomForestClassifier</label><div class=\"sk-toggleable__content\"><pre>RandomForestClassifier(max_features=2, min_samples_leaf=2, n_estimators=500,\n",
       "                       random_state=18)</pre></div></div></div></div></div>"
      ],
      "text/plain": [
       "RandomForestClassifier(max_features=2, min_samples_leaf=2, n_estimators=500,\n",
       "                       random_state=18)"
      ]
     },
     "execution_count": 358,
     "metadata": {},
     "output_type": "execute_result"
    }
   ],
   "source": [
    "rf_model_0 = RandomForestClassifier(random_state=18,\n",
    "                                    max_features=best_parameters['max_features'],\n",
    "                                    min_samples_leaf=best_parameters['min_samples_leaf'],\n",
    "                                    n_estimators=best_parameters['n_estimators'])\n",
    "\n",
    "rf_model_0.fit(X_train_0, y_train_0)"
   ]
  },
  {
   "cell_type": "code",
   "execution_count": 384,
   "id": "c98ee5e5-8516-40ab-8507-b03df20bbbd0",
   "metadata": {},
   "outputs": [
    {
     "name": "stdout",
     "output_type": "stream",
     "text": [
      "Evaluation Random Forest Classifier: Model 0\n",
      "--------------------------------------------------------------------------------\n",
      "Mean accuracy score on training set 0.9792626728110599\n",
      "Mean accuracy score on test set 0.5093457943925234\n"
     ]
    },
    {
     "data": {
      "image/png": "[encoded data removed]",
      "text/plain": [
       "<Figure size 432x288 with 2 Axes>"
      ]
     },
     "metadata": {
      "needs_background": "light"
     },
     "output_type": "display_data"
    },
    {
     "name": "stdout",
     "output_type": "stream",
     "text": [
      "              precision    recall  f1-score   support\n",
      "\n",
      "           0       0.67      0.12      0.20        50\n",
      "           1       0.48      0.53      0.51        77\n",
      "           2       0.52      0.71      0.60        87\n",
      "\n",
      "    accuracy                           0.51       214\n",
      "   macro avg       0.56      0.46      0.44       214\n",
      "weighted avg       0.54      0.51      0.47       214\n",
      "\n"
     ]
    }
   ],
   "source": [
    "_ = evaluate_random_forest(rf_model_0, X_train_0, y_train_0, X_test_0, y_test_0, name=\"Model 0\")"
   ]
  },
  {
   "cell_type": "markdown",
   "id": "c15f378f-3b61-497c-858c-9da48c25d691",
   "metadata": {
    "jp-MarkdownHeadingCollapsed": true,
    "tags": []
   },
   "source": [
    "#### Evaluation: Logistic Regression Model 0"
   ]
  },
  {
   "cell_type": "code",
   "execution_count": 405,
   "id": "5872a651-fb81-406f-b7b0-bb9a0c7b5964",
   "metadata": {},
   "outputs": [
    {
     "data": {
      "text/plain": [
       "{'C': 1, 'max_iter': 200, 'penalty': 'l1', 'solver': 'liblinear'}"
      ]
     },
     "execution_count": 405,
     "metadata": {},
     "output_type": "execute_result"
    }
   ],
   "source": [
    "best_parameters = scores[1][\"best_params\"]\n",
    "best_parameters"
   ]
  },
  {
   "cell_type": "code",
   "execution_count": 388,
   "id": "6f38215a-6aec-4568-a77e-9b1eee76e71b",
   "metadata": {},
   "outputs": [
    {
     "data": {
      "text/html": [
       "<style>#sk-container-id-5 {color: black;background-color: white;}#sk-container-id-5 pre{padding: 0;}#sk-container-id-5 div.sk-toggleable {background-color: white;}#sk-container-id-5 label.sk-toggleable__label {cursor: pointer;display: block;width: 100%;margin-bottom: 0;padding: 0.3em;box-sizing: border-box;text-align: center;}#sk-container-id-5 label.sk-toggleable__label-arrow:before {content: \"▸\";float: left;margin-right: 0.25em;color: #696969;}#sk-container-id-5 label.sk-toggleable__label-arrow:hover:before {color: black;}#sk-container-id-5 div.sk-estimator:hover label.sk-toggleable__label-arrow:before {color: black;}#sk-container-id-5 div.sk-toggleable__content {max-height: 0;max-width: 0;overflow: hidden;text-align: left;background-color: #f0f8ff;}#sk-container-id-5 div.sk-toggleable__content pre {margin: 0.2em;color: black;border-radius: 0.25em;background-color: #f0f8ff;}#sk-container-id-5 input.sk-toggleable__control:checked~div.sk-toggleable__content {max-height: 200px;max-width: 100%;overflow: auto;}#sk-container-id-5 input.sk-toggleable__control:checked~label.sk-toggleable__label-arrow:before {content: \"▾\";}#sk-container-id-5 div.sk-estimator input.sk-toggleable__control:checked~label.sk-toggleable__label {background-color: #d4ebff;}#sk-container-id-5 div.sk-label input.sk-toggleable__control:checked~label.sk-toggleable__label {background-color: #d4ebff;}#sk-container-id-5 input.sk-hidden--visually {border: 0;clip: rect(1px 1px 1px 1px);clip: rect(1px, 1px, 1px, 1px);height: 1px;margin: -1px;overflow: hidden;padding: 0;position: absolute;width: 1px;}#sk-container-id-5 div.sk-estimator {font-family: monospace;background-color: #f0f8ff;border: 1px dotted black;border-radius: 0.25em;box-sizing: border-box;margin-bottom: 0.5em;}#sk-container-id-5 div.sk-estimator:hover {background-color: #d4ebff;}#sk-container-id-5 div.sk-parallel-item::after {content: \"\";width: 100%;border-bottom: 1px solid gray;flex-grow: 1;}#sk-container-id-5 div.sk-label:hover label.sk-toggleable__label {background-color: #d4ebff;}#sk-container-id-5 div.sk-serial::before {content: \"\";position: absolute;border-left: 1px solid gray;box-sizing: border-box;top: 0;bottom: 0;left: 50%;z-index: 0;}#sk-container-id-5 div.sk-serial {display: flex;flex-direction: column;align-items: center;background-color: white;padding-right: 0.2em;padding-left: 0.2em;position: relative;}#sk-container-id-5 div.sk-item {position: relative;z-index: 1;}#sk-container-id-5 div.sk-parallel {display: flex;align-items: stretch;justify-content: center;background-color: white;position: relative;}#sk-container-id-5 div.sk-item::before, #sk-container-id-5 div.sk-parallel-item::before {content: \"\";position: absolute;border-left: 1px solid gray;box-sizing: border-box;top: 0;bottom: 0;left: 50%;z-index: -1;}#sk-container-id-5 div.sk-parallel-item {display: flex;flex-direction: column;z-index: 1;position: relative;background-color: white;}#sk-container-id-5 div.sk-parallel-item:first-child::after {align-self: flex-end;width: 50%;}#sk-container-id-5 div.sk-parallel-item:last-child::after {align-self: flex-start;width: 50%;}#sk-container-id-5 div.sk-parallel-item:only-child::after {width: 0;}#sk-container-id-5 div.sk-dashed-wrapped {border: 1px dashed gray;margin: 0 0.4em 0.5em 0.4em;box-sizing: border-box;padding-bottom: 0.4em;background-color: white;}#sk-container-id-5 div.sk-label label {font-family: monospace;font-weight: bold;display: inline-block;line-height: 1.2em;}#sk-container-id-5 div.sk-label-container {text-align: center;}#sk-container-id-5 div.sk-container {/* jupyter's `normalize.less` sets `[hidden] { display: none; }` but bootstrap.min.css set `[hidden] { display: none !important; }` so we also need the `!important` here to be able to override the default hidden behavior on the sphinx rendered scikit-learn.org. See: https://github.com/scikit-learn/scikit-learn/issues/21755 */display: inline-block !important;position: relative;}#sk-container-id-5 div.sk-text-repr-fallback {display: none;}</style><div id=\"sk-container-id-5\" class=\"sk-top-container\"><div class=\"sk-text-repr-fallback\"><pre>LogisticRegression(C=1, max_iter=200, penalty=&#x27;l1&#x27;, random_state=18,\n",
       "                   solver=&#x27;liblinear&#x27;)</pre><b>In a Jupyter environment, please rerun this cell to show the HTML representation or trust the notebook. <br />On GitHub, the HTML representation is unable to render, please try loading this page with nbviewer.org.</b></div><div class=\"sk-container\" hidden><div class=\"sk-item\"><div class=\"sk-estimator sk-toggleable\"><input class=\"sk-toggleable__control sk-hidden--visually\" id=\"sk-estimator-id-5\" type=\"checkbox\" checked><label for=\"sk-estimator-id-5\" class=\"sk-toggleable__label sk-toggleable__label-arrow\">LogisticRegression</label><div class=\"sk-toggleable__content\"><pre>LogisticRegression(C=1, max_iter=200, penalty=&#x27;l1&#x27;, random_state=18,\n",
       "                   solver=&#x27;liblinear&#x27;)</pre></div></div></div></div></div>"
      ],
      "text/plain": [
       "LogisticRegression(C=1, max_iter=200, penalty='l1', random_state=18,\n",
       "                   solver='liblinear')"
      ]
     },
     "execution_count": 388,
     "metadata": {},
     "output_type": "execute_result"
    }
   ],
   "source": [
    "lr_model_0 = LogisticRegression(random_state=18,\n",
    "                                C=best_parameters['C'],\n",
    "                                solver=best_parameters['solver'],\n",
    "                                max_iter=best_parameters['max_iter'],\n",
    "                                penalty=best_parameters['penalty'])\n",
    "\n",
    "lr_model_0.fit(X_train_0, y_train_0)"
   ]
  },
  {
   "cell_type": "code",
   "execution_count": 395,
   "id": "5d7a9dce-1c0e-4850-bd0e-31d2b941cfb8",
   "metadata": {},
   "outputs": [
    {
     "name": "stdout",
     "output_type": "stream",
     "text": [
      "Evaluation Logistic Regression Classifier: Model 0\n",
      "--------------------------------------------------------------------------------\n",
      "Mean accuracy score on training set 0.5783410138248848\n",
      "Mean accuracy score on test set 0.514018691588785\n"
     ]
    },
    {
     "data": {
      "image/png": "[encoded data removed]",
      "text/plain": [
       "<Figure size 432x288 with 2 Axes>"
      ]
     },
     "metadata": {
      "needs_background": "light"
     },
     "output_type": "display_data"
    },
    {
     "name": "stdout",
     "output_type": "stream",
     "text": [
      "              precision    recall  f1-score   support\n",
      "\n",
      "           0       0.42      0.10      0.16        50\n",
      "           1       0.54      0.53      0.54        77\n",
      "           2       0.51      0.74      0.60        87\n",
      "\n",
      "    accuracy                           0.51       214\n",
      "   macro avg       0.49      0.46      0.43       214\n",
      "weighted avg       0.50      0.51      0.47       214\n",
      "\n"
     ]
    }
   ],
   "source": [
    "_ = evaluate_lr(lr_model_0, X_train_0, y_train_0, X_test_0, y_test_0, name=\"Model 0\")"
   ]
  },
  {
   "cell_type": "markdown",
   "id": "be3e4e6c-dea9-4ae8-a77e-477402115214",
   "metadata": {
    "tags": []
   },
   "source": [
    "#### Evaluation: Naive Bayes Model 0"
   ]
  },
  {
   "cell_type": "code",
   "execution_count": 399,
   "id": "eb2b0381-7a2f-4235-9983-d1bcf37471a5",
   "metadata": {},
   "outputs": [
    {
     "data": {
      "text/plain": [
       "{'alpha': 0.7, 'fit_prior': False}"
      ]
     },
     "execution_count": 399,
     "metadata": {},
     "output_type": "execute_result"
    }
   ],
   "source": [
    "best_parameters = scores[2][\"best_params\"]\n",
    "best_parameters"
   ]
  },
  {
   "cell_type": "code",
   "execution_count": 403,
   "id": "7de735ab-945a-4e97-8413-2019d3e5880e",
   "metadata": {
    "scrolled": true,
    "tags": []
   },
   "outputs": [
    {
     "data": {
      "text/html": [
       "<style>#sk-container-id-6 {color: black;background-color: white;}#sk-container-id-6 pre{padding: 0;}#sk-container-id-6 div.sk-toggleable {background-color: white;}#sk-container-id-6 label.sk-toggleable__label {cursor: pointer;display: block;width: 100%;margin-bottom: 0;padding: 0.3em;box-sizing: border-box;text-align: center;}#sk-container-id-6 label.sk-toggleable__label-arrow:before {content: \"▸\";float: left;margin-right: 0.25em;color: #696969;}#sk-container-id-6 label.sk-toggleable__label-arrow:hover:before {color: black;}#sk-container-id-6 div.sk-estimator:hover label.sk-toggleable__label-arrow:before {color: black;}#sk-container-id-6 div.sk-toggleable__content {max-height: 0;max-width: 0;overflow: hidden;text-align: left;background-color: #f0f8ff;}#sk-container-id-6 div.sk-toggleable__content pre {margin: 0.2em;color: black;border-radius: 0.25em;background-color: #f0f8ff;}#sk-container-id-6 input.sk-toggleable__control:checked~div.sk-toggleable__content {max-height: 200px;max-width: 100%;overflow: auto;}#sk-container-id-6 input.sk-toggleable__control:checked~label.sk-toggleable__label-arrow:before {content: \"▾\";}#sk-container-id-6 div.sk-estimator input.sk-toggleable__control:checked~label.sk-toggleable__label {background-color: #d4ebff;}#sk-container-id-6 div.sk-label input.sk-toggleable__control:checked~label.sk-toggleable__label {background-color: #d4ebff;}#sk-container-id-6 input.sk-hidden--visually {border: 0;clip: rect(1px 1px 1px 1px);clip: rect(1px, 1px, 1px, 1px);height: 1px;margin: -1px;overflow: hidden;padding: 0;position: absolute;width: 1px;}#sk-container-id-6 div.sk-estimator {font-family: monospace;background-color: #f0f8ff;border: 1px dotted black;border-radius: 0.25em;box-sizing: border-box;margin-bottom: 0.5em;}#sk-container-id-6 div.sk-estimator:hover {background-color: #d4ebff;}#sk-container-id-6 div.sk-parallel-item::after {content: \"\";width: 100%;border-bottom: 1px solid gray;flex-grow: 1;}#sk-container-id-6 div.sk-label:hover label.sk-toggleable__label {background-color: #d4ebff;}#sk-container-id-6 div.sk-serial::before {content: \"\";position: absolute;border-left: 1px solid gray;box-sizing: border-box;top: 0;bottom: 0;left: 50%;z-index: 0;}#sk-container-id-6 div.sk-serial {display: flex;flex-direction: column;align-items: center;background-color: white;padding-right: 0.2em;padding-left: 0.2em;position: relative;}#sk-container-id-6 div.sk-item {position: relative;z-index: 1;}#sk-container-id-6 div.sk-parallel {display: flex;align-items: stretch;justify-content: center;background-color: white;position: relative;}#sk-container-id-6 div.sk-item::before, #sk-container-id-6 div.sk-parallel-item::before {content: \"\";position: absolute;border-left: 1px solid gray;box-sizing: border-box;top: 0;bottom: 0;left: 50%;z-index: -1;}#sk-container-id-6 div.sk-parallel-item {display: flex;flex-direction: column;z-index: 1;position: relative;background-color: white;}#sk-container-id-6 div.sk-parallel-item:first-child::after {align-self: flex-end;width: 50%;}#sk-container-id-6 div.sk-parallel-item:last-child::after {align-self: flex-start;width: 50%;}#sk-container-id-6 div.sk-parallel-item:only-child::after {width: 0;}#sk-container-id-6 div.sk-dashed-wrapped {border: 1px dashed gray;margin: 0 0.4em 0.5em 0.4em;box-sizing: border-box;padding-bottom: 0.4em;background-color: white;}#sk-container-id-6 div.sk-label label {font-family: monospace;font-weight: bold;display: inline-block;line-height: 1.2em;}#sk-container-id-6 div.sk-label-container {text-align: center;}#sk-container-id-6 div.sk-container {/* jupyter's `normalize.less` sets `[hidden] { display: none; }` but bootstrap.min.css set `[hidden] { display: none !important; }` so we also need the `!important` here to be able to override the default hidden behavior on the sphinx rendered scikit-learn.org. See: https://github.com/scikit-learn/scikit-learn/issues/21755 */display: inline-block !important;position: relative;}#sk-container-id-6 div.sk-text-repr-fallback {display: none;}</style><div id=\"sk-container-id-6\" class=\"sk-top-container\"><div class=\"sk-text-repr-fallback\"><pre>MultinomialNB(alpha=0.7, fit_prior=False)</pre><b>In a Jupyter environment, please rerun this cell to show the HTML representation or trust the notebook. <br />On GitHub, the HTML representation is unable to render, please try loading this page with nbviewer.org.</b></div><div class=\"sk-container\" hidden><div class=\"sk-item\"><div class=\"sk-estimator sk-toggleable\"><input class=\"sk-toggleable__control sk-hidden--visually\" id=\"sk-estimator-id-6\" type=\"checkbox\" checked><label for=\"sk-estimator-id-6\" class=\"sk-toggleable__label sk-toggleable__label-arrow\">MultinomialNB</label><div class=\"sk-toggleable__content\"><pre>MultinomialNB(alpha=0.7, fit_prior=False)</pre></div></div></div></div></div>"
      ],
      "text/plain": [
       "MultinomialNB(alpha=0.7, fit_prior=False)"
      ]
     },
     "execution_count": 403,
     "metadata": {},
     "output_type": "execute_result"
    }
   ],
   "source": [
    "nb_model_0 = MultinomialNB(alpha=best_parameters['alpha'],\n",
    "                           fit_prior=best_parameters[\"fit_prior\"])\n",
    "\n",
    "nb_model_0.fit(X_train_0, y_train_0)"
   ]
  },
  {
   "cell_type": "code",
   "execution_count": 404,
   "id": "400ad316-5d76-4f78-af58-1aad24bfeb7d",
   "metadata": {},
   "outputs": [
    {
     "name": "stdout",
     "output_type": "stream",
     "text": [
      "Evaluation Naive Bayes Classifier: Model 0\n",
      "--------------------------------------------------------------------------------\n",
      "Mean accuracy score on training set 0.5276497695852534\n",
      "Mean accuracy score on test set 0.4953271028037383\n"
     ]
    },
    {
     "data": {
      "image/png": "[encoded data removed]",
      "text/plain": [
       "<Figure size 432x288 with 2 Axes>"
      ]
     },
     "metadata": {
      "needs_background": "light"
     },
     "output_type": "display_data"
    },
    {
     "name": "stdout",
     "output_type": "stream",
     "text": [
      "              precision    recall  f1-score   support\n",
      "\n",
      "           0       0.31      0.16      0.21        50\n",
      "           1       0.56      0.53      0.55        77\n",
      "           2       0.50      0.66      0.56        87\n",
      "\n",
      "    accuracy                           0.50       214\n",
      "   macro avg       0.45      0.45      0.44       214\n",
      "weighted avg       0.48      0.50      0.48       214\n",
      "\n"
     ]
    }
   ],
   "source": [
    "_ = evaluate_nb(nb_model_0, X_train_0, y_train_0, X_test_0, y_test_0, name=\"Model 0\")"
   ]
  },
  {
   "cell_type": "markdown",
   "id": "cb100e42-a1e7-44c8-ae14-35f135c3d0bd",
   "metadata": {
    "tags": []
   },
   "source": [
    "#### Evaluation: SVM Model 0"
   ]
  },
  {
   "cell_type": "code",
   "execution_count": 407,
   "id": "d73b48ea-33b6-447c-ad3d-982e1694f6ea",
   "metadata": {},
   "outputs": [
    {
     "data": {
      "text/plain": [
       "{'C': 1000, 'gamma': 0.001, 'kernel': 'linear'}"
      ]
     },
     "execution_count": 407,
     "metadata": {},
     "output_type": "execute_result"
    }
   ],
   "source": [
    "best_parameters = scores[3][\"best_params\"]\n",
    "best_parameters"
   ]
  },
  {
   "cell_type": "code",
   "execution_count": 410,
   "id": "1f8e700a-530b-4515-9d2f-df6cc7010411",
   "metadata": {},
   "outputs": [
    {
     "data": {
      "text/html": [
       "<style>#sk-container-id-8 {color: black;background-color: white;}#sk-container-id-8 pre{padding: 0;}#sk-container-id-8 div.sk-toggleable {background-color: white;}#sk-container-id-8 label.sk-toggleable__label {cursor: pointer;display: block;width: 100%;margin-bottom: 0;padding: 0.3em;box-sizing: border-box;text-align: center;}#sk-container-id-8 label.sk-toggleable__label-arrow:before {content: \"▸\";float: left;margin-right: 0.25em;color: #696969;}#sk-container-id-8 label.sk-toggleable__label-arrow:hover:before {color: black;}#sk-container-id-8 div.sk-estimator:hover label.sk-toggleable__label-arrow:before {color: black;}#sk-container-id-8 div.sk-toggleable__content {max-height: 0;max-width: 0;overflow: hidden;text-align: left;background-color: #f0f8ff;}#sk-container-id-8 div.sk-toggleable__content pre {margin: 0.2em;color: black;border-radius: 0.25em;background-color: #f0f8ff;}#sk-container-id-8 input.sk-toggleable__control:checked~div.sk-toggleable__content {max-height: 200px;max-width: 100%;overflow: auto;}#sk-container-id-8 input.sk-toggleable__control:checked~label.sk-toggleable__label-arrow:before {content: \"▾\";}#sk-container-id-8 div.sk-estimator input.sk-toggleable__control:checked~label.sk-toggleable__label {background-color: #d4ebff;}#sk-container-id-8 div.sk-label input.sk-toggleable__control:checked~label.sk-toggleable__label {background-color: #d4ebff;}#sk-container-id-8 input.sk-hidden--visually {border: 0;clip: rect(1px 1px 1px 1px);clip: rect(1px, 1px, 1px, 1px);height: 1px;margin: -1px;overflow: hidden;padding: 0;position: absolute;width: 1px;}#sk-container-id-8 div.sk-estimator {font-family: monospace;background-color: #f0f8ff;border: 1px dotted black;border-radius: 0.25em;box-sizing: border-box;margin-bottom: 0.5em;}#sk-container-id-8 div.sk-estimator:hover {background-color: #d4ebff;}#sk-container-id-8 div.sk-parallel-item::after {content: \"\";width: 100%;border-bottom: 1px solid gray;flex-grow: 1;}#sk-container-id-8 div.sk-label:hover label.sk-toggleable__label {background-color: #d4ebff;}#sk-container-id-8 div.sk-serial::before {content: \"\";position: absolute;border-left: 1px solid gray;box-sizing: border-box;top: 0;bottom: 0;left: 50%;z-index: 0;}#sk-container-id-8 div.sk-serial {display: flex;flex-direction: column;align-items: center;background-color: white;padding-right: 0.2em;padding-left: 0.2em;position: relative;}#sk-container-id-8 div.sk-item {position: relative;z-index: 1;}#sk-container-id-8 div.sk-parallel {display: flex;align-items: stretch;justify-content: center;background-color: white;position: relative;}#sk-container-id-8 div.sk-item::before, #sk-container-id-8 div.sk-parallel-item::before {content: \"\";position: absolute;border-left: 1px solid gray;box-sizing: border-box;top: 0;bottom: 0;left: 50%;z-index: -1;}#sk-container-id-8 div.sk-parallel-item {display: flex;flex-direction: column;z-index: 1;position: relative;background-color: white;}#sk-container-id-8 div.sk-parallel-item:first-child::after {align-self: flex-end;width: 50%;}#sk-container-id-8 div.sk-parallel-item:last-child::after {align-self: flex-start;width: 50%;}#sk-container-id-8 div.sk-parallel-item:only-child::after {width: 0;}#sk-container-id-8 div.sk-dashed-wrapped {border: 1px dashed gray;margin: 0 0.4em 0.5em 0.4em;box-sizing: border-box;padding-bottom: 0.4em;background-color: white;}#sk-container-id-8 div.sk-label label {font-family: monospace;font-weight: bold;display: inline-block;line-height: 1.2em;}#sk-container-id-8 div.sk-label-container {text-align: center;}#sk-container-id-8 div.sk-container {/* jupyter's `normalize.less` sets `[hidden] { display: none; }` but bootstrap.min.css set `[hidden] { display: none !important; }` so we also need the `!important` here to be able to override the default hidden behavior on the sphinx rendered scikit-learn.org. See: https://github.com/scikit-learn/scikit-learn/issues/21755 */display: inline-block !important;position: relative;}#sk-container-id-8 div.sk-text-repr-fallback {display: none;}</style><div id=\"sk-container-id-8\" class=\"sk-top-container\"><div class=\"sk-text-repr-fallback\"><pre>SVC(C=1000, gamma=0.001, kernel=&#x27;linear&#x27;)</pre><b>In a Jupyter environment, please rerun this cell to show the HTML representation or trust the notebook. <br />On GitHub, the HTML representation is unable to render, please try loading this page with nbviewer.org.</b></div><div class=\"sk-container\" hidden><div class=\"sk-item\"><div class=\"sk-estimator sk-toggleable\"><input class=\"sk-toggleable__control sk-hidden--visually\" id=\"sk-estimator-id-8\" type=\"checkbox\" checked><label for=\"sk-estimator-id-8\" class=\"sk-toggleable__label sk-toggleable__label-arrow\">SVC</label><div class=\"sk-toggleable__content\"><pre>SVC(C=1000, gamma=0.001, kernel=&#x27;linear&#x27;)</pre></div></div></div></div></div>"
      ],
      "text/plain": [
       "SVC(C=1000, gamma=0.001, kernel='linear')"
      ]
     },
     "execution_count": 410,
     "metadata": {},
     "output_type": "execute_result"
    }
   ],
   "source": [
    "svm_model_0 = SVC(C=best_parameters['C'],\n",
    "                  gamma=best_parameters['gamma'],\n",
    "                  kernel=best_parameters[\"kernel\"])\n",
    "\n",
    "svm_model_0.fit(X_train_0, y_train_0)"
   ]
  },
  {
   "cell_type": "code",
   "execution_count": 411,
   "id": "22cba007-92e0-4563-b13e-6a432055f612",
   "metadata": {},
   "outputs": [
    {
     "name": "stdout",
     "output_type": "stream",
     "text": [
      "Evaluation SVM Classifier: Model 0\n",
      "--------------------------------------------------------------------------------\n",
      "Mean accuracy score on training set 0.5898617511520737\n",
      "Mean accuracy score on test set 0.5280373831775701\n"
     ]
    },
    {
     "data": {
      "image/png": "[encoded data removed]",
      "text/plain": [
       "<Figure size 432x288 with 2 Axes>"
      ]
     },
     "metadata": {
      "needs_background": "light"
     },
     "output_type": "display_data"
    },
    {
     "name": "stdout",
     "output_type": "stream",
     "text": [
      "              precision    recall  f1-score   support\n",
      "\n",
      "           0       0.27      0.06      0.10        50\n",
      "           1       0.56      0.65      0.60        77\n",
      "           2       0.53      0.69      0.60        87\n",
      "\n",
      "    accuracy                           0.53       214\n",
      "   macro avg       0.45      0.47      0.43       214\n",
      "weighted avg       0.48      0.53      0.48       214\n",
      "\n"
     ]
    }
   ],
   "source": [
    "_ = evaluate_svm(svm_model_0, X_train_0, y_train_0, X_test_0, y_test_0, name=\"Model 0\")"
   ]
  },
  {
   "cell_type": "markdown",
   "id": "6404706c-f088-46fd-9991-a7d5ffa52171",
   "metadata": {
    "tags": []
   },
   "source": [
    "### Model 1. (All features) simple_features + tfidf + w2v"
   ]
  },
  {
   "cell_type": "markdown",
   "id": "3391e4e8-fdb0-472d-b38c-6d9c7e49dfcc",
   "metadata": {
    "tags": []
   },
   "source": [
    "#### Training: Model 1"
   ]
  },
  {
   "cell_type": "code",
   "execution_count": 523,
   "id": "8b7b847c-f409-4168-b4ec-1ad128441a2a",
   "metadata": {},
   "outputs": [
    {
     "name": "stdout",
     "output_type": "stream",
     "text": [
      "Label mapping {'Future': 0, 'Past': 1, 'Present': 2}\n",
      "Successfully created train and test sets.\n"
     ]
    }
   ],
   "source": [
    "X_1, y_1, X_train_1, y_train_1, X_test_1, y_test_1 = train_test(features_1, \n",
    "                                                                scale_enabled=True, \n",
    "                                                                encode_enabled=True)\n",
    "\n",
    "label_mapping = {'Future': 0, 'Past': 1, 'Present': 2}"
   ]
  },
  {
   "cell_type": "code",
   "execution_count": 526,
   "id": "a9627ff1-88c3-4465-9b50-baf765c6c24e",
   "metadata": {
    "scrolled": true,
    "tags": []
   },
   "outputs": [
    {
     "name": "stdout",
     "output_type": "stream",
     "text": [
      "RandomForestClassifier()\n",
      "\n",
      "fitting...\n",
      "Fitting 10 folds for each of 60 candidates, totalling 600 fits\n",
      "\n",
      "score is appended\n",
      "\n",
      "LogisticRegression()\n",
      "\n",
      "fitting...\n",
      "Fitting 10 folds for each of 48 candidates, totalling 480 fits\n"
     ]
    },
    {
     "name": "stderr",
     "output_type": "stream",
     "text": [
      "/Users/gbaldonado/opt/anaconda3/lib/python3.9/site-packages/sklearn/linear_model/_logistic.py:458: ConvergenceWarning: lbfgs failed to converge (status=1):\n",
      "STOP: TOTAL NO. of ITERATIONS REACHED LIMIT.\n",
      "\n",
      "Increase the number of iterations (max_iter) or scale the data as shown in:\n",
      "    https://scikit-learn.org/stable/modules/preprocessing.html\n",
      "Please also refer to the documentation for alternative solver options:\n",
      "    https://scikit-learn.org/stable/modules/linear_model.html#logistic-regression\n",
      "  n_iter_i = _check_optimize_result(\n",
      "/Users/gbaldonado/opt/anaconda3/lib/python3.9/site-packages/sklearn/linear_model/_logistic.py:458: ConvergenceWarning: lbfgs failed to converge (status=1):\n",
      "STOP: TOTAL NO. of ITERATIONS REACHED LIMIT.\n",
      "\n",
      "Increase the number of iterations (max_iter) or scale the data as shown in:\n",
      "    https://scikit-learn.org/stable/modules/preprocessing.html\n",
      "Please also refer to the documentation for alternative solver options:\n",
      "    https://scikit-learn.org/stable/modules/linear_model.html#logistic-regression\n",
      "  n_iter_i = _check_optimize_result(\n",
      "/Users/gbaldonado/opt/anaconda3/lib/python3.9/site-packages/sklearn/linear_model/_logistic.py:458: ConvergenceWarning: lbfgs failed to converge (status=1):\n",
      "STOP: TOTAL NO. of ITERATIONS REACHED LIMIT.\n",
      "\n",
      "Increase the number of iterations (max_iter) or scale the data as shown in:\n",
      "    https://scikit-learn.org/stable/modules/preprocessing.html\n",
      "Please also refer to the documentation for alternative solver options:\n",
      "    https://scikit-learn.org/stable/modules/linear_model.html#logistic-regression\n",
      "  n_iter_i = _check_optimize_result(\n",
      "/Users/gbaldonado/opt/anaconda3/lib/python3.9/site-packages/sklearn/linear_model/_logistic.py:458: ConvergenceWarning: lbfgs failed to converge (status=1):\n",
      "STOP: TOTAL NO. of ITERATIONS REACHED LIMIT.\n",
      "\n",
      "Increase the number of iterations (max_iter) or scale the data as shown in:\n",
      "    https://scikit-learn.org/stable/modules/preprocessing.html\n",
      "Please also refer to the documentation for alternative solver options:\n",
      "    https://scikit-learn.org/stable/modules/linear_model.html#logistic-regression\n",
      "  n_iter_i = _check_optimize_result(\n",
      "/Users/gbaldonado/opt/anaconda3/lib/python3.9/site-packages/sklearn/linear_model/_logistic.py:458: ConvergenceWarning: lbfgs failed to converge (status=1):\n",
      "STOP: TOTAL NO. of ITERATIONS REACHED LIMIT.\n",
      "\n",
      "Increase the number of iterations (max_iter) or scale the data as shown in:\n",
      "    https://scikit-learn.org/stable/modules/preprocessing.html\n",
      "Please also refer to the documentation for alternative solver options:\n",
      "    https://scikit-learn.org/stable/modules/linear_model.html#logistic-regression\n",
      "  n_iter_i = _check_optimize_result(\n",
      "/Users/gbaldonado/opt/anaconda3/lib/python3.9/site-packages/sklearn/linear_model/_logistic.py:458: ConvergenceWarning: lbfgs failed to converge (status=1):\n",
      "STOP: TOTAL NO. of ITERATIONS REACHED LIMIT.\n",
      "\n",
      "Increase the number of iterations (max_iter) or scale the data as shown in:\n",
      "    https://scikit-learn.org/stable/modules/preprocessing.html\n",
      "Please also refer to the documentation for alternative solver options:\n",
      "    https://scikit-learn.org/stable/modules/linear_model.html#logistic-regression\n",
      "  n_iter_i = _check_optimize_result(\n",
      "/Users/gbaldonado/opt/anaconda3/lib/python3.9/site-packages/sklearn/linear_model/_logistic.py:458: ConvergenceWarning: lbfgs failed to converge (status=1):\n",
      "STOP: TOTAL NO. of ITERATIONS REACHED LIMIT.\n",
      "\n",
      "Increase the number of iterations (max_iter) or scale the data as shown in:\n",
      "    https://scikit-learn.org/stable/modules/preprocessing.html\n",
      "Please also refer to the documentation for alternative solver options:\n",
      "    https://scikit-learn.org/stable/modules/linear_model.html#logistic-regression\n",
      "  n_iter_i = _check_optimize_result(\n",
      "/Users/gbaldonado/opt/anaconda3/lib/python3.9/site-packages/sklearn/linear_model/_logistic.py:458: ConvergenceWarning: lbfgs failed to converge (status=1):\n",
      "STOP: TOTAL NO. of ITERATIONS REACHED LIMIT.\n",
      "\n",
      "Increase the number of iterations (max_iter) or scale the data as shown in:\n",
      "    https://scikit-learn.org/stable/modules/preprocessing.html\n",
      "Please also refer to the documentation for alternative solver options:\n",
      "    https://scikit-learn.org/stable/modules/linear_model.html#logistic-regression\n",
      "  n_iter_i = _check_optimize_result(\n",
      "/Users/gbaldonado/opt/anaconda3/lib/python3.9/site-packages/sklearn/linear_model/_logistic.py:458: ConvergenceWarning: lbfgs failed to converge (status=1):\n",
      "STOP: TOTAL NO. of ITERATIONS REACHED LIMIT.\n",
      "\n",
      "Increase the number of iterations (max_iter) or scale the data as shown in:\n",
      "    https://scikit-learn.org/stable/modules/preprocessing.html\n",
      "Please also refer to the documentation for alternative solver options:\n",
      "    https://scikit-learn.org/stable/modules/linear_model.html#logistic-regression\n",
      "  n_iter_i = _check_optimize_result(\n",
      "/Users/gbaldonado/opt/anaconda3/lib/python3.9/site-packages/sklearn/linear_model/_logistic.py:458: ConvergenceWarning: lbfgs failed to converge (status=1):\n",
      "STOP: TOTAL NO. of ITERATIONS REACHED LIMIT.\n",
      "\n",
      "Increase the number of iterations (max_iter) or scale the data as shown in:\n",
      "    https://scikit-learn.org/stable/modules/preprocessing.html\n",
      "Please also refer to the documentation for alternative solver options:\n",
      "    https://scikit-learn.org/stable/modules/linear_model.html#logistic-regression\n",
      "  n_iter_i = _check_optimize_result(\n",
      "/Users/gbaldonado/opt/anaconda3/lib/python3.9/site-packages/sklearn/linear_model/_logistic.py:458: ConvergenceWarning: lbfgs failed to converge (status=1):\n",
      "STOP: TOTAL NO. of ITERATIONS REACHED LIMIT.\n",
      "\n",
      "Increase the number of iterations (max_iter) or scale the data as shown in:\n",
      "    https://scikit-learn.org/stable/modules/preprocessing.html\n",
      "Please also refer to the documentation for alternative solver options:\n",
      "    https://scikit-learn.org/stable/modules/linear_model.html#logistic-regression\n",
      "  n_iter_i = _check_optimize_result(\n",
      "/Users/gbaldonado/opt/anaconda3/lib/python3.9/site-packages/sklearn/linear_model/_logistic.py:458: ConvergenceWarning: lbfgs failed to converge (status=1):\n",
      "STOP: TOTAL NO. of ITERATIONS REACHED LIMIT.\n",
      "\n",
      "Increase the number of iterations (max_iter) or scale the data as shown in:\n",
      "    https://scikit-learn.org/stable/modules/preprocessing.html\n",
      "Please also refer to the documentation for alternative solver options:\n",
      "    https://scikit-learn.org/stable/modules/linear_model.html#logistic-regression\n",
      "  n_iter_i = _check_optimize_result(\n",
      "/Users/gbaldonado/opt/anaconda3/lib/python3.9/site-packages/sklearn/linear_model/_logistic.py:458: ConvergenceWarning: lbfgs failed to converge (status=1):\n",
      "STOP: TOTAL NO. of ITERATIONS REACHED LIMIT.\n",
      "\n",
      "Increase the number of iterations (max_iter) or scale the data as shown in:\n",
      "    https://scikit-learn.org/stable/modules/preprocessing.html\n",
      "Please also refer to the documentation for alternative solver options:\n",
      "    https://scikit-learn.org/stable/modules/linear_model.html#logistic-regression\n",
      "  n_iter_i = _check_optimize_result(\n",
      "/Users/gbaldonado/opt/anaconda3/lib/python3.9/site-packages/sklearn/linear_model/_logistic.py:458: ConvergenceWarning: lbfgs failed to converge (status=1):\n",
      "STOP: TOTAL NO. of ITERATIONS REACHED LIMIT.\n",
      "\n",
      "Increase the number of iterations (max_iter) or scale the data as shown in:\n",
      "    https://scikit-learn.org/stable/modules/preprocessing.html\n",
      "Please also refer to the documentation for alternative solver options:\n",
      "    https://scikit-learn.org/stable/modules/linear_model.html#logistic-regression\n",
      "  n_iter_i = _check_optimize_result(\n",
      "/Users/gbaldonado/opt/anaconda3/lib/python3.9/site-packages/sklearn/linear_model/_logistic.py:458: ConvergenceWarning: lbfgs failed to converge (status=1):\n",
      "STOP: TOTAL NO. of ITERATIONS REACHED LIMIT.\n",
      "\n",
      "Increase the number of iterations (max_iter) or scale the data as shown in:\n",
      "    https://scikit-learn.org/stable/modules/preprocessing.html\n",
      "Please also refer to the documentation for alternative solver options:\n",
      "    https://scikit-learn.org/stable/modules/linear_model.html#logistic-regression\n",
      "  n_iter_i = _check_optimize_result(\n",
      "/Users/gbaldonado/opt/anaconda3/lib/python3.9/site-packages/sklearn/linear_model/_logistic.py:458: ConvergenceWarning: lbfgs failed to converge (status=1):\n",
      "STOP: TOTAL NO. of ITERATIONS REACHED LIMIT.\n",
      "\n",
      "Increase the number of iterations (max_iter) or scale the data as shown in:\n",
      "    https://scikit-learn.org/stable/modules/preprocessing.html\n",
      "Please also refer to the documentation for alternative solver options:\n",
      "    https://scikit-learn.org/stable/modules/linear_model.html#logistic-regression\n",
      "  n_iter_i = _check_optimize_result(\n",
      "/Users/gbaldonado/opt/anaconda3/lib/python3.9/site-packages/sklearn/linear_model/_logistic.py:458: ConvergenceWarning: lbfgs failed to converge (status=1):\n",
      "STOP: TOTAL NO. of ITERATIONS REACHED LIMIT.\n",
      "\n",
      "Increase the number of iterations (max_iter) or scale the data as shown in:\n",
      "    https://scikit-learn.org/stable/modules/preprocessing.html\n",
      "Please also refer to the documentation for alternative solver options:\n",
      "    https://scikit-learn.org/stable/modules/linear_model.html#logistic-regression\n",
      "  n_iter_i = _check_optimize_result(\n",
      "/Users/gbaldonado/opt/anaconda3/lib/python3.9/site-packages/sklearn/linear_model/_logistic.py:458: ConvergenceWarning: lbfgs failed to converge (status=1):\n",
      "STOP: TOTAL NO. of ITERATIONS REACHED LIMIT.\n",
      "\n",
      "Increase the number of iterations (max_iter) or scale the data as shown in:\n",
      "    https://scikit-learn.org/stable/modules/preprocessing.html\n",
      "Please also refer to the documentation for alternative solver options:\n",
      "    https://scikit-learn.org/stable/modules/linear_model.html#logistic-regression\n",
      "  n_iter_i = _check_optimize_result(\n",
      "/Users/gbaldonado/opt/anaconda3/lib/python3.9/site-packages/sklearn/linear_model/_logistic.py:458: ConvergenceWarning: lbfgs failed to converge (status=1):\n",
      "STOP: TOTAL NO. of ITERATIONS REACHED LIMIT.\n",
      "\n",
      "Increase the number of iterations (max_iter) or scale the data as shown in:\n",
      "    https://scikit-learn.org/stable/modules/preprocessing.html\n",
      "Please also refer to the documentation for alternative solver options:\n",
      "    https://scikit-learn.org/stable/modules/linear_model.html#logistic-regression\n",
      "  n_iter_i = _check_optimize_result(\n",
      "/Users/gbaldonado/opt/anaconda3/lib/python3.9/site-packages/sklearn/linear_model/_logistic.py:458: ConvergenceWarning: lbfgs failed to converge (status=1):\n",
      "STOP: TOTAL NO. of ITERATIONS REACHED LIMIT.\n",
      "\n",
      "Increase the number of iterations (max_iter) or scale the data as shown in:\n",
      "    https://scikit-learn.org/stable/modules/preprocessing.html\n",
      "Please also refer to the documentation for alternative solver options:\n",
      "    https://scikit-learn.org/stable/modules/linear_model.html#logistic-regression\n",
      "  n_iter_i = _check_optimize_result(\n",
      "/Users/gbaldonado/opt/anaconda3/lib/python3.9/site-packages/sklearn/linear_model/_logistic.py:458: ConvergenceWarning: lbfgs failed to converge (status=1):\n",
      "STOP: TOTAL NO. of ITERATIONS REACHED LIMIT.\n",
      "\n",
      "Increase the number of iterations (max_iter) or scale the data as shown in:\n",
      "    https://scikit-learn.org/stable/modules/preprocessing.html\n",
      "Please also refer to the documentation for alternative solver options:\n",
      "    https://scikit-learn.org/stable/modules/linear_model.html#logistic-regression\n",
      "  n_iter_i = _check_optimize_result(\n",
      "/Users/gbaldonado/opt/anaconda3/lib/python3.9/site-packages/sklearn/linear_model/_logistic.py:458: ConvergenceWarning: lbfgs failed to converge (status=1):\n",
      "STOP: TOTAL NO. of ITERATIONS REACHED LIMIT.\n",
      "\n",
      "Increase the number of iterations (max_iter) or scale the data as shown in:\n",
      "    https://scikit-learn.org/stable/modules/preprocessing.html\n",
      "Please also refer to the documentation for alternative solver options:\n",
      "    https://scikit-learn.org/stable/modules/linear_model.html#logistic-regression\n",
      "  n_iter_i = _check_optimize_result(\n",
      "/Users/gbaldonado/opt/anaconda3/lib/python3.9/site-packages/sklearn/linear_model/_logistic.py:458: ConvergenceWarning: lbfgs failed to converge (status=1):\n",
      "STOP: TOTAL NO. of ITERATIONS REACHED LIMIT.\n",
      "\n",
      "Increase the number of iterations (max_iter) or scale the data as shown in:\n",
      "    https://scikit-learn.org/stable/modules/preprocessing.html\n",
      "Please also refer to the documentation for alternative solver options:\n",
      "    https://scikit-learn.org/stable/modules/linear_model.html#logistic-regression\n",
      "  n_iter_i = _check_optimize_result(\n",
      "/Users/gbaldonado/opt/anaconda3/lib/python3.9/site-packages/sklearn/linear_model/_logistic.py:458: ConvergenceWarning: lbfgs failed to converge (status=1):\n",
      "STOP: TOTAL NO. of ITERATIONS REACHED LIMIT.\n",
      "\n",
      "Increase the number of iterations (max_iter) or scale the data as shown in:\n",
      "    https://scikit-learn.org/stable/modules/preprocessing.html\n",
      "Please also refer to the documentation for alternative solver options:\n",
      "    https://scikit-learn.org/stable/modules/linear_model.html#logistic-regression\n",
      "  n_iter_i = _check_optimize_result(\n",
      "/Users/gbaldonado/opt/anaconda3/lib/python3.9/site-packages/sklearn/linear_model/_logistic.py:458: ConvergenceWarning: lbfgs failed to converge (status=1):\n",
      "STOP: TOTAL NO. of ITERATIONS REACHED LIMIT.\n",
      "\n",
      "Increase the number of iterations (max_iter) or scale the data as shown in:\n",
      "    https://scikit-learn.org/stable/modules/preprocessing.html\n",
      "Please also refer to the documentation for alternative solver options:\n",
      "    https://scikit-learn.org/stable/modules/linear_model.html#logistic-regression\n",
      "  n_iter_i = _check_optimize_result(\n",
      "/Users/gbaldonado/opt/anaconda3/lib/python3.9/site-packages/sklearn/linear_model/_logistic.py:458: ConvergenceWarning: lbfgs failed to converge (status=1):\n",
      "STOP: TOTAL NO. of ITERATIONS REACHED LIMIT.\n",
      "\n",
      "Increase the number of iterations (max_iter) or scale the data as shown in:\n",
      "    https://scikit-learn.org/stable/modules/preprocessing.html\n",
      "Please also refer to the documentation for alternative solver options:\n",
      "    https://scikit-learn.org/stable/modules/linear_model.html#logistic-regression\n",
      "  n_iter_i = _check_optimize_result(\n",
      "/Users/gbaldonado/opt/anaconda3/lib/python3.9/site-packages/sklearn/linear_model/_logistic.py:458: ConvergenceWarning: lbfgs failed to converge (status=1):\n",
      "STOP: TOTAL NO. of ITERATIONS REACHED LIMIT.\n",
      "\n",
      "Increase the number of iterations (max_iter) or scale the data as shown in:\n",
      "    https://scikit-learn.org/stable/modules/preprocessing.html\n",
      "Please also refer to the documentation for alternative solver options:\n",
      "    https://scikit-learn.org/stable/modules/linear_model.html#logistic-regression\n",
      "  n_iter_i = _check_optimize_result(\n",
      "/Users/gbaldonado/opt/anaconda3/lib/python3.9/site-packages/sklearn/linear_model/_logistic.py:458: ConvergenceWarning: lbfgs failed to converge (status=1):\n",
      "STOP: TOTAL NO. of ITERATIONS REACHED LIMIT.\n",
      "\n",
      "Increase the number of iterations (max_iter) or scale the data as shown in:\n",
      "    https://scikit-learn.org/stable/modules/preprocessing.html\n",
      "Please also refer to the documentation for alternative solver options:\n",
      "    https://scikit-learn.org/stable/modules/linear_model.html#logistic-regression\n",
      "  n_iter_i = _check_optimize_result(\n",
      "/Users/gbaldonado/opt/anaconda3/lib/python3.9/site-packages/sklearn/linear_model/_logistic.py:458: ConvergenceWarning: lbfgs failed to converge (status=1):\n",
      "STOP: TOTAL NO. of ITERATIONS REACHED LIMIT.\n",
      "\n",
      "Increase the number of iterations (max_iter) or scale the data as shown in:\n",
      "    https://scikit-learn.org/stable/modules/preprocessing.html\n",
      "Please also refer to the documentation for alternative solver options:\n",
      "    https://scikit-learn.org/stable/modules/linear_model.html#logistic-regression\n",
      "  n_iter_i = _check_optimize_result(\n",
      "/Users/gbaldonado/opt/anaconda3/lib/python3.9/site-packages/sklearn/linear_model/_logistic.py:458: ConvergenceWarning: lbfgs failed to converge (status=1):\n",
      "STOP: TOTAL NO. of ITERATIONS REACHED LIMIT.\n",
      "\n",
      "Increase the number of iterations (max_iter) or scale the data as shown in:\n",
      "    https://scikit-learn.org/stable/modules/preprocessing.html\n",
      "Please also refer to the documentation for alternative solver options:\n",
      "    https://scikit-learn.org/stable/modules/linear_model.html#logistic-regression\n",
      "  n_iter_i = _check_optimize_result(\n",
      "/Users/gbaldonado/opt/anaconda3/lib/python3.9/site-packages/sklearn/linear_model/_logistic.py:458: ConvergenceWarning: lbfgs failed to converge (status=1):\n",
      "STOP: TOTAL NO. of ITERATIONS REACHED LIMIT.\n",
      "\n",
      "Increase the number of iterations (max_iter) or scale the data as shown in:\n",
      "    https://scikit-learn.org/stable/modules/preprocessing.html\n",
      "Please also refer to the documentation for alternative solver options:\n",
      "    https://scikit-learn.org/stable/modules/linear_model.html#logistic-regression\n",
      "  n_iter_i = _check_optimize_result(\n",
      "/Users/gbaldonado/opt/anaconda3/lib/python3.9/site-packages/sklearn/linear_model/_logistic.py:458: ConvergenceWarning: lbfgs failed to converge (status=1):\n",
      "STOP: TOTAL NO. of ITERATIONS REACHED LIMIT.\n",
      "\n",
      "Increase the number of iterations (max_iter) or scale the data as shown in:\n",
      "    https://scikit-learn.org/stable/modules/preprocessing.html\n",
      "Please also refer to the documentation for alternative solver options:\n",
      "    https://scikit-learn.org/stable/modules/linear_model.html#logistic-regression\n",
      "  n_iter_i = _check_optimize_result(\n",
      "/Users/gbaldonado/opt/anaconda3/lib/python3.9/site-packages/sklearn/linear_model/_logistic.py:458: ConvergenceWarning: lbfgs failed to converge (status=1):\n",
      "STOP: TOTAL NO. of ITERATIONS REACHED LIMIT.\n",
      "\n",
      "Increase the number of iterations (max_iter) or scale the data as shown in:\n",
      "    https://scikit-learn.org/stable/modules/preprocessing.html\n",
      "Please also refer to the documentation for alternative solver options:\n",
      "    https://scikit-learn.org/stable/modules/linear_model.html#logistic-regression\n",
      "  n_iter_i = _check_optimize_result(\n",
      "/Users/gbaldonado/opt/anaconda3/lib/python3.9/site-packages/sklearn/linear_model/_logistic.py:458: ConvergenceWarning: lbfgs failed to converge (status=1):\n",
      "STOP: TOTAL NO. of ITERATIONS REACHED LIMIT.\n",
      "\n",
      "Increase the number of iterations (max_iter) or scale the data as shown in:\n",
      "    https://scikit-learn.org/stable/modules/preprocessing.html\n",
      "Please also refer to the documentation for alternative solver options:\n",
      "    https://scikit-learn.org/stable/modules/linear_model.html#logistic-regression\n",
      "  n_iter_i = _check_optimize_result(\n",
      "/Users/gbaldonado/opt/anaconda3/lib/python3.9/site-packages/sklearn/linear_model/_logistic.py:458: ConvergenceWarning: lbfgs failed to converge (status=1):\n",
      "STOP: TOTAL NO. of ITERATIONS REACHED LIMIT.\n",
      "\n",
      "Increase the number of iterations (max_iter) or scale the data as shown in:\n",
      "    https://scikit-learn.org/stable/modules/preprocessing.html\n",
      "Please also refer to the documentation for alternative solver options:\n",
      "    https://scikit-learn.org/stable/modules/linear_model.html#logistic-regression\n",
      "  n_iter_i = _check_optimize_result(\n",
      "/Users/gbaldonado/opt/anaconda3/lib/python3.9/site-packages/sklearn/linear_model/_logistic.py:458: ConvergenceWarning: lbfgs failed to converge (status=1):\n",
      "STOP: TOTAL NO. of ITERATIONS REACHED LIMIT.\n",
      "\n",
      "Increase the number of iterations (max_iter) or scale the data as shown in:\n",
      "    https://scikit-learn.org/stable/modules/preprocessing.html\n",
      "Please also refer to the documentation for alternative solver options:\n",
      "    https://scikit-learn.org/stable/modules/linear_model.html#logistic-regression\n",
      "  n_iter_i = _check_optimize_result(\n",
      "/Users/gbaldonado/opt/anaconda3/lib/python3.9/site-packages/sklearn/linear_model/_logistic.py:458: ConvergenceWarning: lbfgs failed to converge (status=1):\n",
      "STOP: TOTAL NO. of ITERATIONS REACHED LIMIT.\n",
      "\n",
      "Increase the number of iterations (max_iter) or scale the data as shown in:\n",
      "    https://scikit-learn.org/stable/modules/preprocessing.html\n",
      "Please also refer to the documentation for alternative solver options:\n",
      "    https://scikit-learn.org/stable/modules/linear_model.html#logistic-regression\n",
      "  n_iter_i = _check_optimize_result(\n",
      "/Users/gbaldonado/opt/anaconda3/lib/python3.9/site-packages/sklearn/linear_model/_logistic.py:458: ConvergenceWarning: lbfgs failed to converge (status=1):\n",
      "STOP: TOTAL NO. of ITERATIONS REACHED LIMIT.\n",
      "\n",
      "Increase the number of iterations (max_iter) or scale the data as shown in:\n",
      "    https://scikit-learn.org/stable/modules/preprocessing.html\n",
      "Please also refer to the documentation for alternative solver options:\n",
      "    https://scikit-learn.org/stable/modules/linear_model.html#logistic-regression\n",
      "  n_iter_i = _check_optimize_result(\n",
      "/Users/gbaldonado/opt/anaconda3/lib/python3.9/site-packages/sklearn/linear_model/_logistic.py:458: ConvergenceWarning: lbfgs failed to converge (status=1):\n",
      "STOP: TOTAL NO. of ITERATIONS REACHED LIMIT.\n",
      "\n",
      "Increase the number of iterations (max_iter) or scale the data as shown in:\n",
      "    https://scikit-learn.org/stable/modules/preprocessing.html\n",
      "Please also refer to the documentation for alternative solver options:\n",
      "    https://scikit-learn.org/stable/modules/linear_model.html#logistic-regression\n",
      "  n_iter_i = _check_optimize_result(\n",
      "/Users/gbaldonado/opt/anaconda3/lib/python3.9/site-packages/sklearn/linear_model/_logistic.py:458: ConvergenceWarning: lbfgs failed to converge (status=1):\n",
      "STOP: TOTAL NO. of ITERATIONS REACHED LIMIT.\n",
      "\n",
      "Increase the number of iterations (max_iter) or scale the data as shown in:\n",
      "    https://scikit-learn.org/stable/modules/preprocessing.html\n",
      "Please also refer to the documentation for alternative solver options:\n",
      "    https://scikit-learn.org/stable/modules/linear_model.html#logistic-regression\n",
      "  n_iter_i = _check_optimize_result(\n",
      "/Users/gbaldonado/opt/anaconda3/lib/python3.9/site-packages/sklearn/linear_model/_logistic.py:458: ConvergenceWarning: lbfgs failed to converge (status=1):\n",
      "STOP: TOTAL NO. of ITERATIONS REACHED LIMIT.\n",
      "\n",
      "Increase the number of iterations (max_iter) or scale the data as shown in:\n",
      "    https://scikit-learn.org/stable/modules/preprocessing.html\n",
      "Please also refer to the documentation for alternative solver options:\n",
      "    https://scikit-learn.org/stable/modules/linear_model.html#logistic-regression\n",
      "  n_iter_i = _check_optimize_result(\n",
      "/Users/gbaldonado/opt/anaconda3/lib/python3.9/site-packages/sklearn/linear_model/_logistic.py:458: ConvergenceWarning: lbfgs failed to converge (status=1):\n",
      "STOP: TOTAL NO. of ITERATIONS REACHED LIMIT.\n",
      "\n",
      "Increase the number of iterations (max_iter) or scale the data as shown in:\n",
      "    https://scikit-learn.org/stable/modules/preprocessing.html\n",
      "Please also refer to the documentation for alternative solver options:\n",
      "    https://scikit-learn.org/stable/modules/linear_model.html#logistic-regression\n",
      "  n_iter_i = _check_optimize_result(\n",
      "/Users/gbaldonado/opt/anaconda3/lib/python3.9/site-packages/sklearn/linear_model/_logistic.py:458: ConvergenceWarning: lbfgs failed to converge (status=1):\n",
      "STOP: TOTAL NO. of ITERATIONS REACHED LIMIT.\n",
      "\n",
      "Increase the number of iterations (max_iter) or scale the data as shown in:\n",
      "    https://scikit-learn.org/stable/modules/preprocessing.html\n",
      "Please also refer to the documentation for alternative solver options:\n",
      "    https://scikit-learn.org/stable/modules/linear_model.html#logistic-regression\n",
      "  n_iter_i = _check_optimize_result(\n",
      "/Users/gbaldonado/opt/anaconda3/lib/python3.9/site-packages/sklearn/linear_model/_logistic.py:458: ConvergenceWarning: lbfgs failed to converge (status=1):\n",
      "STOP: TOTAL NO. of ITERATIONS REACHED LIMIT.\n",
      "\n",
      "Increase the number of iterations (max_iter) or scale the data as shown in:\n",
      "    https://scikit-learn.org/stable/modules/preprocessing.html\n",
      "Please also refer to the documentation for alternative solver options:\n",
      "    https://scikit-learn.org/stable/modules/linear_model.html#logistic-regression\n",
      "  n_iter_i = _check_optimize_result(\n",
      "/Users/gbaldonado/opt/anaconda3/lib/python3.9/site-packages/sklearn/linear_model/_logistic.py:458: ConvergenceWarning: lbfgs failed to converge (status=1):\n",
      "STOP: TOTAL NO. of ITERATIONS REACHED LIMIT.\n",
      "\n",
      "Increase the number of iterations (max_iter) or scale the data as shown in:\n",
      "    https://scikit-learn.org/stable/modules/preprocessing.html\n",
      "Please also refer to the documentation for alternative solver options:\n",
      "    https://scikit-learn.org/stable/modules/linear_model.html#logistic-regression\n",
      "  n_iter_i = _check_optimize_result(\n",
      "/Users/gbaldonado/opt/anaconda3/lib/python3.9/site-packages/sklearn/linear_model/_logistic.py:458: ConvergenceWarning: lbfgs failed to converge (status=1):\n",
      "STOP: TOTAL NO. of ITERATIONS REACHED LIMIT.\n",
      "\n",
      "Increase the number of iterations (max_iter) or scale the data as shown in:\n",
      "    https://scikit-learn.org/stable/modules/preprocessing.html\n",
      "Please also refer to the documentation for alternative solver options:\n",
      "    https://scikit-learn.org/stable/modules/linear_model.html#logistic-regression\n",
      "  n_iter_i = _check_optimize_result(\n",
      "/Users/gbaldonado/opt/anaconda3/lib/python3.9/site-packages/sklearn/linear_model/_logistic.py:458: ConvergenceWarning: lbfgs failed to converge (status=1):\n",
      "STOP: TOTAL NO. of ITERATIONS REACHED LIMIT.\n",
      "\n",
      "Increase the number of iterations (max_iter) or scale the data as shown in:\n",
      "    https://scikit-learn.org/stable/modules/preprocessing.html\n",
      "Please also refer to the documentation for alternative solver options:\n",
      "    https://scikit-learn.org/stable/modules/linear_model.html#logistic-regression\n",
      "  n_iter_i = _check_optimize_result(\n",
      "/Users/gbaldonado/opt/anaconda3/lib/python3.9/site-packages/sklearn/linear_model/_logistic.py:458: ConvergenceWarning: lbfgs failed to converge (status=1):\n",
      "STOP: TOTAL NO. of ITERATIONS REACHED LIMIT.\n",
      "\n",
      "Increase the number of iterations (max_iter) or scale the data as shown in:\n",
      "    https://scikit-learn.org/stable/modules/preprocessing.html\n",
      "Please also refer to the documentation for alternative solver options:\n",
      "    https://scikit-learn.org/stable/modules/linear_model.html#logistic-regression\n",
      "  n_iter_i = _check_optimize_result(\n",
      "/Users/gbaldonado/opt/anaconda3/lib/python3.9/site-packages/sklearn/linear_model/_logistic.py:458: ConvergenceWarning: lbfgs failed to converge (status=1):\n",
      "STOP: TOTAL NO. of ITERATIONS REACHED LIMIT.\n",
      "\n",
      "Increase the number of iterations (max_iter) or scale the data as shown in:\n",
      "    https://scikit-learn.org/stable/modules/preprocessing.html\n",
      "Please also refer to the documentation for alternative solver options:\n",
      "    https://scikit-learn.org/stable/modules/linear_model.html#logistic-regression\n",
      "  n_iter_i = _check_optimize_result(\n",
      "/Users/gbaldonado/opt/anaconda3/lib/python3.9/site-packages/sklearn/linear_model/_logistic.py:458: ConvergenceWarning: lbfgs failed to converge (status=1):\n",
      "STOP: TOTAL NO. of ITERATIONS REACHED LIMIT.\n",
      "\n",
      "Increase the number of iterations (max_iter) or scale the data as shown in:\n",
      "    https://scikit-learn.org/stable/modules/preprocessing.html\n",
      "Please also refer to the documentation for alternative solver options:\n",
      "    https://scikit-learn.org/stable/modules/linear_model.html#logistic-regression\n",
      "  n_iter_i = _check_optimize_result(\n",
      "/Users/gbaldonado/opt/anaconda3/lib/python3.9/site-packages/sklearn/linear_model/_logistic.py:458: ConvergenceWarning: lbfgs failed to converge (status=1):\n",
      "STOP: TOTAL NO. of ITERATIONS REACHED LIMIT.\n",
      "\n",
      "Increase the number of iterations (max_iter) or scale the data as shown in:\n",
      "    https://scikit-learn.org/stable/modules/preprocessing.html\n",
      "Please also refer to the documentation for alternative solver options:\n",
      "    https://scikit-learn.org/stable/modules/linear_model.html#logistic-regression\n",
      "  n_iter_i = _check_optimize_result(\n",
      "/Users/gbaldonado/opt/anaconda3/lib/python3.9/site-packages/sklearn/linear_model/_logistic.py:458: ConvergenceWarning: lbfgs failed to converge (status=1):\n",
      "STOP: TOTAL NO. of ITERATIONS REACHED LIMIT.\n",
      "\n",
      "Increase the number of iterations (max_iter) or scale the data as shown in:\n",
      "    https://scikit-learn.org/stable/modules/preprocessing.html\n",
      "Please also refer to the documentation for alternative solver options:\n",
      "    https://scikit-learn.org/stable/modules/linear_model.html#logistic-regression\n",
      "  n_iter_i = _check_optimize_result(\n",
      "/Users/gbaldonado/opt/anaconda3/lib/python3.9/site-packages/sklearn/linear_model/_logistic.py:458: ConvergenceWarning: lbfgs failed to converge (status=1):\n",
      "STOP: TOTAL NO. of ITERATIONS REACHED LIMIT.\n",
      "\n",
      "Increase the number of iterations (max_iter) or scale the data as shown in:\n",
      "    https://scikit-learn.org/stable/modules/preprocessing.html\n",
      "Please also refer to the documentation for alternative solver options:\n",
      "    https://scikit-learn.org/stable/modules/linear_model.html#logistic-regression\n",
      "  n_iter_i = _check_optimize_result(\n",
      "/Users/gbaldonado/opt/anaconda3/lib/python3.9/site-packages/sklearn/linear_model/_logistic.py:458: ConvergenceWarning: lbfgs failed to converge (status=1):\n",
      "STOP: TOTAL NO. of ITERATIONS REACHED LIMIT.\n",
      "\n",
      "Increase the number of iterations (max_iter) or scale the data as shown in:\n",
      "    https://scikit-learn.org/stable/modules/preprocessing.html\n",
      "Please also refer to the documentation for alternative solver options:\n",
      "    https://scikit-learn.org/stable/modules/linear_model.html#logistic-regression\n",
      "  n_iter_i = _check_optimize_result(\n",
      "/Users/gbaldonado/opt/anaconda3/lib/python3.9/site-packages/sklearn/linear_model/_logistic.py:458: ConvergenceWarning: lbfgs failed to converge (status=1):\n",
      "STOP: TOTAL NO. of ITERATIONS REACHED LIMIT.\n",
      "\n",
      "Increase the number of iterations (max_iter) or scale the data as shown in:\n",
      "    https://scikit-learn.org/stable/modules/preprocessing.html\n",
      "Please also refer to the documentation for alternative solver options:\n",
      "    https://scikit-learn.org/stable/modules/linear_model.html#logistic-regression\n",
      "  n_iter_i = _check_optimize_result(\n",
      "/Users/gbaldonado/opt/anaconda3/lib/python3.9/site-packages/sklearn/linear_model/_logistic.py:458: ConvergenceWarning: lbfgs failed to converge (status=1):\n",
      "STOP: TOTAL NO. of ITERATIONS REACHED LIMIT.\n",
      "\n",
      "Increase the number of iterations (max_iter) or scale the data as shown in:\n",
      "    https://scikit-learn.org/stable/modules/preprocessing.html\n",
      "Please also refer to the documentation for alternative solver options:\n",
      "    https://scikit-learn.org/stable/modules/linear_model.html#logistic-regression\n",
      "  n_iter_i = _check_optimize_result(\n",
      "/Users/gbaldonado/opt/anaconda3/lib/python3.9/site-packages/sklearn/linear_model/_logistic.py:458: ConvergenceWarning: lbfgs failed to converge (status=1):\n",
      "STOP: TOTAL NO. of ITERATIONS REACHED LIMIT.\n",
      "\n",
      "Increase the number of iterations (max_iter) or scale the data as shown in:\n",
      "    https://scikit-learn.org/stable/modules/preprocessing.html\n",
      "Please also refer to the documentation for alternative solver options:\n",
      "    https://scikit-learn.org/stable/modules/linear_model.html#logistic-regression\n",
      "  n_iter_i = _check_optimize_result(\n",
      "/Users/gbaldonado/opt/anaconda3/lib/python3.9/site-packages/sklearn/linear_model/_logistic.py:458: ConvergenceWarning: lbfgs failed to converge (status=1):\n",
      "STOP: TOTAL NO. of ITERATIONS REACHED LIMIT.\n",
      "\n",
      "Increase the number of iterations (max_iter) or scale the data as shown in:\n",
      "    https://scikit-learn.org/stable/modules/preprocessing.html\n",
      "Please also refer to the documentation for alternative solver options:\n",
      "    https://scikit-learn.org/stable/modules/linear_model.html#logistic-regression\n",
      "  n_iter_i = _check_optimize_result(\n",
      "/Users/gbaldonado/opt/anaconda3/lib/python3.9/site-packages/sklearn/linear_model/_logistic.py:458: ConvergenceWarning: lbfgs failed to converge (status=1):\n",
      "STOP: TOTAL NO. of ITERATIONS REACHED LIMIT.\n",
      "\n",
      "Increase the number of iterations (max_iter) or scale the data as shown in:\n",
      "    https://scikit-learn.org/stable/modules/preprocessing.html\n",
      "Please also refer to the documentation for alternative solver options:\n",
      "    https://scikit-learn.org/stable/modules/linear_model.html#logistic-regression\n",
      "  n_iter_i = _check_optimize_result(\n",
      "/Users/gbaldonado/opt/anaconda3/lib/python3.9/site-packages/sklearn/linear_model/_logistic.py:458: ConvergenceWarning: lbfgs failed to converge (status=1):\n",
      "STOP: TOTAL NO. of ITERATIONS REACHED LIMIT.\n",
      "\n",
      "Increase the number of iterations (max_iter) or scale the data as shown in:\n",
      "    https://scikit-learn.org/stable/modules/preprocessing.html\n",
      "Please also refer to the documentation for alternative solver options:\n",
      "    https://scikit-learn.org/stable/modules/linear_model.html#logistic-regression\n",
      "  n_iter_i = _check_optimize_result(\n",
      "/Users/gbaldonado/opt/anaconda3/lib/python3.9/site-packages/sklearn/linear_model/_logistic.py:458: ConvergenceWarning: lbfgs failed to converge (status=1):\n",
      "STOP: TOTAL NO. of ITERATIONS REACHED LIMIT.\n",
      "\n",
      "Increase the number of iterations (max_iter) or scale the data as shown in:\n",
      "    https://scikit-learn.org/stable/modules/preprocessing.html\n",
      "Please also refer to the documentation for alternative solver options:\n",
      "    https://scikit-learn.org/stable/modules/linear_model.html#logistic-regression\n",
      "  n_iter_i = _check_optimize_result(\n",
      "/Users/gbaldonado/opt/anaconda3/lib/python3.9/site-packages/sklearn/linear_model/_logistic.py:458: ConvergenceWarning: lbfgs failed to converge (status=1):\n",
      "STOP: TOTAL NO. of ITERATIONS REACHED LIMIT.\n",
      "\n",
      "Increase the number of iterations (max_iter) or scale the data as shown in:\n",
      "    https://scikit-learn.org/stable/modules/preprocessing.html\n",
      "Please also refer to the documentation for alternative solver options:\n",
      "    https://scikit-learn.org/stable/modules/linear_model.html#logistic-regression\n",
      "  n_iter_i = _check_optimize_result(\n",
      "/Users/gbaldonado/opt/anaconda3/lib/python3.9/site-packages/sklearn/linear_model/_logistic.py:458: ConvergenceWarning: lbfgs failed to converge (status=1):\n",
      "STOP: TOTAL NO. of ITERATIONS REACHED LIMIT.\n",
      "\n",
      "Increase the number of iterations (max_iter) or scale the data as shown in:\n",
      "    https://scikit-learn.org/stable/modules/preprocessing.html\n",
      "Please also refer to the documentation for alternative solver options:\n",
      "    https://scikit-learn.org/stable/modules/linear_model.html#logistic-regression\n",
      "  n_iter_i = _check_optimize_result(\n",
      "/Users/gbaldonado/opt/anaconda3/lib/python3.9/site-packages/sklearn/linear_model/_logistic.py:458: ConvergenceWarning: lbfgs failed to converge (status=1):\n",
      "STOP: TOTAL NO. of ITERATIONS REACHED LIMIT.\n",
      "\n",
      "Increase the number of iterations (max_iter) or scale the data as shown in:\n",
      "    https://scikit-learn.org/stable/modules/preprocessing.html\n",
      "Please also refer to the documentation for alternative solver options:\n",
      "    https://scikit-learn.org/stable/modules/linear_model.html#logistic-regression\n",
      "  n_iter_i = _check_optimize_result(\n",
      "/Users/gbaldonado/opt/anaconda3/lib/python3.9/site-packages/sklearn/linear_model/_logistic.py:458: ConvergenceWarning: lbfgs failed to converge (status=1):\n",
      "STOP: TOTAL NO. of ITERATIONS REACHED LIMIT.\n",
      "\n",
      "Increase the number of iterations (max_iter) or scale the data as shown in:\n",
      "    https://scikit-learn.org/stable/modules/preprocessing.html\n",
      "Please also refer to the documentation for alternative solver options:\n",
      "    https://scikit-learn.org/stable/modules/linear_model.html#logistic-regression\n",
      "  n_iter_i = _check_optimize_result(\n",
      "/Users/gbaldonado/opt/anaconda3/lib/python3.9/site-packages/sklearn/linear_model/_logistic.py:458: ConvergenceWarning: lbfgs failed to converge (status=1):\n",
      "STOP: TOTAL NO. of ITERATIONS REACHED LIMIT.\n",
      "\n",
      "Increase the number of iterations (max_iter) or scale the data as shown in:\n",
      "    https://scikit-learn.org/stable/modules/preprocessing.html\n",
      "Please also refer to the documentation for alternative solver options:\n",
      "    https://scikit-learn.org/stable/modules/linear_model.html#logistic-regression\n",
      "  n_iter_i = _check_optimize_result(\n",
      "/Users/gbaldonado/opt/anaconda3/lib/python3.9/site-packages/sklearn/linear_model/_logistic.py:458: ConvergenceWarning: lbfgs failed to converge (status=1):\n",
      "STOP: TOTAL NO. of ITERATIONS REACHED LIMIT.\n",
      "\n",
      "Increase the number of iterations (max_iter) or scale the data as shown in:\n",
      "    https://scikit-learn.org/stable/modules/preprocessing.html\n",
      "Please also refer to the documentation for alternative solver options:\n",
      "    https://scikit-learn.org/stable/modules/linear_model.html#logistic-regression\n",
      "  n_iter_i = _check_optimize_result(\n",
      "/Users/gbaldonado/opt/anaconda3/lib/python3.9/site-packages/sklearn/linear_model/_logistic.py:458: ConvergenceWarning: lbfgs failed to converge (status=1):\n",
      "STOP: TOTAL NO. of ITERATIONS REACHED LIMIT.\n",
      "\n",
      "Increase the number of iterations (max_iter) or scale the data as shown in:\n",
      "    https://scikit-learn.org/stable/modules/preprocessing.html\n",
      "Please also refer to the documentation for alternative solver options:\n",
      "    https://scikit-learn.org/stable/modules/linear_model.html#logistic-regression\n",
      "  n_iter_i = _check_optimize_result(\n",
      "/Users/gbaldonado/opt/anaconda3/lib/python3.9/site-packages/sklearn/linear_model/_logistic.py:458: ConvergenceWarning: lbfgs failed to converge (status=1):\n",
      "STOP: TOTAL NO. of ITERATIONS REACHED LIMIT.\n",
      "\n",
      "Increase the number of iterations (max_iter) or scale the data as shown in:\n",
      "    https://scikit-learn.org/stable/modules/preprocessing.html\n",
      "Please also refer to the documentation for alternative solver options:\n",
      "    https://scikit-learn.org/stable/modules/linear_model.html#logistic-regression\n",
      "  n_iter_i = _check_optimize_result(\n",
      "/Users/gbaldonado/opt/anaconda3/lib/python3.9/site-packages/sklearn/linear_model/_logistic.py:458: ConvergenceWarning: lbfgs failed to converge (status=1):\n",
      "STOP: TOTAL NO. of ITERATIONS REACHED LIMIT.\n",
      "\n",
      "Increase the number of iterations (max_iter) or scale the data as shown in:\n",
      "    https://scikit-learn.org/stable/modules/preprocessing.html\n",
      "Please also refer to the documentation for alternative solver options:\n",
      "    https://scikit-learn.org/stable/modules/linear_model.html#logistic-regression\n",
      "  n_iter_i = _check_optimize_result(\n",
      "/Users/gbaldonado/opt/anaconda3/lib/python3.9/site-packages/sklearn/model_selection/_validation.py:378: FitFailedWarning: \n",
      "120 fits failed out of a total of 480.\n",
      "The score on these train-test partitions for these parameters will be set to nan.\n",
      "If these failures are not expected, you can try to debug them by setting error_score='raise'.\n",
      "\n",
      "Below are more details about the failures:\n",
      "--------------------------------------------------------------------------------\n",
      "120 fits failed with the following error:\n",
      "Traceback (most recent call last):\n",
      "  File \"/Users/gbaldonado/opt/anaconda3/lib/python3.9/site-packages/sklearn/model_selection/_validation.py\", line 686, in _fit_and_score\n",
      "    estimator.fit(X_train, y_train, **fit_params)\n",
      "  File \"/Users/gbaldonado/opt/anaconda3/lib/python3.9/site-packages/sklearn/linear_model/_logistic.py\", line 1162, in fit\n",
      "    solver = _check_solver(self.solver, self.penalty, self.dual)\n",
      "  File \"/Users/gbaldonado/opt/anaconda3/lib/python3.9/site-packages/sklearn/linear_model/_logistic.py\", line 54, in _check_solver\n",
      "    raise ValueError(\n",
      "ValueError: Solver lbfgs supports only 'l2' or 'none' penalties, got l1 penalty.\n",
      "\n",
      "  warnings.warn(some_fits_failed_message, FitFailedWarning)\n",
      "/Users/gbaldonado/opt/anaconda3/lib/python3.9/site-packages/sklearn/model_selection/_search.py:953: UserWarning: One or more of the test scores are non-finite: [       nan 0.47211449 0.57003102 0.55101416        nan 0.47211449\n",
      " 0.57003102 0.55101416        nan 0.47211449 0.57003102 0.55101416\n",
      "        nan 0.58430814 0.59581043 0.60393435        nan 0.58430814\n",
      " 0.60366595 0.60393435        nan 0.58430814 0.60366595 0.60393435\n",
      "        nan 0.58935984 0.58913027 0.58091103        nan 0.58705649\n",
      " 0.59363631 0.58091103        nan 0.58681282 0.59543746 0.58091103\n",
      "        nan 0.54595193 0.56027156 0.54990784        nan 0.54828609\n",
      " 0.54940324 0.54990784        nan 0.54306827 0.55652364 0.54990784]\n",
      "  warnings.warn(\n"
     ]
    },
    {
     "name": "stdout",
     "output_type": "stream",
     "text": [
      "\n",
      "score is appended\n",
      "\n",
      "MultinomialNB()\n",
      "\n",
      "fitting...\n",
      "Fitting 10 folds for each of 12 candidates, totalling 120 fits\n",
      "\n",
      "score is appended\n",
      "\n",
      "SVC()\n",
      "\n",
      "fitting...\n",
      "Fitting 10 folds for each of 16 candidates, totalling 160 fits\n",
      "\n",
      "score is appended\n",
      "\n"
     ]
    }
   ],
   "source": [
    "scores = []\n",
    "\n",
    "for model_name, mp in model_params.items():\n",
    "    clf = GridSearchCV(mp['model'], mp['params'], scoring=\"f1_weighted\", cv = 10, n_jobs=-1, verbose=1)\n",
    "    \n",
    "    print(mp['model'])\n",
    "    print('\\nfitting...')\n",
    "    clf.fit(X_train_1, y_train_1)\n",
    "    scores.append({\n",
    "        'model' : model_name,\n",
    "        'best_score' : clf.best_score_,\n",
    "        'best_params' : clf.best_params_\n",
    "    })\n",
    "    print('\\nscore is appended\\n')"
   ]
  },
  {
   "cell_type": "code",
   "execution_count": 527,
   "id": "7cf19803-5fb0-485c-af07-29d3d46d5e09",
   "metadata": {},
   "outputs": [
    {
     "data": {
      "text/plain": [
       "[{'model': 'random_forest',\n",
       "  'best_score': 0.5088922981631943,\n",
       "  'best_params': {'max_features': 8,\n",
       "   'min_samples_leaf': 1,\n",
       "   'n_estimators': 100}},\n",
       " {'model': 'logistics_regression',\n",
       "  'best_score': 0.6039343511354601,\n",
       "  'best_params': {'C': 1,\n",
       "   'max_iter': 200,\n",
       "   'penalty': 'l2',\n",
       "   'solver': 'liblinear'}},\n",
       " {'model': 'MultinomialNB',\n",
       "  'best_score': 0.6430461126944698,\n",
       "  'best_params': {'alpha': 1.1, 'fit_prior': False}},\n",
       " {'model': 'SVM',\n",
       "  'best_score': 0.6126330200817317,\n",
       "  'best_params': {'C': 1, 'gamma': 0.001, 'kernel': 'linear'}}]"
      ]
     },
     "execution_count": 527,
     "metadata": {},
     "output_type": "execute_result"
    }
   ],
   "source": [
    "scores"
   ]
  },
  {
   "cell_type": "markdown",
   "id": "d65e90ed-c925-4d72-bc8a-154939a2dcf2",
   "metadata": {
    "jp-MarkdownHeadingCollapsed": true,
    "tags": []
   },
   "source": [
    "#### Evaluation: Random Forest Model 1"
   ]
  },
  {
   "cell_type": "code",
   "execution_count": 528,
   "id": "4032c19a-8be2-4574-a46e-a0991b91a6a0",
   "metadata": {},
   "outputs": [
    {
     "data": {
      "text/plain": [
       "{'max_features': 8, 'min_samples_leaf': 1, 'n_estimators': 100}"
      ]
     },
     "execution_count": 528,
     "metadata": {},
     "output_type": "execute_result"
    }
   ],
   "source": [
    "best_parameters = scores[0][\"best_params\"]\n",
    "best_parameters"
   ]
  },
  {
   "cell_type": "code",
   "execution_count": 529,
   "id": "b5ecf1e9-1fc8-414a-a34e-18045f8b1d25",
   "metadata": {},
   "outputs": [
    {
     "data": {
      "text/html": [
       "<style>#sk-container-id-29 {color: black;background-color: white;}#sk-container-id-29 pre{padding: 0;}#sk-container-id-29 div.sk-toggleable {background-color: white;}#sk-container-id-29 label.sk-toggleable__label {cursor: pointer;display: block;width: 100%;margin-bottom: 0;padding: 0.3em;box-sizing: border-box;text-align: center;}#sk-container-id-29 label.sk-toggleable__label-arrow:before {content: \"▸\";float: left;margin-right: 0.25em;color: #696969;}#sk-container-id-29 label.sk-toggleable__label-arrow:hover:before {color: black;}#sk-container-id-29 div.sk-estimator:hover label.sk-toggleable__label-arrow:before {color: black;}#sk-container-id-29 div.sk-toggleable__content {max-height: 0;max-width: 0;overflow: hidden;text-align: left;background-color: #f0f8ff;}#sk-container-id-29 div.sk-toggleable__content pre {margin: 0.2em;color: black;border-radius: 0.25em;background-color: #f0f8ff;}#sk-container-id-29 input.sk-toggleable__control:checked~div.sk-toggleable__content {max-height: 200px;max-width: 100%;overflow: auto;}#sk-container-id-29 input.sk-toggleable__control:checked~label.sk-toggleable__label-arrow:before {content: \"▾\";}#sk-container-id-29 div.sk-estimator input.sk-toggleable__control:checked~label.sk-toggleable__label {background-color: #d4ebff;}#sk-container-id-29 div.sk-label input.sk-toggleable__control:checked~label.sk-toggleable__label {background-color: #d4ebff;}#sk-container-id-29 input.sk-hidden--visually {border: 0;clip: rect(1px 1px 1px 1px);clip: rect(1px, 1px, 1px, 1px);height: 1px;margin: -1px;overflow: hidden;padding: 0;position: absolute;width: 1px;}#sk-container-id-29 div.sk-estimator {font-family: monospace;background-color: #f0f8ff;border: 1px dotted black;border-radius: 0.25em;box-sizing: border-box;margin-bottom: 0.5em;}#sk-container-id-29 div.sk-estimator:hover {background-color: #d4ebff;}#sk-container-id-29 div.sk-parallel-item::after {content: \"\";width: 100%;border-bottom: 1px solid gray;flex-grow: 1;}#sk-container-id-29 div.sk-label:hover label.sk-toggleable__label {background-color: #d4ebff;}#sk-container-id-29 div.sk-serial::before {content: \"\";position: absolute;border-left: 1px solid gray;box-sizing: border-box;top: 0;bottom: 0;left: 50%;z-index: 0;}#sk-container-id-29 div.sk-serial {display: flex;flex-direction: column;align-items: center;background-color: white;padding-right: 0.2em;padding-left: 0.2em;position: relative;}#sk-container-id-29 div.sk-item {position: relative;z-index: 1;}#sk-container-id-29 div.sk-parallel {display: flex;align-items: stretch;justify-content: center;background-color: white;position: relative;}#sk-container-id-29 div.sk-item::before, #sk-container-id-29 div.sk-parallel-item::before {content: \"\";position: absolute;border-left: 1px solid gray;box-sizing: border-box;top: 0;bottom: 0;left: 50%;z-index: -1;}#sk-container-id-29 div.sk-parallel-item {display: flex;flex-direction: column;z-index: 1;position: relative;background-color: white;}#sk-container-id-29 div.sk-parallel-item:first-child::after {align-self: flex-end;width: 50%;}#sk-container-id-29 div.sk-parallel-item:last-child::after {align-self: flex-start;width: 50%;}#sk-container-id-29 div.sk-parallel-item:only-child::after {width: 0;}#sk-container-id-29 div.sk-dashed-wrapped {border: 1px dashed gray;margin: 0 0.4em 0.5em 0.4em;box-sizing: border-box;padding-bottom: 0.4em;background-color: white;}#sk-container-id-29 div.sk-label label {font-family: monospace;font-weight: bold;display: inline-block;line-height: 1.2em;}#sk-container-id-29 div.sk-label-container {text-align: center;}#sk-container-id-29 div.sk-container {/* jupyter's `normalize.less` sets `[hidden] { display: none; }` but bootstrap.min.css set `[hidden] { display: none !important; }` so we also need the `!important` here to be able to override the default hidden behavior on the sphinx rendered scikit-learn.org. See: https://github.com/scikit-learn/scikit-learn/issues/21755 */display: inline-block !important;position: relative;}#sk-container-id-29 div.sk-text-repr-fallback {display: none;}</style><div id=\"sk-container-id-29\" class=\"sk-top-container\"><div class=\"sk-text-repr-fallback\"><pre>RandomForestClassifier(max_features=8, random_state=18)</pre><b>In a Jupyter environment, please rerun this cell to show the HTML representation or trust the notebook. <br />On GitHub, the HTML representation is unable to render, please try loading this page with nbviewer.org.</b></div><div class=\"sk-container\" hidden><div class=\"sk-item\"><div class=\"sk-estimator sk-toggleable\"><input class=\"sk-toggleable__control sk-hidden--visually\" id=\"sk-estimator-id-29\" type=\"checkbox\" checked><label for=\"sk-estimator-id-29\" class=\"sk-toggleable__label sk-toggleable__label-arrow\">RandomForestClassifier</label><div class=\"sk-toggleable__content\"><pre>RandomForestClassifier(max_features=8, random_state=18)</pre></div></div></div></div></div>"
      ],
      "text/plain": [
       "RandomForestClassifier(max_features=8, random_state=18)"
      ]
     },
     "execution_count": 529,
     "metadata": {},
     "output_type": "execute_result"
    }
   ],
   "source": [
    "rf_model_1 = RandomForestClassifier(random_state=18,\n",
    "                                    max_features=best_parameters['max_features'],\n",
    "                                    min_samples_leaf=best_parameters['min_samples_leaf'],\n",
    "                                    n_estimators=best_parameters['n_estimators'])\n",
    "\n",
    "rf_model_1.fit(X_train_1, y_train_1)"
   ]
  },
  {
   "cell_type": "code",
   "execution_count": 530,
   "id": "155b5ac6-84a8-433e-8245-6b71d9a3f9c1",
   "metadata": {},
   "outputs": [
    {
     "name": "stdout",
     "output_type": "stream",
     "text": [
      "Evaluation Random Forest Classifier: Model 1\n",
      "--------------------------------------------------------------------------------\n",
      "Mean accuracy score on training set 1.0\n",
      "Mean accuracy score on test set 0.5607476635514018\n"
     ]
    },
    {
     "data": {
      "image/png": "[encoded data removed]",
      "text/plain": [
       "<Figure size 432x288 with 2 Axes>"
      ]
     },
     "metadata": {
      "needs_background": "light"
     },
     "output_type": "display_data"
    },
    {
     "name": "stdout",
     "output_type": "stream",
     "text": [
      "              precision    recall  f1-score   support\n",
      "\n",
      "           0       0.70      0.28      0.40        50\n",
      "           1       0.61      0.60      0.60        77\n",
      "           2       0.51      0.69      0.59        87\n",
      "\n",
      "    accuracy                           0.56       214\n",
      "   macro avg       0.60      0.52      0.53       214\n",
      "weighted avg       0.59      0.56      0.55       214\n",
      "\n"
     ]
    }
   ],
   "source": [
    "_ = evaluate_random_forest(rf_model_1, X_train_1, y_train_1, X_test_1, y_test_1, name=\"Model 1\")"
   ]
  },
  {
   "cell_type": "markdown",
   "id": "b60226a9-c7d2-4a1b-9e45-0c348e4f3431",
   "metadata": {
    "jp-MarkdownHeadingCollapsed": true,
    "tags": []
   },
   "source": [
    "#### Evaluation: Logistic Regression Model 1"
   ]
  },
  {
   "cell_type": "code",
   "execution_count": 531,
   "id": "752a81e2-1705-42bd-aae2-e9a6f4bd5fee",
   "metadata": {},
   "outputs": [
    {
     "data": {
      "text/plain": [
       "{'C': 1, 'max_iter': 200, 'penalty': 'l2', 'solver': 'liblinear'}"
      ]
     },
     "execution_count": 531,
     "metadata": {},
     "output_type": "execute_result"
    }
   ],
   "source": [
    "best_parameters = scores[1][\"best_params\"]\n",
    "best_parameters"
   ]
  },
  {
   "cell_type": "code",
   "execution_count": 532,
   "id": "9d7279c6-b12a-4fe5-a34f-18a4e173cc9e",
   "metadata": {},
   "outputs": [
    {
     "data": {
      "text/html": [
       "<style>#sk-container-id-30 {color: black;background-color: white;}#sk-container-id-30 pre{padding: 0;}#sk-container-id-30 div.sk-toggleable {background-color: white;}#sk-container-id-30 label.sk-toggleable__label {cursor: pointer;display: block;width: 100%;margin-bottom: 0;padding: 0.3em;box-sizing: border-box;text-align: center;}#sk-container-id-30 label.sk-toggleable__label-arrow:before {content: \"▸\";float: left;margin-right: 0.25em;color: #696969;}#sk-container-id-30 label.sk-toggleable__label-arrow:hover:before {color: black;}#sk-container-id-30 div.sk-estimator:hover label.sk-toggleable__label-arrow:before {color: black;}#sk-container-id-30 div.sk-toggleable__content {max-height: 0;max-width: 0;overflow: hidden;text-align: left;background-color: #f0f8ff;}#sk-container-id-30 div.sk-toggleable__content pre {margin: 0.2em;color: black;border-radius: 0.25em;background-color: #f0f8ff;}#sk-container-id-30 input.sk-toggleable__control:checked~div.sk-toggleable__content {max-height: 200px;max-width: 100%;overflow: auto;}#sk-container-id-30 input.sk-toggleable__control:checked~label.sk-toggleable__label-arrow:before {content: \"▾\";}#sk-container-id-30 div.sk-estimator input.sk-toggleable__control:checked~label.sk-toggleable__label {background-color: #d4ebff;}#sk-container-id-30 div.sk-label input.sk-toggleable__control:checked~label.sk-toggleable__label {background-color: #d4ebff;}#sk-container-id-30 input.sk-hidden--visually {border: 0;clip: rect(1px 1px 1px 1px);clip: rect(1px, 1px, 1px, 1px);height: 1px;margin: -1px;overflow: hidden;padding: 0;position: absolute;width: 1px;}#sk-container-id-30 div.sk-estimator {font-family: monospace;background-color: #f0f8ff;border: 1px dotted black;border-radius: 0.25em;box-sizing: border-box;margin-bottom: 0.5em;}#sk-container-id-30 div.sk-estimator:hover {background-color: #d4ebff;}#sk-container-id-30 div.sk-parallel-item::after {content: \"\";width: 100%;border-bottom: 1px solid gray;flex-grow: 1;}#sk-container-id-30 div.sk-label:hover label.sk-toggleable__label {background-color: #d4ebff;}#sk-container-id-30 div.sk-serial::before {content: \"\";position: absolute;border-left: 1px solid gray;box-sizing: border-box;top: 0;bottom: 0;left: 50%;z-index: 0;}#sk-container-id-30 div.sk-serial {display: flex;flex-direction: column;align-items: center;background-color: white;padding-right: 0.2em;padding-left: 0.2em;position: relative;}#sk-container-id-30 div.sk-item {position: relative;z-index: 1;}#sk-container-id-30 div.sk-parallel {display: flex;align-items: stretch;justify-content: center;background-color: white;position: relative;}#sk-container-id-30 div.sk-item::before, #sk-container-id-30 div.sk-parallel-item::before {content: \"\";position: absolute;border-left: 1px solid gray;box-sizing: border-box;top: 0;bottom: 0;left: 50%;z-index: -1;}#sk-container-id-30 div.sk-parallel-item {display: flex;flex-direction: column;z-index: 1;position: relative;background-color: white;}#sk-container-id-30 div.sk-parallel-item:first-child::after {align-self: flex-end;width: 50%;}#sk-container-id-30 div.sk-parallel-item:last-child::after {align-self: flex-start;width: 50%;}#sk-container-id-30 div.sk-parallel-item:only-child::after {width: 0;}#sk-container-id-30 div.sk-dashed-wrapped {border: 1px dashed gray;margin: 0 0.4em 0.5em 0.4em;box-sizing: border-box;padding-bottom: 0.4em;background-color: white;}#sk-container-id-30 div.sk-label label {font-family: monospace;font-weight: bold;display: inline-block;line-height: 1.2em;}#sk-container-id-30 div.sk-label-container {text-align: center;}#sk-container-id-30 div.sk-container {/* jupyter's `normalize.less` sets `[hidden] { display: none; }` but bootstrap.min.css set `[hidden] { display: none !important; }` so we also need the `!important` here to be able to override the default hidden behavior on the sphinx rendered scikit-learn.org. See: https://github.com/scikit-learn/scikit-learn/issues/21755 */display: inline-block !important;position: relative;}#sk-container-id-30 div.sk-text-repr-fallback {display: none;}</style><div id=\"sk-container-id-30\" class=\"sk-top-container\"><div class=\"sk-text-repr-fallback\"><pre>LogisticRegression(C=1, max_iter=200, random_state=18, solver=&#x27;liblinear&#x27;)</pre><b>In a Jupyter environment, please rerun this cell to show the HTML representation or trust the notebook. <br />On GitHub, the HTML representation is unable to render, please try loading this page with nbviewer.org.</b></div><div class=\"sk-container\" hidden><div class=\"sk-item\"><div class=\"sk-estimator sk-toggleable\"><input class=\"sk-toggleable__control sk-hidden--visually\" id=\"sk-estimator-id-30\" type=\"checkbox\" checked><label for=\"sk-estimator-id-30\" class=\"sk-toggleable__label sk-toggleable__label-arrow\">LogisticRegression</label><div class=\"sk-toggleable__content\"><pre>LogisticRegression(C=1, max_iter=200, random_state=18, solver=&#x27;liblinear&#x27;)</pre></div></div></div></div></div>"
      ],
      "text/plain": [
       "LogisticRegression(C=1, max_iter=200, random_state=18, solver='liblinear')"
      ]
     },
     "execution_count": 532,
     "metadata": {},
     "output_type": "execute_result"
    }
   ],
   "source": [
    "lr_model_1 = LogisticRegression(random_state=18,\n",
    "                                C=best_parameters['C'],\n",
    "                                solver=best_parameters['solver'],\n",
    "                                max_iter=best_parameters['max_iter'],\n",
    "                                penalty=best_parameters['penalty'])\n",
    "\n",
    "lr_model_1.fit(X_train_1, y_train_1)"
   ]
  },
  {
   "cell_type": "code",
   "execution_count": 533,
   "id": "3302d444-a1f5-41e7-a325-949f68c9a9e4",
   "metadata": {},
   "outputs": [
    {
     "name": "stdout",
     "output_type": "stream",
     "text": [
      "Evaluation Logistic Regression Classifier: Model 1\n",
      "--------------------------------------------------------------------------------\n",
      "Mean accuracy score on training set 0.7788018433179723\n",
      "Mean accuracy score on test set 0.5420560747663551\n"
     ]
    },
    {
     "data": {
      "image/png": "[encoded data removed]",
      "text/plain": [
       "<Figure size 432x288 with 2 Axes>"
      ]
     },
     "metadata": {
      "needs_background": "light"
     },
     "output_type": "display_data"
    },
    {
     "name": "stdout",
     "output_type": "stream",
     "text": [
      "              precision    recall  f1-score   support\n",
      "\n",
      "           0       0.47      0.36      0.41        50\n",
      "           1       0.60      0.62      0.61        77\n",
      "           2       0.52      0.57      0.55        87\n",
      "\n",
      "    accuracy                           0.54       214\n",
      "   macro avg       0.53      0.52      0.52       214\n",
      "weighted avg       0.54      0.54      0.54       214\n",
      "\n"
     ]
    }
   ],
   "source": [
    "_ = evaluate_lr(lr_model_1, X_train_1, y_train_1, X_test_1, y_test_1, name=\"Model 1\")"
   ]
  },
  {
   "cell_type": "markdown",
   "id": "8aa64e88-fa37-4d35-be3e-499d2cf3f2da",
   "metadata": {
    "tags": []
   },
   "source": [
    "#### Evaluation: Naive Bayes Model 1"
   ]
  },
  {
   "cell_type": "code",
   "execution_count": 544,
   "id": "f2810053-411f-4e87-9fd5-11c2a1cebcb4",
   "metadata": {},
   "outputs": [
    {
     "data": {
      "text/plain": [
       "{'alpha': 1.1, 'fit_prior': False}"
      ]
     },
     "execution_count": 544,
     "metadata": {},
     "output_type": "execute_result"
    }
   ],
   "source": [
    "best_parameters = scores[2][\"best_params\"]\n",
    "best_parameters"
   ]
  },
  {
   "cell_type": "code",
   "execution_count": 545,
   "id": "664ee383-15da-49c6-a5a6-1969a8300ac3",
   "metadata": {
    "scrolled": true,
    "tags": []
   },
   "outputs": [
    {
     "data": {
      "text/html": [
       "<style>#sk-container-id-33 {color: black;background-color: white;}#sk-container-id-33 pre{padding: 0;}#sk-container-id-33 div.sk-toggleable {background-color: white;}#sk-container-id-33 label.sk-toggleable__label {cursor: pointer;display: block;width: 100%;margin-bottom: 0;padding: 0.3em;box-sizing: border-box;text-align: center;}#sk-container-id-33 label.sk-toggleable__label-arrow:before {content: \"▸\";float: left;margin-right: 0.25em;color: #696969;}#sk-container-id-33 label.sk-toggleable__label-arrow:hover:before {color: black;}#sk-container-id-33 div.sk-estimator:hover label.sk-toggleable__label-arrow:before {color: black;}#sk-container-id-33 div.sk-toggleable__content {max-height: 0;max-width: 0;overflow: hidden;text-align: left;background-color: #f0f8ff;}#sk-container-id-33 div.sk-toggleable__content pre {margin: 0.2em;color: black;border-radius: 0.25em;background-color: #f0f8ff;}#sk-container-id-33 input.sk-toggleable__control:checked~div.sk-toggleable__content {max-height: 200px;max-width: 100%;overflow: auto;}#sk-container-id-33 input.sk-toggleable__control:checked~label.sk-toggleable__label-arrow:before {content: \"▾\";}#sk-container-id-33 div.sk-estimator input.sk-toggleable__control:checked~label.sk-toggleable__label {background-color: #d4ebff;}#sk-container-id-33 div.sk-label input.sk-toggleable__control:checked~label.sk-toggleable__label {background-color: #d4ebff;}#sk-container-id-33 input.sk-hidden--visually {border: 0;clip: rect(1px 1px 1px 1px);clip: rect(1px, 1px, 1px, 1px);height: 1px;margin: -1px;overflow: hidden;padding: 0;position: absolute;width: 1px;}#sk-container-id-33 div.sk-estimator {font-family: monospace;background-color: #f0f8ff;border: 1px dotted black;border-radius: 0.25em;box-sizing: border-box;margin-bottom: 0.5em;}#sk-container-id-33 div.sk-estimator:hover {background-color: #d4ebff;}#sk-container-id-33 div.sk-parallel-item::after {content: \"\";width: 100%;border-bottom: 1px solid gray;flex-grow: 1;}#sk-container-id-33 div.sk-label:hover label.sk-toggleable__label {background-color: #d4ebff;}#sk-container-id-33 div.sk-serial::before {content: \"\";position: absolute;border-left: 1px solid gray;box-sizing: border-box;top: 0;bottom: 0;left: 50%;z-index: 0;}#sk-container-id-33 div.sk-serial {display: flex;flex-direction: column;align-items: center;background-color: white;padding-right: 0.2em;padding-left: 0.2em;position: relative;}#sk-container-id-33 div.sk-item {position: relative;z-index: 1;}#sk-container-id-33 div.sk-parallel {display: flex;align-items: stretch;justify-content: center;background-color: white;position: relative;}#sk-container-id-33 div.sk-item::before, #sk-container-id-33 div.sk-parallel-item::before {content: \"\";position: absolute;border-left: 1px solid gray;box-sizing: border-box;top: 0;bottom: 0;left: 50%;z-index: -1;}#sk-container-id-33 div.sk-parallel-item {display: flex;flex-direction: column;z-index: 1;position: relative;background-color: white;}#sk-container-id-33 div.sk-parallel-item:first-child::after {align-self: flex-end;width: 50%;}#sk-container-id-33 div.sk-parallel-item:last-child::after {align-self: flex-start;width: 50%;}#sk-container-id-33 div.sk-parallel-item:only-child::after {width: 0;}#sk-container-id-33 div.sk-dashed-wrapped {border: 1px dashed gray;margin: 0 0.4em 0.5em 0.4em;box-sizing: border-box;padding-bottom: 0.4em;background-color: white;}#sk-container-id-33 div.sk-label label {font-family: monospace;font-weight: bold;display: inline-block;line-height: 1.2em;}#sk-container-id-33 div.sk-label-container {text-align: center;}#sk-container-id-33 div.sk-container {/* jupyter's `normalize.less` sets `[hidden] { display: none; }` but bootstrap.min.css set `[hidden] { display: none !important; }` so we also need the `!important` here to be able to override the default hidden behavior on the sphinx rendered scikit-learn.org. See: https://github.com/scikit-learn/scikit-learn/issues/21755 */display: inline-block !important;position: relative;}#sk-container-id-33 div.sk-text-repr-fallback {display: none;}</style><div id=\"sk-container-id-33\" class=\"sk-top-container\"><div class=\"sk-text-repr-fallback\"><pre>MultinomialNB(alpha=1.1, fit_prior=False)</pre><b>In a Jupyter environment, please rerun this cell to show the HTML representation or trust the notebook. <br />On GitHub, the HTML representation is unable to render, please try loading this page with nbviewer.org.</b></div><div class=\"sk-container\" hidden><div class=\"sk-item\"><div class=\"sk-estimator sk-toggleable\"><input class=\"sk-toggleable__control sk-hidden--visually\" id=\"sk-estimator-id-33\" type=\"checkbox\" checked><label for=\"sk-estimator-id-33\" class=\"sk-toggleable__label sk-toggleable__label-arrow\">MultinomialNB</label><div class=\"sk-toggleable__content\"><pre>MultinomialNB(alpha=1.1, fit_prior=False)</pre></div></div></div></div></div>"
      ],
      "text/plain": [
       "MultinomialNB(alpha=1.1, fit_prior=False)"
      ]
     },
     "execution_count": 545,
     "metadata": {},
     "output_type": "execute_result"
    }
   ],
   "source": [
    "nb_model_1 = MultinomialNB(alpha=best_parameters['alpha'],\n",
    "                           fit_prior=best_parameters[\"fit_prior\"])\n",
    "\n",
    "nb_model_1.fit(X_train_1, y_train_1)"
   ]
  },
  {
   "cell_type": "code",
   "execution_count": 546,
   "id": "6370838e-a81d-4016-8773-cb17b79e0cc5",
   "metadata": {},
   "outputs": [
    {
     "name": "stdout",
     "output_type": "stream",
     "text": [
      "Evaluation Naive Bayes Classifier: Model 1\n",
      "--------------------------------------------------------------------------------\n",
      "Mean accuracy score on training set 0.6912442396313364\n",
      "Mean accuracy score on test set 0.5887850467289719\n"
     ]
    },
    {
     "data": {
      "image/png": "[encoded data removed]",
      "text/plain": [
       "<Figure size 432x288 with 2 Axes>"
      ]
     },
     "metadata": {
      "needs_background": "light"
     },
     "output_type": "display_data"
    },
    {
     "name": "stdout",
     "output_type": "stream",
     "text": [
      "              precision    recall  f1-score   support\n",
      "\n",
      "           0       0.53      0.50      0.52        50\n",
      "           1       0.64      0.65      0.65        77\n",
      "           2       0.57      0.59      0.58        87\n",
      "\n",
      "    accuracy                           0.59       214\n",
      "   macro avg       0.58      0.58      0.58       214\n",
      "weighted avg       0.59      0.59      0.59       214\n",
      "\n"
     ]
    }
   ],
   "source": [
    "_ = evaluate_nb(nb_model_1, X_train_1, y_train_1, X_test_1, y_test_1, name=\"Model 1\")"
   ]
  },
  {
   "cell_type": "markdown",
   "id": "c1ea1df6-2e8a-4ffb-bf8c-480f3fa576be",
   "metadata": {
    "jp-MarkdownHeadingCollapsed": true,
    "tags": []
   },
   "source": [
    "#### Evaluation: SVM Model 1"
   ]
  },
  {
   "cell_type": "code",
   "execution_count": 537,
   "id": "9679d673-4e8d-4a20-8f27-26285f7e6989",
   "metadata": {},
   "outputs": [
    {
     "data": {
      "text/plain": [
       "{'C': 1, 'gamma': 0.001, 'kernel': 'linear'}"
      ]
     },
     "execution_count": 537,
     "metadata": {},
     "output_type": "execute_result"
    }
   ],
   "source": [
    "best_parameters = scores[3][\"best_params\"]\n",
    "best_parameters"
   ]
  },
  {
   "cell_type": "code",
   "execution_count": 538,
   "id": "ab57fd18-ede7-4682-a7d2-9c0640f5728c",
   "metadata": {},
   "outputs": [
    {
     "data": {
      "text/html": [
       "<style>#sk-container-id-32 {color: black;background-color: white;}#sk-container-id-32 pre{padding: 0;}#sk-container-id-32 div.sk-toggleable {background-color: white;}#sk-container-id-32 label.sk-toggleable__label {cursor: pointer;display: block;width: 100%;margin-bottom: 0;padding: 0.3em;box-sizing: border-box;text-align: center;}#sk-container-id-32 label.sk-toggleable__label-arrow:before {content: \"▸\";float: left;margin-right: 0.25em;color: #696969;}#sk-container-id-32 label.sk-toggleable__label-arrow:hover:before {color: black;}#sk-container-id-32 div.sk-estimator:hover label.sk-toggleable__label-arrow:before {color: black;}#sk-container-id-32 div.sk-toggleable__content {max-height: 0;max-width: 0;overflow: hidden;text-align: left;background-color: #f0f8ff;}#sk-container-id-32 div.sk-toggleable__content pre {margin: 0.2em;color: black;border-radius: 0.25em;background-color: #f0f8ff;}#sk-container-id-32 input.sk-toggleable__control:checked~div.sk-toggleable__content {max-height: 200px;max-width: 100%;overflow: auto;}#sk-container-id-32 input.sk-toggleable__control:checked~label.sk-toggleable__label-arrow:before {content: \"▾\";}#sk-container-id-32 div.sk-estimator input.sk-toggleable__control:checked~label.sk-toggleable__label {background-color: #d4ebff;}#sk-container-id-32 div.sk-label input.sk-toggleable__control:checked~label.sk-toggleable__label {background-color: #d4ebff;}#sk-container-id-32 input.sk-hidden--visually {border: 0;clip: rect(1px 1px 1px 1px);clip: rect(1px, 1px, 1px, 1px);height: 1px;margin: -1px;overflow: hidden;padding: 0;position: absolute;width: 1px;}#sk-container-id-32 div.sk-estimator {font-family: monospace;background-color: #f0f8ff;border: 1px dotted black;border-radius: 0.25em;box-sizing: border-box;margin-bottom: 0.5em;}#sk-container-id-32 div.sk-estimator:hover {background-color: #d4ebff;}#sk-container-id-32 div.sk-parallel-item::after {content: \"\";width: 100%;border-bottom: 1px solid gray;flex-grow: 1;}#sk-container-id-32 div.sk-label:hover label.sk-toggleable__label {background-color: #d4ebff;}#sk-container-id-32 div.sk-serial::before {content: \"\";position: absolute;border-left: 1px solid gray;box-sizing: border-box;top: 0;bottom: 0;left: 50%;z-index: 0;}#sk-container-id-32 div.sk-serial {display: flex;flex-direction: column;align-items: center;background-color: white;padding-right: 0.2em;padding-left: 0.2em;position: relative;}#sk-container-id-32 div.sk-item {position: relative;z-index: 1;}#sk-container-id-32 div.sk-parallel {display: flex;align-items: stretch;justify-content: center;background-color: white;position: relative;}#sk-container-id-32 div.sk-item::before, #sk-container-id-32 div.sk-parallel-item::before {content: \"\";position: absolute;border-left: 1px solid gray;box-sizing: border-box;top: 0;bottom: 0;left: 50%;z-index: -1;}#sk-container-id-32 div.sk-parallel-item {display: flex;flex-direction: column;z-index: 1;position: relative;background-color: white;}#sk-container-id-32 div.sk-parallel-item:first-child::after {align-self: flex-end;width: 50%;}#sk-container-id-32 div.sk-parallel-item:last-child::after {align-self: flex-start;width: 50%;}#sk-container-id-32 div.sk-parallel-item:only-child::after {width: 0;}#sk-container-id-32 div.sk-dashed-wrapped {border: 1px dashed gray;margin: 0 0.4em 0.5em 0.4em;box-sizing: border-box;padding-bottom: 0.4em;background-color: white;}#sk-container-id-32 div.sk-label label {font-family: monospace;font-weight: bold;display: inline-block;line-height: 1.2em;}#sk-container-id-32 div.sk-label-container {text-align: center;}#sk-container-id-32 div.sk-container {/* jupyter's `normalize.less` sets `[hidden] { display: none; }` but bootstrap.min.css set `[hidden] { display: none !important; }` so we also need the `!important` here to be able to override the default hidden behavior on the sphinx rendered scikit-learn.org. See: https://github.com/scikit-learn/scikit-learn/issues/21755 */display: inline-block !important;position: relative;}#sk-container-id-32 div.sk-text-repr-fallback {display: none;}</style><div id=\"sk-container-id-32\" class=\"sk-top-container\"><div class=\"sk-text-repr-fallback\"><pre>SVC(C=1, gamma=0.001, kernel=&#x27;linear&#x27;)</pre><b>In a Jupyter environment, please rerun this cell to show the HTML representation or trust the notebook. <br />On GitHub, the HTML representation is unable to render, please try loading this page with nbviewer.org.</b></div><div class=\"sk-container\" hidden><div class=\"sk-item\"><div class=\"sk-estimator sk-toggleable\"><input class=\"sk-toggleable__control sk-hidden--visually\" id=\"sk-estimator-id-32\" type=\"checkbox\" checked><label for=\"sk-estimator-id-32\" class=\"sk-toggleable__label sk-toggleable__label-arrow\">SVC</label><div class=\"sk-toggleable__content\"><pre>SVC(C=1, gamma=0.001, kernel=&#x27;linear&#x27;)</pre></div></div></div></div></div>"
      ],
      "text/plain": [
       "SVC(C=1, gamma=0.001, kernel='linear')"
      ]
     },
     "execution_count": 538,
     "metadata": {},
     "output_type": "execute_result"
    }
   ],
   "source": [
    "svm_model_1 = SVC(C=best_parameters['C'],\n",
    "                  gamma=best_parameters['gamma'],\n",
    "                  kernel=best_parameters[\"kernel\"])\n",
    "\n",
    "svm_model_1.fit(X_train_1, y_train_1)"
   ]
  },
  {
   "cell_type": "code",
   "execution_count": 539,
   "id": "835d0bde-ebe7-444e-86fc-286d25fc453e",
   "metadata": {},
   "outputs": [
    {
     "name": "stdout",
     "output_type": "stream",
     "text": [
      "Evaluation SVM Classifier: Model 1\n",
      "--------------------------------------------------------------------------------\n",
      "Mean accuracy score on training set 0.8087557603686636\n",
      "Mean accuracy score on test set 0.5280373831775701\n"
     ]
    },
    {
     "data": {
      "image/png": "[encoded data removed]",
      "text/plain": [
       "<Figure size 432x288 with 2 Axes>"
      ]
     },
     "metadata": {
      "needs_background": "light"
     },
     "output_type": "display_data"
    },
    {
     "name": "stdout",
     "output_type": "stream",
     "text": [
      "              precision    recall  f1-score   support\n",
      "\n",
      "           0       0.42      0.38      0.40        50\n",
      "           1       0.60      0.57      0.59        77\n",
      "           2       0.52      0.57      0.55        87\n",
      "\n",
      "    accuracy                           0.53       214\n",
      "   macro avg       0.52      0.51      0.51       214\n",
      "weighted avg       0.53      0.53      0.53       214\n",
      "\n"
     ]
    }
   ],
   "source": [
    "_ = evaluate_svm(svm_model_1, X_train_1, y_train_1, X_test_1, y_test_1, name=\"Model 1\")"
   ]
  },
  {
   "cell_type": "markdown",
   "id": "9af830c3-c308-44c4-bec6-6aeca3b432be",
   "metadata": {
    "tags": []
   },
   "source": [
    "### Model 2. simple_features + w2v"
   ]
  },
  {
   "cell_type": "markdown",
   "id": "2d21e632-9571-407e-8ccc-f5ea3ade5cdf",
   "metadata": {
    "tags": []
   },
   "source": [
    "#### Training: Model 2"
   ]
  },
  {
   "cell_type": "code",
   "execution_count": 486,
   "id": "d8b4e154-e715-4b44-8a05-d87a3587cbce",
   "metadata": {},
   "outputs": [
    {
     "name": "stdout",
     "output_type": "stream",
     "text": [
      "Label mapping {'Future': 0, 'Past': 1, 'Present': 2}\n",
      "Successfully created train and test sets.\n"
     ]
    }
   ],
   "source": [
    "X_2, y_2, X_train_2, y_train_2, X_test_2, y_test_2 = train_test(features_2, \n",
    "                                                                scale_enabled=True, \n",
    "                                                                encode_enabled=True)\n",
    "\n",
    "label_mapping = {'Future': 0, 'Past': 1, 'Present': 2}"
   ]
  },
  {
   "cell_type": "code",
   "execution_count": 487,
   "id": "df5a2bda-8f57-4aed-bbfb-8c0a7514f159",
   "metadata": {
    "scrolled": true,
    "tags": []
   },
   "outputs": [
    {
     "name": "stdout",
     "output_type": "stream",
     "text": [
      "RandomForestClassifier()\n",
      "\n",
      "fitting...\n",
      "Fitting 10 folds for each of 60 candidates, totalling 600 fits\n",
      "\n",
      "score is appended\n",
      "\n",
      "LogisticRegression()\n",
      "\n",
      "fitting...\n",
      "Fitting 10 folds for each of 48 candidates, totalling 480 fits\n"
     ]
    },
    {
     "name": "stderr",
     "output_type": "stream",
     "text": [
      "/Users/gbaldonado/opt/anaconda3/lib/python3.9/site-packages/sklearn/linear_model/_logistic.py:458: ConvergenceWarning: lbfgs failed to converge (status=1):\n",
      "STOP: TOTAL NO. of ITERATIONS REACHED LIMIT.\n",
      "\n",
      "Increase the number of iterations (max_iter) or scale the data as shown in:\n",
      "    https://scikit-learn.org/stable/modules/preprocessing.html\n",
      "Please also refer to the documentation for alternative solver options:\n",
      "    https://scikit-learn.org/stable/modules/linear_model.html#logistic-regression\n",
      "  n_iter_i = _check_optimize_result(\n",
      "/Users/gbaldonado/opt/anaconda3/lib/python3.9/site-packages/sklearn/linear_model/_logistic.py:458: ConvergenceWarning: lbfgs failed to converge (status=1):\n",
      "STOP: TOTAL NO. of ITERATIONS REACHED LIMIT.\n",
      "\n",
      "Increase the number of iterations (max_iter) or scale the data as shown in:\n",
      "    https://scikit-learn.org/stable/modules/preprocessing.html\n",
      "Please also refer to the documentation for alternative solver options:\n",
      "    https://scikit-learn.org/stable/modules/linear_model.html#logistic-regression\n",
      "  n_iter_i = _check_optimize_result(\n",
      "/Users/gbaldonado/opt/anaconda3/lib/python3.9/site-packages/sklearn/linear_model/_logistic.py:458: ConvergenceWarning: lbfgs failed to converge (status=1):\n",
      "STOP: TOTAL NO. of ITERATIONS REACHED LIMIT.\n",
      "\n",
      "Increase the number of iterations (max_iter) or scale the data as shown in:\n",
      "    https://scikit-learn.org/stable/modules/preprocessing.html\n",
      "Please also refer to the documentation for alternative solver options:\n",
      "    https://scikit-learn.org/stable/modules/linear_model.html#logistic-regression\n",
      "  n_iter_i = _check_optimize_result(\n",
      "/Users/gbaldonado/opt/anaconda3/lib/python3.9/site-packages/sklearn/linear_model/_logistic.py:458: ConvergenceWarning: lbfgs failed to converge (status=1):\n",
      "STOP: TOTAL NO. of ITERATIONS REACHED LIMIT.\n",
      "\n",
      "Increase the number of iterations (max_iter) or scale the data as shown in:\n",
      "    https://scikit-learn.org/stable/modules/preprocessing.html\n",
      "Please also refer to the documentation for alternative solver options:\n",
      "    https://scikit-learn.org/stable/modules/linear_model.html#logistic-regression\n",
      "  n_iter_i = _check_optimize_result(\n",
      "/Users/gbaldonado/opt/anaconda3/lib/python3.9/site-packages/sklearn/linear_model/_logistic.py:458: ConvergenceWarning: lbfgs failed to converge (status=1):\n",
      "STOP: TOTAL NO. of ITERATIONS REACHED LIMIT.\n",
      "\n",
      "Increase the number of iterations (max_iter) or scale the data as shown in:\n",
      "    https://scikit-learn.org/stable/modules/preprocessing.html\n",
      "Please also refer to the documentation for alternative solver options:\n",
      "    https://scikit-learn.org/stable/modules/linear_model.html#logistic-regression\n",
      "  n_iter_i = _check_optimize_result(\n",
      "/Users/gbaldonado/opt/anaconda3/lib/python3.9/site-packages/sklearn/linear_model/_logistic.py:458: ConvergenceWarning: lbfgs failed to converge (status=1):\n",
      "STOP: TOTAL NO. of ITERATIONS REACHED LIMIT.\n",
      "\n",
      "Increase the number of iterations (max_iter) or scale the data as shown in:\n",
      "    https://scikit-learn.org/stable/modules/preprocessing.html\n",
      "Please also refer to the documentation for alternative solver options:\n",
      "    https://scikit-learn.org/stable/modules/linear_model.html#logistic-regression\n",
      "  n_iter_i = _check_optimize_result(\n",
      "/Users/gbaldonado/opt/anaconda3/lib/python3.9/site-packages/sklearn/linear_model/_logistic.py:458: ConvergenceWarning: lbfgs failed to converge (status=1):\n",
      "STOP: TOTAL NO. of ITERATIONS REACHED LIMIT.\n",
      "\n",
      "Increase the number of iterations (max_iter) or scale the data as shown in:\n",
      "    https://scikit-learn.org/stable/modules/preprocessing.html\n",
      "Please also refer to the documentation for alternative solver options:\n",
      "    https://scikit-learn.org/stable/modules/linear_model.html#logistic-regression\n",
      "  n_iter_i = _check_optimize_result(\n",
      "/Users/gbaldonado/opt/anaconda3/lib/python3.9/site-packages/sklearn/linear_model/_logistic.py:458: ConvergenceWarning: lbfgs failed to converge (status=1):\n",
      "STOP: TOTAL NO. of ITERATIONS REACHED LIMIT.\n",
      "\n",
      "Increase the number of iterations (max_iter) or scale the data as shown in:\n",
      "    https://scikit-learn.org/stable/modules/preprocessing.html\n",
      "Please also refer to the documentation for alternative solver options:\n",
      "    https://scikit-learn.org/stable/modules/linear_model.html#logistic-regression\n",
      "  n_iter_i = _check_optimize_result(\n",
      "/Users/gbaldonado/opt/anaconda3/lib/python3.9/site-packages/sklearn/linear_model/_logistic.py:458: ConvergenceWarning: lbfgs failed to converge (status=1):\n",
      "STOP: TOTAL NO. of ITERATIONS REACHED LIMIT.\n",
      "\n",
      "Increase the number of iterations (max_iter) or scale the data as shown in:\n",
      "    https://scikit-learn.org/stable/modules/preprocessing.html\n",
      "Please also refer to the documentation for alternative solver options:\n",
      "    https://scikit-learn.org/stable/modules/linear_model.html#logistic-regression\n",
      "  n_iter_i = _check_optimize_result(\n",
      "/Users/gbaldonado/opt/anaconda3/lib/python3.9/site-packages/sklearn/linear_model/_logistic.py:458: ConvergenceWarning: lbfgs failed to converge (status=1):\n",
      "STOP: TOTAL NO. of ITERATIONS REACHED LIMIT.\n",
      "\n",
      "Increase the number of iterations (max_iter) or scale the data as shown in:\n",
      "    https://scikit-learn.org/stable/modules/preprocessing.html\n",
      "Please also refer to the documentation for alternative solver options:\n",
      "    https://scikit-learn.org/stable/modules/linear_model.html#logistic-regression\n",
      "  n_iter_i = _check_optimize_result(\n",
      "/Users/gbaldonado/opt/anaconda3/lib/python3.9/site-packages/sklearn/linear_model/_logistic.py:458: ConvergenceWarning: lbfgs failed to converge (status=1):\n",
      "STOP: TOTAL NO. of ITERATIONS REACHED LIMIT.\n",
      "\n",
      "Increase the number of iterations (max_iter) or scale the data as shown in:\n",
      "    https://scikit-learn.org/stable/modules/preprocessing.html\n",
      "Please also refer to the documentation for alternative solver options:\n",
      "    https://scikit-learn.org/stable/modules/linear_model.html#logistic-regression\n",
      "  n_iter_i = _check_optimize_result(\n",
      "/Users/gbaldonado/opt/anaconda3/lib/python3.9/site-packages/sklearn/linear_model/_logistic.py:458: ConvergenceWarning: lbfgs failed to converge (status=1):\n",
      "STOP: TOTAL NO. of ITERATIONS REACHED LIMIT.\n",
      "\n",
      "Increase the number of iterations (max_iter) or scale the data as shown in:\n",
      "    https://scikit-learn.org/stable/modules/preprocessing.html\n",
      "Please also refer to the documentation for alternative solver options:\n",
      "    https://scikit-learn.org/stable/modules/linear_model.html#logistic-regression\n",
      "  n_iter_i = _check_optimize_result(\n",
      "/Users/gbaldonado/opt/anaconda3/lib/python3.9/site-packages/sklearn/linear_model/_logistic.py:458: ConvergenceWarning: lbfgs failed to converge (status=1):\n",
      "STOP: TOTAL NO. of ITERATIONS REACHED LIMIT.\n",
      "\n",
      "Increase the number of iterations (max_iter) or scale the data as shown in:\n",
      "    https://scikit-learn.org/stable/modules/preprocessing.html\n",
      "Please also refer to the documentation for alternative solver options:\n",
      "    https://scikit-learn.org/stable/modules/linear_model.html#logistic-regression\n",
      "  n_iter_i = _check_optimize_result(\n",
      "/Users/gbaldonado/opt/anaconda3/lib/python3.9/site-packages/sklearn/linear_model/_logistic.py:458: ConvergenceWarning: lbfgs failed to converge (status=1):\n",
      "STOP: TOTAL NO. of ITERATIONS REACHED LIMIT.\n",
      "\n",
      "Increase the number of iterations (max_iter) or scale the data as shown in:\n",
      "    https://scikit-learn.org/stable/modules/preprocessing.html\n",
      "Please also refer to the documentation for alternative solver options:\n",
      "    https://scikit-learn.org/stable/modules/linear_model.html#logistic-regression\n",
      "  n_iter_i = _check_optimize_result(\n",
      "/Users/gbaldonado/opt/anaconda3/lib/python3.9/site-packages/sklearn/linear_model/_logistic.py:458: ConvergenceWarning: lbfgs failed to converge (status=1):\n",
      "STOP: TOTAL NO. of ITERATIONS REACHED LIMIT.\n",
      "\n",
      "Increase the number of iterations (max_iter) or scale the data as shown in:\n",
      "    https://scikit-learn.org/stable/modules/preprocessing.html\n",
      "Please also refer to the documentation for alternative solver options:\n",
      "    https://scikit-learn.org/stable/modules/linear_model.html#logistic-regression\n",
      "  n_iter_i = _check_optimize_result(\n",
      "/Users/gbaldonado/opt/anaconda3/lib/python3.9/site-packages/sklearn/linear_model/_logistic.py:458: ConvergenceWarning: lbfgs failed to converge (status=1):\n",
      "STOP: TOTAL NO. of ITERATIONS REACHED LIMIT.\n",
      "\n",
      "Increase the number of iterations (max_iter) or scale the data as shown in:\n",
      "    https://scikit-learn.org/stable/modules/preprocessing.html\n",
      "Please also refer to the documentation for alternative solver options:\n",
      "    https://scikit-learn.org/stable/modules/linear_model.html#logistic-regression\n",
      "  n_iter_i = _check_optimize_result(\n",
      "/Users/gbaldonado/opt/anaconda3/lib/python3.9/site-packages/sklearn/linear_model/_logistic.py:458: ConvergenceWarning: lbfgs failed to converge (status=1):\n",
      "STOP: TOTAL NO. of ITERATIONS REACHED LIMIT.\n",
      "\n",
      "Increase the number of iterations (max_iter) or scale the data as shown in:\n",
      "    https://scikit-learn.org/stable/modules/preprocessing.html\n",
      "Please also refer to the documentation for alternative solver options:\n",
      "    https://scikit-learn.org/stable/modules/linear_model.html#logistic-regression\n",
      "  n_iter_i = _check_optimize_result(\n",
      "/Users/gbaldonado/opt/anaconda3/lib/python3.9/site-packages/sklearn/linear_model/_logistic.py:458: ConvergenceWarning: lbfgs failed to converge (status=1):\n",
      "STOP: TOTAL NO. of ITERATIONS REACHED LIMIT.\n",
      "\n",
      "Increase the number of iterations (max_iter) or scale the data as shown in:\n",
      "    https://scikit-learn.org/stable/modules/preprocessing.html\n",
      "Please also refer to the documentation for alternative solver options:\n",
      "    https://scikit-learn.org/stable/modules/linear_model.html#logistic-regression\n",
      "  n_iter_i = _check_optimize_result(\n",
      "/Users/gbaldonado/opt/anaconda3/lib/python3.9/site-packages/sklearn/linear_model/_logistic.py:458: ConvergenceWarning: lbfgs failed to converge (status=1):\n",
      "STOP: TOTAL NO. of ITERATIONS REACHED LIMIT.\n",
      "\n",
      "Increase the number of iterations (max_iter) or scale the data as shown in:\n",
      "    https://scikit-learn.org/stable/modules/preprocessing.html\n",
      "Please also refer to the documentation for alternative solver options:\n",
      "    https://scikit-learn.org/stable/modules/linear_model.html#logistic-regression\n",
      "  n_iter_i = _check_optimize_result(\n",
      "/Users/gbaldonado/opt/anaconda3/lib/python3.9/site-packages/sklearn/linear_model/_logistic.py:458: ConvergenceWarning: lbfgs failed to converge (status=1):\n",
      "STOP: TOTAL NO. of ITERATIONS REACHED LIMIT.\n",
      "\n",
      "Increase the number of iterations (max_iter) or scale the data as shown in:\n",
      "    https://scikit-learn.org/stable/modules/preprocessing.html\n",
      "Please also refer to the documentation for alternative solver options:\n",
      "    https://scikit-learn.org/stable/modules/linear_model.html#logistic-regression\n",
      "  n_iter_i = _check_optimize_result(\n",
      "/Users/gbaldonado/opt/anaconda3/lib/python3.9/site-packages/sklearn/linear_model/_logistic.py:458: ConvergenceWarning: lbfgs failed to converge (status=1):\n",
      "STOP: TOTAL NO. of ITERATIONS REACHED LIMIT.\n",
      "\n",
      "Increase the number of iterations (max_iter) or scale the data as shown in:\n",
      "    https://scikit-learn.org/stable/modules/preprocessing.html\n",
      "Please also refer to the documentation for alternative solver options:\n",
      "    https://scikit-learn.org/stable/modules/linear_model.html#logistic-regression\n",
      "  n_iter_i = _check_optimize_result(\n",
      "/Users/gbaldonado/opt/anaconda3/lib/python3.9/site-packages/sklearn/linear_model/_logistic.py:458: ConvergenceWarning: lbfgs failed to converge (status=1):\n",
      "STOP: TOTAL NO. of ITERATIONS REACHED LIMIT.\n",
      "\n",
      "Increase the number of iterations (max_iter) or scale the data as shown in:\n",
      "    https://scikit-learn.org/stable/modules/preprocessing.html\n",
      "Please also refer to the documentation for alternative solver options:\n",
      "    https://scikit-learn.org/stable/modules/linear_model.html#logistic-regression\n",
      "  n_iter_i = _check_optimize_result(\n",
      "/Users/gbaldonado/opt/anaconda3/lib/python3.9/site-packages/sklearn/linear_model/_logistic.py:458: ConvergenceWarning: lbfgs failed to converge (status=1):\n",
      "STOP: TOTAL NO. of ITERATIONS REACHED LIMIT.\n",
      "\n",
      "Increase the number of iterations (max_iter) or scale the data as shown in:\n",
      "    https://scikit-learn.org/stable/modules/preprocessing.html\n",
      "Please also refer to the documentation for alternative solver options:\n",
      "    https://scikit-learn.org/stable/modules/linear_model.html#logistic-regression\n",
      "  n_iter_i = _check_optimize_result(\n",
      "/Users/gbaldonado/opt/anaconda3/lib/python3.9/site-packages/sklearn/linear_model/_logistic.py:458: ConvergenceWarning: lbfgs failed to converge (status=1):\n",
      "STOP: TOTAL NO. of ITERATIONS REACHED LIMIT.\n",
      "\n",
      "Increase the number of iterations (max_iter) or scale the data as shown in:\n",
      "    https://scikit-learn.org/stable/modules/preprocessing.html\n",
      "Please also refer to the documentation for alternative solver options:\n",
      "    https://scikit-learn.org/stable/modules/linear_model.html#logistic-regression\n",
      "  n_iter_i = _check_optimize_result(\n",
      "/Users/gbaldonado/opt/anaconda3/lib/python3.9/site-packages/sklearn/linear_model/_logistic.py:458: ConvergenceWarning: lbfgs failed to converge (status=1):\n",
      "STOP: TOTAL NO. of ITERATIONS REACHED LIMIT.\n",
      "\n",
      "Increase the number of iterations (max_iter) or scale the data as shown in:\n",
      "    https://scikit-learn.org/stable/modules/preprocessing.html\n",
      "Please also refer to the documentation for alternative solver options:\n",
      "    https://scikit-learn.org/stable/modules/linear_model.html#logistic-regression\n",
      "  n_iter_i = _check_optimize_result(\n",
      "/Users/gbaldonado/opt/anaconda3/lib/python3.9/site-packages/sklearn/linear_model/_logistic.py:458: ConvergenceWarning: lbfgs failed to converge (status=1):\n",
      "STOP: TOTAL NO. of ITERATIONS REACHED LIMIT.\n",
      "\n",
      "Increase the number of iterations (max_iter) or scale the data as shown in:\n",
      "    https://scikit-learn.org/stable/modules/preprocessing.html\n",
      "Please also refer to the documentation for alternative solver options:\n",
      "    https://scikit-learn.org/stable/modules/linear_model.html#logistic-regression\n",
      "  n_iter_i = _check_optimize_result(\n",
      "/Users/gbaldonado/opt/anaconda3/lib/python3.9/site-packages/sklearn/linear_model/_logistic.py:458: ConvergenceWarning: lbfgs failed to converge (status=1):\n",
      "STOP: TOTAL NO. of ITERATIONS REACHED LIMIT.\n",
      "\n",
      "Increase the number of iterations (max_iter) or scale the data as shown in:\n",
      "    https://scikit-learn.org/stable/modules/preprocessing.html\n",
      "Please also refer to the documentation for alternative solver options:\n",
      "    https://scikit-learn.org/stable/modules/linear_model.html#logistic-regression\n",
      "  n_iter_i = _check_optimize_result(\n",
      "/Users/gbaldonado/opt/anaconda3/lib/python3.9/site-packages/sklearn/linear_model/_logistic.py:458: ConvergenceWarning: lbfgs failed to converge (status=1):\n",
      "STOP: TOTAL NO. of ITERATIONS REACHED LIMIT.\n",
      "\n",
      "Increase the number of iterations (max_iter) or scale the data as shown in:\n",
      "    https://scikit-learn.org/stable/modules/preprocessing.html\n",
      "Please also refer to the documentation for alternative solver options:\n",
      "    https://scikit-learn.org/stable/modules/linear_model.html#logistic-regression\n",
      "  n_iter_i = _check_optimize_result(\n",
      "/Users/gbaldonado/opt/anaconda3/lib/python3.9/site-packages/sklearn/linear_model/_logistic.py:458: ConvergenceWarning: lbfgs failed to converge (status=1):\n",
      "STOP: TOTAL NO. of ITERATIONS REACHED LIMIT.\n",
      "\n",
      "Increase the number of iterations (max_iter) or scale the data as shown in:\n",
      "    https://scikit-learn.org/stable/modules/preprocessing.html\n",
      "Please also refer to the documentation for alternative solver options:\n",
      "    https://scikit-learn.org/stable/modules/linear_model.html#logistic-regression\n",
      "  n_iter_i = _check_optimize_result(\n",
      "/Users/gbaldonado/opt/anaconda3/lib/python3.9/site-packages/sklearn/linear_model/_logistic.py:458: ConvergenceWarning: lbfgs failed to converge (status=1):\n",
      "STOP: TOTAL NO. of ITERATIONS REACHED LIMIT.\n",
      "\n",
      "Increase the number of iterations (max_iter) or scale the data as shown in:\n",
      "    https://scikit-learn.org/stable/modules/preprocessing.html\n",
      "Please also refer to the documentation for alternative solver options:\n",
      "    https://scikit-learn.org/stable/modules/linear_model.html#logistic-regression\n",
      "  n_iter_i = _check_optimize_result(\n",
      "/Users/gbaldonado/opt/anaconda3/lib/python3.9/site-packages/sklearn/linear_model/_logistic.py:458: ConvergenceWarning: lbfgs failed to converge (status=1):\n",
      "STOP: TOTAL NO. of ITERATIONS REACHED LIMIT.\n",
      "\n",
      "Increase the number of iterations (max_iter) or scale the data as shown in:\n",
      "    https://scikit-learn.org/stable/modules/preprocessing.html\n",
      "Please also refer to the documentation for alternative solver options:\n",
      "    https://scikit-learn.org/stable/modules/linear_model.html#logistic-regression\n",
      "  n_iter_i = _check_optimize_result(\n",
      "/Users/gbaldonado/opt/anaconda3/lib/python3.9/site-packages/sklearn/linear_model/_logistic.py:458: ConvergenceWarning: lbfgs failed to converge (status=1):\n",
      "STOP: TOTAL NO. of ITERATIONS REACHED LIMIT.\n",
      "\n",
      "Increase the number of iterations (max_iter) or scale the data as shown in:\n",
      "    https://scikit-learn.org/stable/modules/preprocessing.html\n",
      "Please also refer to the documentation for alternative solver options:\n",
      "    https://scikit-learn.org/stable/modules/linear_model.html#logistic-regression\n",
      "  n_iter_i = _check_optimize_result(\n",
      "/Users/gbaldonado/opt/anaconda3/lib/python3.9/site-packages/sklearn/linear_model/_logistic.py:458: ConvergenceWarning: lbfgs failed to converge (status=1):\n",
      "STOP: TOTAL NO. of ITERATIONS REACHED LIMIT.\n",
      "\n",
      "Increase the number of iterations (max_iter) or scale the data as shown in:\n",
      "    https://scikit-learn.org/stable/modules/preprocessing.html\n",
      "Please also refer to the documentation for alternative solver options:\n",
      "    https://scikit-learn.org/stable/modules/linear_model.html#logistic-regression\n",
      "  n_iter_i = _check_optimize_result(\n",
      "/Users/gbaldonado/opt/anaconda3/lib/python3.9/site-packages/sklearn/linear_model/_logistic.py:458: ConvergenceWarning: lbfgs failed to converge (status=1):\n",
      "STOP: TOTAL NO. of ITERATIONS REACHED LIMIT.\n",
      "\n",
      "Increase the number of iterations (max_iter) or scale the data as shown in:\n",
      "    https://scikit-learn.org/stable/modules/preprocessing.html\n",
      "Please also refer to the documentation for alternative solver options:\n",
      "    https://scikit-learn.org/stable/modules/linear_model.html#logistic-regression\n",
      "  n_iter_i = _check_optimize_result(\n",
      "/Users/gbaldonado/opt/anaconda3/lib/python3.9/site-packages/sklearn/linear_model/_logistic.py:458: ConvergenceWarning: lbfgs failed to converge (status=1):\n",
      "STOP: TOTAL NO. of ITERATIONS REACHED LIMIT.\n",
      "\n",
      "Increase the number of iterations (max_iter) or scale the data as shown in:\n",
      "    https://scikit-learn.org/stable/modules/preprocessing.html\n",
      "Please also refer to the documentation for alternative solver options:\n",
      "    https://scikit-learn.org/stable/modules/linear_model.html#logistic-regression\n",
      "  n_iter_i = _check_optimize_result(\n",
      "/Users/gbaldonado/opt/anaconda3/lib/python3.9/site-packages/sklearn/linear_model/_logistic.py:458: ConvergenceWarning: lbfgs failed to converge (status=1):\n",
      "STOP: TOTAL NO. of ITERATIONS REACHED LIMIT.\n",
      "\n",
      "Increase the number of iterations (max_iter) or scale the data as shown in:\n",
      "    https://scikit-learn.org/stable/modules/preprocessing.html\n",
      "Please also refer to the documentation for alternative solver options:\n",
      "    https://scikit-learn.org/stable/modules/linear_model.html#logistic-regression\n",
      "  n_iter_i = _check_optimize_result(\n",
      "/Users/gbaldonado/opt/anaconda3/lib/python3.9/site-packages/sklearn/linear_model/_logistic.py:458: ConvergenceWarning: lbfgs failed to converge (status=1):\n",
      "STOP: TOTAL NO. of ITERATIONS REACHED LIMIT.\n",
      "\n",
      "Increase the number of iterations (max_iter) or scale the data as shown in:\n",
      "    https://scikit-learn.org/stable/modules/preprocessing.html\n",
      "Please also refer to the documentation for alternative solver options:\n",
      "    https://scikit-learn.org/stable/modules/linear_model.html#logistic-regression\n",
      "  n_iter_i = _check_optimize_result(\n",
      "/Users/gbaldonado/opt/anaconda3/lib/python3.9/site-packages/sklearn/linear_model/_logistic.py:458: ConvergenceWarning: lbfgs failed to converge (status=1):\n",
      "STOP: TOTAL NO. of ITERATIONS REACHED LIMIT.\n",
      "\n",
      "Increase the number of iterations (max_iter) or scale the data as shown in:\n",
      "    https://scikit-learn.org/stable/modules/preprocessing.html\n",
      "Please also refer to the documentation for alternative solver options:\n",
      "    https://scikit-learn.org/stable/modules/linear_model.html#logistic-regression\n",
      "  n_iter_i = _check_optimize_result(\n",
      "/Users/gbaldonado/opt/anaconda3/lib/python3.9/site-packages/sklearn/linear_model/_logistic.py:458: ConvergenceWarning: lbfgs failed to converge (status=1):\n",
      "STOP: TOTAL NO. of ITERATIONS REACHED LIMIT.\n",
      "\n",
      "Increase the number of iterations (max_iter) or scale the data as shown in:\n",
      "    https://scikit-learn.org/stable/modules/preprocessing.html\n",
      "Please also refer to the documentation for alternative solver options:\n",
      "    https://scikit-learn.org/stable/modules/linear_model.html#logistic-regression\n",
      "  n_iter_i = _check_optimize_result(\n",
      "/Users/gbaldonado/opt/anaconda3/lib/python3.9/site-packages/sklearn/linear_model/_logistic.py:458: ConvergenceWarning: lbfgs failed to converge (status=1):\n",
      "STOP: TOTAL NO. of ITERATIONS REACHED LIMIT.\n",
      "\n",
      "Increase the number of iterations (max_iter) or scale the data as shown in:\n",
      "    https://scikit-learn.org/stable/modules/preprocessing.html\n",
      "Please also refer to the documentation for alternative solver options:\n",
      "    https://scikit-learn.org/stable/modules/linear_model.html#logistic-regression\n",
      "  n_iter_i = _check_optimize_result(\n",
      "/Users/gbaldonado/opt/anaconda3/lib/python3.9/site-packages/sklearn/linear_model/_logistic.py:458: ConvergenceWarning: lbfgs failed to converge (status=1):\n",
      "STOP: TOTAL NO. of ITERATIONS REACHED LIMIT.\n",
      "\n",
      "Increase the number of iterations (max_iter) or scale the data as shown in:\n",
      "    https://scikit-learn.org/stable/modules/preprocessing.html\n",
      "Please also refer to the documentation for alternative solver options:\n",
      "    https://scikit-learn.org/stable/modules/linear_model.html#logistic-regression\n",
      "  n_iter_i = _check_optimize_result(\n",
      "/Users/gbaldonado/opt/anaconda3/lib/python3.9/site-packages/sklearn/linear_model/_logistic.py:458: ConvergenceWarning: lbfgs failed to converge (status=1):\n",
      "STOP: TOTAL NO. of ITERATIONS REACHED LIMIT.\n",
      "\n",
      "Increase the number of iterations (max_iter) or scale the data as shown in:\n",
      "    https://scikit-learn.org/stable/modules/preprocessing.html\n",
      "Please also refer to the documentation for alternative solver options:\n",
      "    https://scikit-learn.org/stable/modules/linear_model.html#logistic-regression\n",
      "  n_iter_i = _check_optimize_result(\n",
      "/Users/gbaldonado/opt/anaconda3/lib/python3.9/site-packages/sklearn/linear_model/_logistic.py:458: ConvergenceWarning: lbfgs failed to converge (status=1):\n",
      "STOP: TOTAL NO. of ITERATIONS REACHED LIMIT.\n",
      "\n",
      "Increase the number of iterations (max_iter) or scale the data as shown in:\n",
      "    https://scikit-learn.org/stable/modules/preprocessing.html\n",
      "Please also refer to the documentation for alternative solver options:\n",
      "    https://scikit-learn.org/stable/modules/linear_model.html#logistic-regression\n",
      "  n_iter_i = _check_optimize_result(\n",
      "/Users/gbaldonado/opt/anaconda3/lib/python3.9/site-packages/sklearn/linear_model/_logistic.py:458: ConvergenceWarning: lbfgs failed to converge (status=1):\n",
      "STOP: TOTAL NO. of ITERATIONS REACHED LIMIT.\n",
      "\n",
      "Increase the number of iterations (max_iter) or scale the data as shown in:\n",
      "    https://scikit-learn.org/stable/modules/preprocessing.html\n",
      "Please also refer to the documentation for alternative solver options:\n",
      "    https://scikit-learn.org/stable/modules/linear_model.html#logistic-regression\n",
      "  n_iter_i = _check_optimize_result(\n",
      "/Users/gbaldonado/opt/anaconda3/lib/python3.9/site-packages/sklearn/linear_model/_logistic.py:458: ConvergenceWarning: lbfgs failed to converge (status=1):\n",
      "STOP: TOTAL NO. of ITERATIONS REACHED LIMIT.\n",
      "\n",
      "Increase the number of iterations (max_iter) or scale the data as shown in:\n",
      "    https://scikit-learn.org/stable/modules/preprocessing.html\n",
      "Please also refer to the documentation for alternative solver options:\n",
      "    https://scikit-learn.org/stable/modules/linear_model.html#logistic-regression\n",
      "  n_iter_i = _check_optimize_result(\n",
      "/Users/gbaldonado/opt/anaconda3/lib/python3.9/site-packages/sklearn/linear_model/_logistic.py:458: ConvergenceWarning: lbfgs failed to converge (status=1):\n",
      "STOP: TOTAL NO. of ITERATIONS REACHED LIMIT.\n",
      "\n",
      "Increase the number of iterations (max_iter) or scale the data as shown in:\n",
      "    https://scikit-learn.org/stable/modules/preprocessing.html\n",
      "Please also refer to the documentation for alternative solver options:\n",
      "    https://scikit-learn.org/stable/modules/linear_model.html#logistic-regression\n",
      "  n_iter_i = _check_optimize_result(\n",
      "/Users/gbaldonado/opt/anaconda3/lib/python3.9/site-packages/sklearn/linear_model/_logistic.py:458: ConvergenceWarning: lbfgs failed to converge (status=1):\n",
      "STOP: TOTAL NO. of ITERATIONS REACHED LIMIT.\n",
      "\n",
      "Increase the number of iterations (max_iter) or scale the data as shown in:\n",
      "    https://scikit-learn.org/stable/modules/preprocessing.html\n",
      "Please also refer to the documentation for alternative solver options:\n",
      "    https://scikit-learn.org/stable/modules/linear_model.html#logistic-regression\n",
      "  n_iter_i = _check_optimize_result(\n",
      "/Users/gbaldonado/opt/anaconda3/lib/python3.9/site-packages/sklearn/linear_model/_logistic.py:458: ConvergenceWarning: lbfgs failed to converge (status=1):\n",
      "STOP: TOTAL NO. of ITERATIONS REACHED LIMIT.\n",
      "\n",
      "Increase the number of iterations (max_iter) or scale the data as shown in:\n",
      "    https://scikit-learn.org/stable/modules/preprocessing.html\n",
      "Please also refer to the documentation for alternative solver options:\n",
      "    https://scikit-learn.org/stable/modules/linear_model.html#logistic-regression\n",
      "  n_iter_i = _check_optimize_result(\n",
      "/Users/gbaldonado/opt/anaconda3/lib/python3.9/site-packages/sklearn/linear_model/_logistic.py:458: ConvergenceWarning: lbfgs failed to converge (status=1):\n",
      "STOP: TOTAL NO. of ITERATIONS REACHED LIMIT.\n",
      "\n",
      "Increase the number of iterations (max_iter) or scale the data as shown in:\n",
      "    https://scikit-learn.org/stable/modules/preprocessing.html\n",
      "Please also refer to the documentation for alternative solver options:\n",
      "    https://scikit-learn.org/stable/modules/linear_model.html#logistic-regression\n",
      "  n_iter_i = _check_optimize_result(\n",
      "/Users/gbaldonado/opt/anaconda3/lib/python3.9/site-packages/sklearn/linear_model/_logistic.py:458: ConvergenceWarning: lbfgs failed to converge (status=1):\n",
      "STOP: TOTAL NO. of ITERATIONS REACHED LIMIT.\n",
      "\n",
      "Increase the number of iterations (max_iter) or scale the data as shown in:\n",
      "    https://scikit-learn.org/stable/modules/preprocessing.html\n",
      "Please also refer to the documentation for alternative solver options:\n",
      "    https://scikit-learn.org/stable/modules/linear_model.html#logistic-regression\n",
      "  n_iter_i = _check_optimize_result(\n",
      "/Users/gbaldonado/opt/anaconda3/lib/python3.9/site-packages/sklearn/linear_model/_logistic.py:458: ConvergenceWarning: lbfgs failed to converge (status=1):\n",
      "STOP: TOTAL NO. of ITERATIONS REACHED LIMIT.\n",
      "\n",
      "Increase the number of iterations (max_iter) or scale the data as shown in:\n",
      "    https://scikit-learn.org/stable/modules/preprocessing.html\n",
      "Please also refer to the documentation for alternative solver options:\n",
      "    https://scikit-learn.org/stable/modules/linear_model.html#logistic-regression\n",
      "  n_iter_i = _check_optimize_result(\n",
      "/Users/gbaldonado/opt/anaconda3/lib/python3.9/site-packages/sklearn/linear_model/_logistic.py:458: ConvergenceWarning: lbfgs failed to converge (status=1):\n",
      "STOP: TOTAL NO. of ITERATIONS REACHED LIMIT.\n",
      "\n",
      "Increase the number of iterations (max_iter) or scale the data as shown in:\n",
      "    https://scikit-learn.org/stable/modules/preprocessing.html\n",
      "Please also refer to the documentation for alternative solver options:\n",
      "    https://scikit-learn.org/stable/modules/linear_model.html#logistic-regression\n",
      "  n_iter_i = _check_optimize_result(\n",
      "/Users/gbaldonado/opt/anaconda3/lib/python3.9/site-packages/sklearn/linear_model/_logistic.py:458: ConvergenceWarning: lbfgs failed to converge (status=1):\n",
      "STOP: TOTAL NO. of ITERATIONS REACHED LIMIT.\n",
      "\n",
      "Increase the number of iterations (max_iter) or scale the data as shown in:\n",
      "    https://scikit-learn.org/stable/modules/preprocessing.html\n",
      "Please also refer to the documentation for alternative solver options:\n",
      "    https://scikit-learn.org/stable/modules/linear_model.html#logistic-regression\n",
      "  n_iter_i = _check_optimize_result(\n",
      "/Users/gbaldonado/opt/anaconda3/lib/python3.9/site-packages/sklearn/linear_model/_logistic.py:458: ConvergenceWarning: lbfgs failed to converge (status=1):\n",
      "STOP: TOTAL NO. of ITERATIONS REACHED LIMIT.\n",
      "\n",
      "Increase the number of iterations (max_iter) or scale the data as shown in:\n",
      "    https://scikit-learn.org/stable/modules/preprocessing.html\n",
      "Please also refer to the documentation for alternative solver options:\n",
      "    https://scikit-learn.org/stable/modules/linear_model.html#logistic-regression\n",
      "  n_iter_i = _check_optimize_result(\n",
      "/Users/gbaldonado/opt/anaconda3/lib/python3.9/site-packages/sklearn/linear_model/_logistic.py:458: ConvergenceWarning: lbfgs failed to converge (status=1):\n",
      "STOP: TOTAL NO. of ITERATIONS REACHED LIMIT.\n",
      "\n",
      "Increase the number of iterations (max_iter) or scale the data as shown in:\n",
      "    https://scikit-learn.org/stable/modules/preprocessing.html\n",
      "Please also refer to the documentation for alternative solver options:\n",
      "    https://scikit-learn.org/stable/modules/linear_model.html#logistic-regression\n",
      "  n_iter_i = _check_optimize_result(\n",
      "/Users/gbaldonado/opt/anaconda3/lib/python3.9/site-packages/sklearn/linear_model/_logistic.py:458: ConvergenceWarning: lbfgs failed to converge (status=1):\n",
      "STOP: TOTAL NO. of ITERATIONS REACHED LIMIT.\n",
      "\n",
      "Increase the number of iterations (max_iter) or scale the data as shown in:\n",
      "    https://scikit-learn.org/stable/modules/preprocessing.html\n",
      "Please also refer to the documentation for alternative solver options:\n",
      "    https://scikit-learn.org/stable/modules/linear_model.html#logistic-regression\n",
      "  n_iter_i = _check_optimize_result(\n",
      "/Users/gbaldonado/opt/anaconda3/lib/python3.9/site-packages/sklearn/linear_model/_logistic.py:458: ConvergenceWarning: lbfgs failed to converge (status=1):\n",
      "STOP: TOTAL NO. of ITERATIONS REACHED LIMIT.\n",
      "\n",
      "Increase the number of iterations (max_iter) or scale the data as shown in:\n",
      "    https://scikit-learn.org/stable/modules/preprocessing.html\n",
      "Please also refer to the documentation for alternative solver options:\n",
      "    https://scikit-learn.org/stable/modules/linear_model.html#logistic-regression\n",
      "  n_iter_i = _check_optimize_result(\n",
      "/Users/gbaldonado/opt/anaconda3/lib/python3.9/site-packages/sklearn/linear_model/_logistic.py:458: ConvergenceWarning: lbfgs failed to converge (status=1):\n",
      "STOP: TOTAL NO. of ITERATIONS REACHED LIMIT.\n",
      "\n",
      "Increase the number of iterations (max_iter) or scale the data as shown in:\n",
      "    https://scikit-learn.org/stable/modules/preprocessing.html\n",
      "Please also refer to the documentation for alternative solver options:\n",
      "    https://scikit-learn.org/stable/modules/linear_model.html#logistic-regression\n",
      "  n_iter_i = _check_optimize_result(\n",
      "/Users/gbaldonado/opt/anaconda3/lib/python3.9/site-packages/sklearn/linear_model/_logistic.py:458: ConvergenceWarning: lbfgs failed to converge (status=1):\n",
      "STOP: TOTAL NO. of ITERATIONS REACHED LIMIT.\n",
      "\n",
      "Increase the number of iterations (max_iter) or scale the data as shown in:\n",
      "    https://scikit-learn.org/stable/modules/preprocessing.html\n",
      "Please also refer to the documentation for alternative solver options:\n",
      "    https://scikit-learn.org/stable/modules/linear_model.html#logistic-regression\n",
      "  n_iter_i = _check_optimize_result(\n",
      "/Users/gbaldonado/opt/anaconda3/lib/python3.9/site-packages/sklearn/linear_model/_logistic.py:458: ConvergenceWarning: lbfgs failed to converge (status=1):\n",
      "STOP: TOTAL NO. of ITERATIONS REACHED LIMIT.\n",
      "\n",
      "Increase the number of iterations (max_iter) or scale the data as shown in:\n",
      "    https://scikit-learn.org/stable/modules/preprocessing.html\n",
      "Please also refer to the documentation for alternative solver options:\n",
      "    https://scikit-learn.org/stable/modules/linear_model.html#logistic-regression\n",
      "  n_iter_i = _check_optimize_result(\n",
      "/Users/gbaldonado/opt/anaconda3/lib/python3.9/site-packages/sklearn/linear_model/_logistic.py:458: ConvergenceWarning: lbfgs failed to converge (status=1):\n",
      "STOP: TOTAL NO. of ITERATIONS REACHED LIMIT.\n",
      "\n",
      "Increase the number of iterations (max_iter) or scale the data as shown in:\n",
      "    https://scikit-learn.org/stable/modules/preprocessing.html\n",
      "Please also refer to the documentation for alternative solver options:\n",
      "    https://scikit-learn.org/stable/modules/linear_model.html#logistic-regression\n",
      "  n_iter_i = _check_optimize_result(\n",
      "/Users/gbaldonado/opt/anaconda3/lib/python3.9/site-packages/sklearn/linear_model/_logistic.py:458: ConvergenceWarning: lbfgs failed to converge (status=1):\n",
      "STOP: TOTAL NO. of ITERATIONS REACHED LIMIT.\n",
      "\n",
      "Increase the number of iterations (max_iter) or scale the data as shown in:\n",
      "    https://scikit-learn.org/stable/modules/preprocessing.html\n",
      "Please also refer to the documentation for alternative solver options:\n",
      "    https://scikit-learn.org/stable/modules/linear_model.html#logistic-regression\n",
      "  n_iter_i = _check_optimize_result(\n",
      "/Users/gbaldonado/opt/anaconda3/lib/python3.9/site-packages/sklearn/linear_model/_logistic.py:458: ConvergenceWarning: lbfgs failed to converge (status=1):\n",
      "STOP: TOTAL NO. of ITERATIONS REACHED LIMIT.\n",
      "\n",
      "Increase the number of iterations (max_iter) or scale the data as shown in:\n",
      "    https://scikit-learn.org/stable/modules/preprocessing.html\n",
      "Please also refer to the documentation for alternative solver options:\n",
      "    https://scikit-learn.org/stable/modules/linear_model.html#logistic-regression\n",
      "  n_iter_i = _check_optimize_result(\n",
      "/Users/gbaldonado/opt/anaconda3/lib/python3.9/site-packages/sklearn/linear_model/_logistic.py:458: ConvergenceWarning: lbfgs failed to converge (status=1):\n",
      "STOP: TOTAL NO. of ITERATIONS REACHED LIMIT.\n",
      "\n",
      "Increase the number of iterations (max_iter) or scale the data as shown in:\n",
      "    https://scikit-learn.org/stable/modules/preprocessing.html\n",
      "Please also refer to the documentation for alternative solver options:\n",
      "    https://scikit-learn.org/stable/modules/linear_model.html#logistic-regression\n",
      "  n_iter_i = _check_optimize_result(\n",
      "/Users/gbaldonado/opt/anaconda3/lib/python3.9/site-packages/sklearn/linear_model/_logistic.py:458: ConvergenceWarning: lbfgs failed to converge (status=1):\n",
      "STOP: TOTAL NO. of ITERATIONS REACHED LIMIT.\n",
      "\n",
      "Increase the number of iterations (max_iter) or scale the data as shown in:\n",
      "    https://scikit-learn.org/stable/modules/preprocessing.html\n",
      "Please also refer to the documentation for alternative solver options:\n",
      "    https://scikit-learn.org/stable/modules/linear_model.html#logistic-regression\n",
      "  n_iter_i = _check_optimize_result(\n",
      "/Users/gbaldonado/opt/anaconda3/lib/python3.9/site-packages/sklearn/linear_model/_logistic.py:458: ConvergenceWarning: lbfgs failed to converge (status=1):\n",
      "STOP: TOTAL NO. of ITERATIONS REACHED LIMIT.\n",
      "\n",
      "Increase the number of iterations (max_iter) or scale the data as shown in:\n",
      "    https://scikit-learn.org/stable/modules/preprocessing.html\n",
      "Please also refer to the documentation for alternative solver options:\n",
      "    https://scikit-learn.org/stable/modules/linear_model.html#logistic-regression\n",
      "  n_iter_i = _check_optimize_result(\n",
      "/Users/gbaldonado/opt/anaconda3/lib/python3.9/site-packages/sklearn/linear_model/_logistic.py:458: ConvergenceWarning: lbfgs failed to converge (status=1):\n",
      "STOP: TOTAL NO. of ITERATIONS REACHED LIMIT.\n",
      "\n",
      "Increase the number of iterations (max_iter) or scale the data as shown in:\n",
      "    https://scikit-learn.org/stable/modules/preprocessing.html\n",
      "Please also refer to the documentation for alternative solver options:\n",
      "    https://scikit-learn.org/stable/modules/linear_model.html#logistic-regression\n",
      "  n_iter_i = _check_optimize_result(\n",
      "/Users/gbaldonado/opt/anaconda3/lib/python3.9/site-packages/sklearn/linear_model/_logistic.py:458: ConvergenceWarning: lbfgs failed to converge (status=1):\n",
      "STOP: TOTAL NO. of ITERATIONS REACHED LIMIT.\n",
      "\n",
      "Increase the number of iterations (max_iter) or scale the data as shown in:\n",
      "    https://scikit-learn.org/stable/modules/preprocessing.html\n",
      "Please also refer to the documentation for alternative solver options:\n",
      "    https://scikit-learn.org/stable/modules/linear_model.html#logistic-regression\n",
      "  n_iter_i = _check_optimize_result(\n",
      "/Users/gbaldonado/opt/anaconda3/lib/python3.9/site-packages/sklearn/linear_model/_logistic.py:458: ConvergenceWarning: lbfgs failed to converge (status=1):\n",
      "STOP: TOTAL NO. of ITERATIONS REACHED LIMIT.\n",
      "\n",
      "Increase the number of iterations (max_iter) or scale the data as shown in:\n",
      "    https://scikit-learn.org/stable/modules/preprocessing.html\n",
      "Please also refer to the documentation for alternative solver options:\n",
      "    https://scikit-learn.org/stable/modules/linear_model.html#logistic-regression\n",
      "  n_iter_i = _check_optimize_result(\n",
      "/Users/gbaldonado/opt/anaconda3/lib/python3.9/site-packages/sklearn/linear_model/_logistic.py:458: ConvergenceWarning: lbfgs failed to converge (status=1):\n",
      "STOP: TOTAL NO. of ITERATIONS REACHED LIMIT.\n",
      "\n",
      "Increase the number of iterations (max_iter) or scale the data as shown in:\n",
      "    https://scikit-learn.org/stable/modules/preprocessing.html\n",
      "Please also refer to the documentation for alternative solver options:\n",
      "    https://scikit-learn.org/stable/modules/linear_model.html#logistic-regression\n",
      "  n_iter_i = _check_optimize_result(\n",
      "/Users/gbaldonado/opt/anaconda3/lib/python3.9/site-packages/sklearn/linear_model/_logistic.py:458: ConvergenceWarning: lbfgs failed to converge (status=1):\n",
      "STOP: TOTAL NO. of ITERATIONS REACHED LIMIT.\n",
      "\n",
      "Increase the number of iterations (max_iter) or scale the data as shown in:\n",
      "    https://scikit-learn.org/stable/modules/preprocessing.html\n",
      "Please also refer to the documentation for alternative solver options:\n",
      "    https://scikit-learn.org/stable/modules/linear_model.html#logistic-regression\n",
      "  n_iter_i = _check_optimize_result(\n",
      "/Users/gbaldonado/opt/anaconda3/lib/python3.9/site-packages/sklearn/linear_model/_logistic.py:458: ConvergenceWarning: lbfgs failed to converge (status=1):\n",
      "STOP: TOTAL NO. of ITERATIONS REACHED LIMIT.\n",
      "\n",
      "Increase the number of iterations (max_iter) or scale the data as shown in:\n",
      "    https://scikit-learn.org/stable/modules/preprocessing.html\n",
      "Please also refer to the documentation for alternative solver options:\n",
      "    https://scikit-learn.org/stable/modules/linear_model.html#logistic-regression\n",
      "  n_iter_i = _check_optimize_result(\n",
      "/Users/gbaldonado/opt/anaconda3/lib/python3.9/site-packages/sklearn/model_selection/_validation.py:378: FitFailedWarning: \n",
      "120 fits failed out of a total of 480.\n",
      "The score on these train-test partitions for these parameters will be set to nan.\n",
      "If these failures are not expected, you can try to debug them by setting error_score='raise'.\n",
      "\n",
      "Below are more details about the failures:\n",
      "--------------------------------------------------------------------------------\n",
      "120 fits failed with the following error:\n",
      "Traceback (most recent call last):\n",
      "  File \"/Users/gbaldonado/opt/anaconda3/lib/python3.9/site-packages/sklearn/model_selection/_validation.py\", line 686, in _fit_and_score\n",
      "    estimator.fit(X_train, y_train, **fit_params)\n",
      "  File \"/Users/gbaldonado/opt/anaconda3/lib/python3.9/site-packages/sklearn/linear_model/_logistic.py\", line 1162, in fit\n",
      "    solver = _check_solver(self.solver, self.penalty, self.dual)\n",
      "  File \"/Users/gbaldonado/opt/anaconda3/lib/python3.9/site-packages/sklearn/linear_model/_logistic.py\", line 54, in _check_solver\n",
      "    raise ValueError(\n",
      "ValueError: Solver lbfgs supports only 'l2' or 'none' penalties, got l1 penalty.\n",
      "\n",
      "  warnings.warn(some_fits_failed_message, FitFailedWarning)\n",
      "/Users/gbaldonado/opt/anaconda3/lib/python3.9/site-packages/sklearn/model_selection/_search.py:953: UserWarning: One or more of the test scores are non-finite: [       nan 0.30256596 0.52325731 0.4960364         nan 0.30865572\n",
      " 0.52325731 0.4960364         nan 0.31462831 0.52325731 0.4960364\n",
      "        nan 0.52424638 0.54001226 0.51827379        nan 0.52231397\n",
      " 0.54012282 0.51827379        nan 0.52424638 0.54012282 0.51827379\n",
      "        nan 0.50648494 0.51071387 0.51865383        nan 0.50835983\n",
      " 0.50578614 0.51865383        nan 0.50648494 0.51155612 0.51865383\n",
      "        nan 0.4951431  0.51545148 0.50861257        nan 0.49602436\n",
      " 0.50117306 0.50861257        nan 0.49278363 0.49938641 0.50861257]\n",
      "  warnings.warn(\n"
     ]
    },
    {
     "name": "stdout",
     "output_type": "stream",
     "text": [
      "\n",
      "score is appended\n",
      "\n",
      "MultinomialNB()\n",
      "\n",
      "fitting...\n",
      "Fitting 10 folds for each of 12 candidates, totalling 120 fits\n",
      "\n",
      "score is appended\n",
      "\n",
      "SVC()\n",
      "\n",
      "fitting...\n",
      "Fitting 10 folds for each of 16 candidates, totalling 160 fits\n",
      "\n",
      "score is appended\n",
      "\n"
     ]
    }
   ],
   "source": [
    "scores = []\n",
    "\n",
    "for model_name, mp in model_params.items():\n",
    "    clf = GridSearchCV(mp['model'], mp['params'], scoring=\"f1_weighted\", cv = 10, n_jobs=-1, verbose=1)\n",
    "    \n",
    "    print(mp['model'])\n",
    "    print('\\nfitting...')\n",
    "    clf.fit(X_train_2, y_train_2)\n",
    "    scores.append({\n",
    "        'model' : model_name,\n",
    "        'best_score' : clf.best_score_,\n",
    "        'best_params' : clf.best_params_\n",
    "    })\n",
    "    print('\\nscore is appended\\n')"
   ]
  },
  {
   "cell_type": "code",
   "execution_count": 488,
   "id": "cd200642-ece3-496d-b284-cc760635a6bb",
   "metadata": {},
   "outputs": [
    {
     "data": {
      "text/plain": [
       "[{'model': 'random_forest',\n",
       "  'best_score': 0.5039997209707995,\n",
       "  'best_params': {'max_features': 8,\n",
       "   'min_samples_leaf': 2,\n",
       "   'n_estimators': 200}},\n",
       " {'model': 'logistics_regression',\n",
       "  'best_score': 0.5401228165853433,\n",
       "  'best_params': {'C': 1,\n",
       "   'max_iter': 400,\n",
       "   'penalty': 'l2',\n",
       "   'solver': 'lbfgs'}},\n",
       " {'model': 'MultinomialNB',\n",
       "  'best_score': 0.5142881286471915,\n",
       "  'best_params': {'alpha': 1.5, 'fit_prior': True}},\n",
       " {'model': 'SVM',\n",
       "  'best_score': 0.5024462765449853,\n",
       "  'best_params': {'C': 1, 'gamma': 0.001, 'kernel': 'linear'}}]"
      ]
     },
     "execution_count": 488,
     "metadata": {},
     "output_type": "execute_result"
    }
   ],
   "source": [
    "scores"
   ]
  },
  {
   "cell_type": "markdown",
   "id": "390284cb-04f3-4a2f-b3f9-18b10dfe5edd",
   "metadata": {
    "jp-MarkdownHeadingCollapsed": true,
    "tags": []
   },
   "source": [
    "#### Evaluation: Random Forest Model 2"
   ]
  },
  {
   "cell_type": "code",
   "execution_count": 489,
   "id": "d894fffb-937e-4b73-a5e7-51538815061d",
   "metadata": {},
   "outputs": [
    {
     "data": {
      "text/plain": [
       "{'max_features': 8, 'min_samples_leaf': 2, 'n_estimators': 200}"
      ]
     },
     "execution_count": 489,
     "metadata": {},
     "output_type": "execute_result"
    }
   ],
   "source": [
    "best_parameters = scores[0][\"best_params\"]\n",
    "best_parameters"
   ]
  },
  {
   "cell_type": "code",
   "execution_count": 490,
   "id": "22c3cfd4-1414-4575-a90b-35f2e9477130",
   "metadata": {},
   "outputs": [
    {
     "data": {
      "text/html": [
       "<style>#sk-container-id-18 {color: black;background-color: white;}#sk-container-id-18 pre{padding: 0;}#sk-container-id-18 div.sk-toggleable {background-color: white;}#sk-container-id-18 label.sk-toggleable__label {cursor: pointer;display: block;width: 100%;margin-bottom: 0;padding: 0.3em;box-sizing: border-box;text-align: center;}#sk-container-id-18 label.sk-toggleable__label-arrow:before {content: \"▸\";float: left;margin-right: 0.25em;color: #696969;}#sk-container-id-18 label.sk-toggleable__label-arrow:hover:before {color: black;}#sk-container-id-18 div.sk-estimator:hover label.sk-toggleable__label-arrow:before {color: black;}#sk-container-id-18 div.sk-toggleable__content {max-height: 0;max-width: 0;overflow: hidden;text-align: left;background-color: #f0f8ff;}#sk-container-id-18 div.sk-toggleable__content pre {margin: 0.2em;color: black;border-radius: 0.25em;background-color: #f0f8ff;}#sk-container-id-18 input.sk-toggleable__control:checked~div.sk-toggleable__content {max-height: 200px;max-width: 100%;overflow: auto;}#sk-container-id-18 input.sk-toggleable__control:checked~label.sk-toggleable__label-arrow:before {content: \"▾\";}#sk-container-id-18 div.sk-estimator input.sk-toggleable__control:checked~label.sk-toggleable__label {background-color: #d4ebff;}#sk-container-id-18 div.sk-label input.sk-toggleable__control:checked~label.sk-toggleable__label {background-color: #d4ebff;}#sk-container-id-18 input.sk-hidden--visually {border: 0;clip: rect(1px 1px 1px 1px);clip: rect(1px, 1px, 1px, 1px);height: 1px;margin: -1px;overflow: hidden;padding: 0;position: absolute;width: 1px;}#sk-container-id-18 div.sk-estimator {font-family: monospace;background-color: #f0f8ff;border: 1px dotted black;border-radius: 0.25em;box-sizing: border-box;margin-bottom: 0.5em;}#sk-container-id-18 div.sk-estimator:hover {background-color: #d4ebff;}#sk-container-id-18 div.sk-parallel-item::after {content: \"\";width: 100%;border-bottom: 1px solid gray;flex-grow: 1;}#sk-container-id-18 div.sk-label:hover label.sk-toggleable__label {background-color: #d4ebff;}#sk-container-id-18 div.sk-serial::before {content: \"\";position: absolute;border-left: 1px solid gray;box-sizing: border-box;top: 0;bottom: 0;left: 50%;z-index: 0;}#sk-container-id-18 div.sk-serial {display: flex;flex-direction: column;align-items: center;background-color: white;padding-right: 0.2em;padding-left: 0.2em;position: relative;}#sk-container-id-18 div.sk-item {position: relative;z-index: 1;}#sk-container-id-18 div.sk-parallel {display: flex;align-items: stretch;justify-content: center;background-color: white;position: relative;}#sk-container-id-18 div.sk-item::before, #sk-container-id-18 div.sk-parallel-item::before {content: \"\";position: absolute;border-left: 1px solid gray;box-sizing: border-box;top: 0;bottom: 0;left: 50%;z-index: -1;}#sk-container-id-18 div.sk-parallel-item {display: flex;flex-direction: column;z-index: 1;position: relative;background-color: white;}#sk-container-id-18 div.sk-parallel-item:first-child::after {align-self: flex-end;width: 50%;}#sk-container-id-18 div.sk-parallel-item:last-child::after {align-self: flex-start;width: 50%;}#sk-container-id-18 div.sk-parallel-item:only-child::after {width: 0;}#sk-container-id-18 div.sk-dashed-wrapped {border: 1px dashed gray;margin: 0 0.4em 0.5em 0.4em;box-sizing: border-box;padding-bottom: 0.4em;background-color: white;}#sk-container-id-18 div.sk-label label {font-family: monospace;font-weight: bold;display: inline-block;line-height: 1.2em;}#sk-container-id-18 div.sk-label-container {text-align: center;}#sk-container-id-18 div.sk-container {/* jupyter's `normalize.less` sets `[hidden] { display: none; }` but bootstrap.min.css set `[hidden] { display: none !important; }` so we also need the `!important` here to be able to override the default hidden behavior on the sphinx rendered scikit-learn.org. See: https://github.com/scikit-learn/scikit-learn/issues/21755 */display: inline-block !important;position: relative;}#sk-container-id-18 div.sk-text-repr-fallback {display: none;}</style><div id=\"sk-container-id-18\" class=\"sk-top-container\"><div class=\"sk-text-repr-fallback\"><pre>RandomForestClassifier(max_features=8, min_samples_leaf=2, n_estimators=200,\n",
       "                       random_state=18)</pre><b>In a Jupyter environment, please rerun this cell to show the HTML representation or trust the notebook. <br />On GitHub, the HTML representation is unable to render, please try loading this page with nbviewer.org.</b></div><div class=\"sk-container\" hidden><div class=\"sk-item\"><div class=\"sk-estimator sk-toggleable\"><input class=\"sk-toggleable__control sk-hidden--visually\" id=\"sk-estimator-id-18\" type=\"checkbox\" checked><label for=\"sk-estimator-id-18\" class=\"sk-toggleable__label sk-toggleable__label-arrow\">RandomForestClassifier</label><div class=\"sk-toggleable__content\"><pre>RandomForestClassifier(max_features=8, min_samples_leaf=2, n_estimators=200,\n",
       "                       random_state=18)</pre></div></div></div></div></div>"
      ],
      "text/plain": [
       "RandomForestClassifier(max_features=8, min_samples_leaf=2, n_estimators=200,\n",
       "                       random_state=18)"
      ]
     },
     "execution_count": 490,
     "metadata": {},
     "output_type": "execute_result"
    }
   ],
   "source": [
    "rf_model_2 = RandomForestClassifier(random_state=18,\n",
    "                                    max_features=best_parameters['max_features'],\n",
    "                                    min_samples_leaf=best_parameters['min_samples_leaf'],\n",
    "                                    n_estimators=best_parameters['n_estimators'])\n",
    "\n",
    "rf_model_2.fit(X_train_2, y_train_2)"
   ]
  },
  {
   "cell_type": "code",
   "execution_count": 491,
   "id": "925f944f-f2e1-4a45-9090-517b7e3252aa",
   "metadata": {},
   "outputs": [
    {
     "name": "stdout",
     "output_type": "stream",
     "text": [
      "Evaluation Random Forest Classifier: Model 2\n",
      "--------------------------------------------------------------------------------\n",
      "Mean accuracy score on training set 1.0\n",
      "Mean accuracy score on test set 0.5093457943925234\n"
     ]
    },
    {
     "data": {
      "image/png": "[encoded data removed]",
      "text/plain": [
       "<Figure size 432x288 with 2 Axes>"
      ]
     },
     "metadata": {
      "needs_background": "light"
     },
     "output_type": "display_data"
    },
    {
     "name": "stdout",
     "output_type": "stream",
     "text": [
      "              precision    recall  f1-score   support\n",
      "\n",
      "           0       0.56      0.18      0.27        50\n",
      "           1       0.57      0.53      0.55        77\n",
      "           2       0.47      0.68      0.55        87\n",
      "\n",
      "    accuracy                           0.51       214\n",
      "   macro avg       0.53      0.46      0.46       214\n",
      "weighted avg       0.53      0.51      0.49       214\n",
      "\n"
     ]
    }
   ],
   "source": [
    "_ = evaluate_random_forest(rf_model_2, X_train_2, y_train_2, X_test_2, y_test_2, name=\"Model 2\")"
   ]
  },
  {
   "cell_type": "markdown",
   "id": "1dac0a8d-b36b-4da6-a58b-2c948675c3bf",
   "metadata": {
    "jp-MarkdownHeadingCollapsed": true,
    "tags": []
   },
   "source": [
    "#### Evaluation: Logistic Regression Model 2"
   ]
  },
  {
   "cell_type": "code",
   "execution_count": 492,
   "id": "d79a0609-6231-4840-ba3c-2b340ba11c07",
   "metadata": {},
   "outputs": [
    {
     "data": {
      "text/plain": [
       "{'C': 1, 'max_iter': 400, 'penalty': 'l2', 'solver': 'lbfgs'}"
      ]
     },
     "execution_count": 492,
     "metadata": {},
     "output_type": "execute_result"
    }
   ],
   "source": [
    "best_parameters = scores[1][\"best_params\"]\n",
    "best_parameters"
   ]
  },
  {
   "cell_type": "code",
   "execution_count": 493,
   "id": "8640aa1c-7579-4d82-8207-473893aa2c02",
   "metadata": {},
   "outputs": [
    {
     "data": {
      "text/html": [
       "<style>#sk-container-id-19 {color: black;background-color: white;}#sk-container-id-19 pre{padding: 0;}#sk-container-id-19 div.sk-toggleable {background-color: white;}#sk-container-id-19 label.sk-toggleable__label {cursor: pointer;display: block;width: 100%;margin-bottom: 0;padding: 0.3em;box-sizing: border-box;text-align: center;}#sk-container-id-19 label.sk-toggleable__label-arrow:before {content: \"▸\";float: left;margin-right: 0.25em;color: #696969;}#sk-container-id-19 label.sk-toggleable__label-arrow:hover:before {color: black;}#sk-container-id-19 div.sk-estimator:hover label.sk-toggleable__label-arrow:before {color: black;}#sk-container-id-19 div.sk-toggleable__content {max-height: 0;max-width: 0;overflow: hidden;text-align: left;background-color: #f0f8ff;}#sk-container-id-19 div.sk-toggleable__content pre {margin: 0.2em;color: black;border-radius: 0.25em;background-color: #f0f8ff;}#sk-container-id-19 input.sk-toggleable__control:checked~div.sk-toggleable__content {max-height: 200px;max-width: 100%;overflow: auto;}#sk-container-id-19 input.sk-toggleable__control:checked~label.sk-toggleable__label-arrow:before {content: \"▾\";}#sk-container-id-19 div.sk-estimator input.sk-toggleable__control:checked~label.sk-toggleable__label {background-color: #d4ebff;}#sk-container-id-19 div.sk-label input.sk-toggleable__control:checked~label.sk-toggleable__label {background-color: #d4ebff;}#sk-container-id-19 input.sk-hidden--visually {border: 0;clip: rect(1px 1px 1px 1px);clip: rect(1px, 1px, 1px, 1px);height: 1px;margin: -1px;overflow: hidden;padding: 0;position: absolute;width: 1px;}#sk-container-id-19 div.sk-estimator {font-family: monospace;background-color: #f0f8ff;border: 1px dotted black;border-radius: 0.25em;box-sizing: border-box;margin-bottom: 0.5em;}#sk-container-id-19 div.sk-estimator:hover {background-color: #d4ebff;}#sk-container-id-19 div.sk-parallel-item::after {content: \"\";width: 100%;border-bottom: 1px solid gray;flex-grow: 1;}#sk-container-id-19 div.sk-label:hover label.sk-toggleable__label {background-color: #d4ebff;}#sk-container-id-19 div.sk-serial::before {content: \"\";position: absolute;border-left: 1px solid gray;box-sizing: border-box;top: 0;bottom: 0;left: 50%;z-index: 0;}#sk-container-id-19 div.sk-serial {display: flex;flex-direction: column;align-items: center;background-color: white;padding-right: 0.2em;padding-left: 0.2em;position: relative;}#sk-container-id-19 div.sk-item {position: relative;z-index: 1;}#sk-container-id-19 div.sk-parallel {display: flex;align-items: stretch;justify-content: center;background-color: white;position: relative;}#sk-container-id-19 div.sk-item::before, #sk-container-id-19 div.sk-parallel-item::before {content: \"\";position: absolute;border-left: 1px solid gray;box-sizing: border-box;top: 0;bottom: 0;left: 50%;z-index: -1;}#sk-container-id-19 div.sk-parallel-item {display: flex;flex-direction: column;z-index: 1;position: relative;background-color: white;}#sk-container-id-19 div.sk-parallel-item:first-child::after {align-self: flex-end;width: 50%;}#sk-container-id-19 div.sk-parallel-item:last-child::after {align-self: flex-start;width: 50%;}#sk-container-id-19 div.sk-parallel-item:only-child::after {width: 0;}#sk-container-id-19 div.sk-dashed-wrapped {border: 1px dashed gray;margin: 0 0.4em 0.5em 0.4em;box-sizing: border-box;padding-bottom: 0.4em;background-color: white;}#sk-container-id-19 div.sk-label label {font-family: monospace;font-weight: bold;display: inline-block;line-height: 1.2em;}#sk-container-id-19 div.sk-label-container {text-align: center;}#sk-container-id-19 div.sk-container {/* jupyter's `normalize.less` sets `[hidden] { display: none; }` but bootstrap.min.css set `[hidden] { display: none !important; }` so we also need the `!important` here to be able to override the default hidden behavior on the sphinx rendered scikit-learn.org. See: https://github.com/scikit-learn/scikit-learn/issues/21755 */display: inline-block !important;position: relative;}#sk-container-id-19 div.sk-text-repr-fallback {display: none;}</style><div id=\"sk-container-id-19\" class=\"sk-top-container\"><div class=\"sk-text-repr-fallback\"><pre>LogisticRegression(C=1, max_iter=400, random_state=18)</pre><b>In a Jupyter environment, please rerun this cell to show the HTML representation or trust the notebook. <br />On GitHub, the HTML representation is unable to render, please try loading this page with nbviewer.org.</b></div><div class=\"sk-container\" hidden><div class=\"sk-item\"><div class=\"sk-estimator sk-toggleable\"><input class=\"sk-toggleable__control sk-hidden--visually\" id=\"sk-estimator-id-19\" type=\"checkbox\" checked><label for=\"sk-estimator-id-19\" class=\"sk-toggleable__label sk-toggleable__label-arrow\">LogisticRegression</label><div class=\"sk-toggleable__content\"><pre>LogisticRegression(C=1, max_iter=400, random_state=18)</pre></div></div></div></div></div>"
      ],
      "text/plain": [
       "LogisticRegression(C=1, max_iter=400, random_state=18)"
      ]
     },
     "execution_count": 493,
     "metadata": {},
     "output_type": "execute_result"
    }
   ],
   "source": [
    "lr_model_2 = LogisticRegression(random_state=18,\n",
    "                                C=best_parameters['C'],\n",
    "                                solver=best_parameters['solver'],\n",
    "                                max_iter=best_parameters['max_iter'],\n",
    "                                penalty=best_parameters['penalty'])\n",
    "\n",
    "lr_model_2.fit(X_train_2, y_train_2)"
   ]
  },
  {
   "cell_type": "code",
   "execution_count": 494,
   "id": "ae8bab83-4f88-459f-8178-f33bf098627f",
   "metadata": {},
   "outputs": [
    {
     "name": "stdout",
     "output_type": "stream",
     "text": [
      "Evaluation Logistic Regression Classifier: Model 2\n",
      "--------------------------------------------------------------------------------\n",
      "Mean accuracy score on training set 0.7027649769585254\n",
      "Mean accuracy score on test set 0.5186915887850467\n"
     ]
    },
    {
     "data": {
      "image/png": "[encoded data removed]",
      "text/plain": [
       "<Figure size 432x288 with 2 Axes>"
      ]
     },
     "metadata": {
      "needs_background": "light"
     },
     "output_type": "display_data"
    },
    {
     "name": "stdout",
     "output_type": "stream",
     "text": [
      "              precision    recall  f1-score   support\n",
      "\n",
      "           0       0.35      0.26      0.30        50\n",
      "           1       0.58      0.65      0.61        77\n",
      "           2       0.53      0.55      0.54        87\n",
      "\n",
      "    accuracy                           0.52       214\n",
      "   macro avg       0.49      0.49      0.48       214\n",
      "weighted avg       0.51      0.52      0.51       214\n",
      "\n"
     ]
    }
   ],
   "source": [
    "_ = evaluate_lr(lr_model_2, X_train_2, y_train_2, X_test_2, y_test_2, name=\"Model 2\")"
   ]
  },
  {
   "cell_type": "markdown",
   "id": "72c21371-1334-4aa4-9b92-7c9447bb679e",
   "metadata": {
    "jp-MarkdownHeadingCollapsed": true,
    "tags": []
   },
   "source": [
    "#### Evaluation: Naive Bayes Model 2"
   ]
  },
  {
   "cell_type": "code",
   "execution_count": 495,
   "id": "b1276e9d-b70a-4752-9216-82ede55fa4a9",
   "metadata": {},
   "outputs": [
    {
     "data": {
      "text/plain": [
       "{'alpha': 1.5, 'fit_prior': True}"
      ]
     },
     "execution_count": 495,
     "metadata": {},
     "output_type": "execute_result"
    }
   ],
   "source": [
    "best_parameters = scores[2][\"best_params\"]\n",
    "best_parameters"
   ]
  },
  {
   "cell_type": "code",
   "execution_count": 496,
   "id": "1398fb00-574e-4483-891f-95d3ab091f43",
   "metadata": {
    "scrolled": true,
    "tags": []
   },
   "outputs": [
    {
     "data": {
      "text/html": [
       "<style>#sk-container-id-20 {color: black;background-color: white;}#sk-container-id-20 pre{padding: 0;}#sk-container-id-20 div.sk-toggleable {background-color: white;}#sk-container-id-20 label.sk-toggleable__label {cursor: pointer;display: block;width: 100%;margin-bottom: 0;padding: 0.3em;box-sizing: border-box;text-align: center;}#sk-container-id-20 label.sk-toggleable__label-arrow:before {content: \"▸\";float: left;margin-right: 0.25em;color: #696969;}#sk-container-id-20 label.sk-toggleable__label-arrow:hover:before {color: black;}#sk-container-id-20 div.sk-estimator:hover label.sk-toggleable__label-arrow:before {color: black;}#sk-container-id-20 div.sk-toggleable__content {max-height: 0;max-width: 0;overflow: hidden;text-align: left;background-color: #f0f8ff;}#sk-container-id-20 div.sk-toggleable__content pre {margin: 0.2em;color: black;border-radius: 0.25em;background-color: #f0f8ff;}#sk-container-id-20 input.sk-toggleable__control:checked~div.sk-toggleable__content {max-height: 200px;max-width: 100%;overflow: auto;}#sk-container-id-20 input.sk-toggleable__control:checked~label.sk-toggleable__label-arrow:before {content: \"▾\";}#sk-container-id-20 div.sk-estimator input.sk-toggleable__control:checked~label.sk-toggleable__label {background-color: #d4ebff;}#sk-container-id-20 div.sk-label input.sk-toggleable__control:checked~label.sk-toggleable__label {background-color: #d4ebff;}#sk-container-id-20 input.sk-hidden--visually {border: 0;clip: rect(1px 1px 1px 1px);clip: rect(1px, 1px, 1px, 1px);height: 1px;margin: -1px;overflow: hidden;padding: 0;position: absolute;width: 1px;}#sk-container-id-20 div.sk-estimator {font-family: monospace;background-color: #f0f8ff;border: 1px dotted black;border-radius: 0.25em;box-sizing: border-box;margin-bottom: 0.5em;}#sk-container-id-20 div.sk-estimator:hover {background-color: #d4ebff;}#sk-container-id-20 div.sk-parallel-item::after {content: \"\";width: 100%;border-bottom: 1px solid gray;flex-grow: 1;}#sk-container-id-20 div.sk-label:hover label.sk-toggleable__label {background-color: #d4ebff;}#sk-container-id-20 div.sk-serial::before {content: \"\";position: absolute;border-left: 1px solid gray;box-sizing: border-box;top: 0;bottom: 0;left: 50%;z-index: 0;}#sk-container-id-20 div.sk-serial {display: flex;flex-direction: column;align-items: center;background-color: white;padding-right: 0.2em;padding-left: 0.2em;position: relative;}#sk-container-id-20 div.sk-item {position: relative;z-index: 1;}#sk-container-id-20 div.sk-parallel {display: flex;align-items: stretch;justify-content: center;background-color: white;position: relative;}#sk-container-id-20 div.sk-item::before, #sk-container-id-20 div.sk-parallel-item::before {content: \"\";position: absolute;border-left: 1px solid gray;box-sizing: border-box;top: 0;bottom: 0;left: 50%;z-index: -1;}#sk-container-id-20 div.sk-parallel-item {display: flex;flex-direction: column;z-index: 1;position: relative;background-color: white;}#sk-container-id-20 div.sk-parallel-item:first-child::after {align-self: flex-end;width: 50%;}#sk-container-id-20 div.sk-parallel-item:last-child::after {align-self: flex-start;width: 50%;}#sk-container-id-20 div.sk-parallel-item:only-child::after {width: 0;}#sk-container-id-20 div.sk-dashed-wrapped {border: 1px dashed gray;margin: 0 0.4em 0.5em 0.4em;box-sizing: border-box;padding-bottom: 0.4em;background-color: white;}#sk-container-id-20 div.sk-label label {font-family: monospace;font-weight: bold;display: inline-block;line-height: 1.2em;}#sk-container-id-20 div.sk-label-container {text-align: center;}#sk-container-id-20 div.sk-container {/* jupyter's `normalize.less` sets `[hidden] { display: none; }` but bootstrap.min.css set `[hidden] { display: none !important; }` so we also need the `!important` here to be able to override the default hidden behavior on the sphinx rendered scikit-learn.org. See: https://github.com/scikit-learn/scikit-learn/issues/21755 */display: inline-block !important;position: relative;}#sk-container-id-20 div.sk-text-repr-fallback {display: none;}</style><div id=\"sk-container-id-20\" class=\"sk-top-container\"><div class=\"sk-text-repr-fallback\"><pre>MultinomialNB(alpha=1.5)</pre><b>In a Jupyter environment, please rerun this cell to show the HTML representation or trust the notebook. <br />On GitHub, the HTML representation is unable to render, please try loading this page with nbviewer.org.</b></div><div class=\"sk-container\" hidden><div class=\"sk-item\"><div class=\"sk-estimator sk-toggleable\"><input class=\"sk-toggleable__control sk-hidden--visually\" id=\"sk-estimator-id-20\" type=\"checkbox\" checked><label for=\"sk-estimator-id-20\" class=\"sk-toggleable__label sk-toggleable__label-arrow\">MultinomialNB</label><div class=\"sk-toggleable__content\"><pre>MultinomialNB(alpha=1.5)</pre></div></div></div></div></div>"
      ],
      "text/plain": [
       "MultinomialNB(alpha=1.5)"
      ]
     },
     "execution_count": 496,
     "metadata": {},
     "output_type": "execute_result"
    }
   ],
   "source": [
    "nb_model_2 = MultinomialNB(alpha=best_parameters['alpha'],\n",
    "                           fit_prior=best_parameters[\"fit_prior\"])\n",
    "\n",
    "nb_model_2.fit(X_train_2, y_train_2)"
   ]
  },
  {
   "cell_type": "code",
   "execution_count": 497,
   "id": "95eae90a-ec34-48a0-8430-bbeaf389249b",
   "metadata": {},
   "outputs": [
    {
     "name": "stdout",
     "output_type": "stream",
     "text": [
      "Evaluation Naive Bayes Classifier: Model 2\n",
      "--------------------------------------------------------------------------------\n",
      "Mean accuracy score on training set 0.5898617511520737\n",
      "Mean accuracy score on test set 0.5420560747663551\n"
     ]
    },
    {
     "data": {
      "image/png": "[encoded data removed]",
      "text/plain": [
       "<Figure size 432x288 with 2 Axes>"
      ]
     },
     "metadata": {
      "needs_background": "light"
     },
     "output_type": "display_data"
    },
    {
     "name": "stdout",
     "output_type": "stream",
     "text": [
      "              precision    recall  f1-score   support\n",
      "\n",
      "           0       0.43      0.20      0.27        50\n",
      "           1       0.60      0.60      0.60        77\n",
      "           2       0.53      0.69      0.60        87\n",
      "\n",
      "    accuracy                           0.54       214\n",
      "   macro avg       0.52      0.50      0.49       214\n",
      "weighted avg       0.53      0.54      0.52       214\n",
      "\n"
     ]
    }
   ],
   "source": [
    "_ = evaluate_nb(nb_model_2, X_train_2, y_train_2, X_test_2, y_test_2, name=\"Model 2\")"
   ]
  },
  {
   "cell_type": "markdown",
   "id": "e6f3b3ba-62db-4087-a7a0-138ceadce96c",
   "metadata": {
    "jp-MarkdownHeadingCollapsed": true,
    "tags": []
   },
   "source": [
    "#### Evaluation: SVM Model 2"
   ]
  },
  {
   "cell_type": "code",
   "execution_count": 498,
   "id": "4758572f-b6b3-4a8a-8cc5-33b1a8139956",
   "metadata": {},
   "outputs": [
    {
     "data": {
      "text/plain": [
       "{'C': 1, 'gamma': 0.001, 'kernel': 'linear'}"
      ]
     },
     "execution_count": 498,
     "metadata": {},
     "output_type": "execute_result"
    }
   ],
   "source": [
    "best_parameters = scores[3][\"best_params\"]\n",
    "best_parameters"
   ]
  },
  {
   "cell_type": "code",
   "execution_count": 499,
   "id": "4212c08c-0bd1-4efb-aa65-c0b86bcfd1ca",
   "metadata": {},
   "outputs": [
    {
     "data": {
      "text/html": [
       "<style>#sk-container-id-21 {color: black;background-color: white;}#sk-container-id-21 pre{padding: 0;}#sk-container-id-21 div.sk-toggleable {background-color: white;}#sk-container-id-21 label.sk-toggleable__label {cursor: pointer;display: block;width: 100%;margin-bottom: 0;padding: 0.3em;box-sizing: border-box;text-align: center;}#sk-container-id-21 label.sk-toggleable__label-arrow:before {content: \"▸\";float: left;margin-right: 0.25em;color: #696969;}#sk-container-id-21 label.sk-toggleable__label-arrow:hover:before {color: black;}#sk-container-id-21 div.sk-estimator:hover label.sk-toggleable__label-arrow:before {color: black;}#sk-container-id-21 div.sk-toggleable__content {max-height: 0;max-width: 0;overflow: hidden;text-align: left;background-color: #f0f8ff;}#sk-container-id-21 div.sk-toggleable__content pre {margin: 0.2em;color: black;border-radius: 0.25em;background-color: #f0f8ff;}#sk-container-id-21 input.sk-toggleable__control:checked~div.sk-toggleable__content {max-height: 200px;max-width: 100%;overflow: auto;}#sk-container-id-21 input.sk-toggleable__control:checked~label.sk-toggleable__label-arrow:before {content: \"▾\";}#sk-container-id-21 div.sk-estimator input.sk-toggleable__control:checked~label.sk-toggleable__label {background-color: #d4ebff;}#sk-container-id-21 div.sk-label input.sk-toggleable__control:checked~label.sk-toggleable__label {background-color: #d4ebff;}#sk-container-id-21 input.sk-hidden--visually {border: 0;clip: rect(1px 1px 1px 1px);clip: rect(1px, 1px, 1px, 1px);height: 1px;margin: -1px;overflow: hidden;padding: 0;position: absolute;width: 1px;}#sk-container-id-21 div.sk-estimator {font-family: monospace;background-color: #f0f8ff;border: 1px dotted black;border-radius: 0.25em;box-sizing: border-box;margin-bottom: 0.5em;}#sk-container-id-21 div.sk-estimator:hover {background-color: #d4ebff;}#sk-container-id-21 div.sk-parallel-item::after {content: \"\";width: 100%;border-bottom: 1px solid gray;flex-grow: 1;}#sk-container-id-21 div.sk-label:hover label.sk-toggleable__label {background-color: #d4ebff;}#sk-container-id-21 div.sk-serial::before {content: \"\";position: absolute;border-left: 1px solid gray;box-sizing: border-box;top: 0;bottom: 0;left: 50%;z-index: 0;}#sk-container-id-21 div.sk-serial {display: flex;flex-direction: column;align-items: center;background-color: white;padding-right: 0.2em;padding-left: 0.2em;position: relative;}#sk-container-id-21 div.sk-item {position: relative;z-index: 1;}#sk-container-id-21 div.sk-parallel {display: flex;align-items: stretch;justify-content: center;background-color: white;position: relative;}#sk-container-id-21 div.sk-item::before, #sk-container-id-21 div.sk-parallel-item::before {content: \"\";position: absolute;border-left: 1px solid gray;box-sizing: border-box;top: 0;bottom: 0;left: 50%;z-index: -1;}#sk-container-id-21 div.sk-parallel-item {display: flex;flex-direction: column;z-index: 1;position: relative;background-color: white;}#sk-container-id-21 div.sk-parallel-item:first-child::after {align-self: flex-end;width: 50%;}#sk-container-id-21 div.sk-parallel-item:last-child::after {align-self: flex-start;width: 50%;}#sk-container-id-21 div.sk-parallel-item:only-child::after {width: 0;}#sk-container-id-21 div.sk-dashed-wrapped {border: 1px dashed gray;margin: 0 0.4em 0.5em 0.4em;box-sizing: border-box;padding-bottom: 0.4em;background-color: white;}#sk-container-id-21 div.sk-label label {font-family: monospace;font-weight: bold;display: inline-block;line-height: 1.2em;}#sk-container-id-21 div.sk-label-container {text-align: center;}#sk-container-id-21 div.sk-container {/* jupyter's `normalize.less` sets `[hidden] { display: none; }` but bootstrap.min.css set `[hidden] { display: none !important; }` so we also need the `!important` here to be able to override the default hidden behavior on the sphinx rendered scikit-learn.org. See: https://github.com/scikit-learn/scikit-learn/issues/21755 */display: inline-block !important;position: relative;}#sk-container-id-21 div.sk-text-repr-fallback {display: none;}</style><div id=\"sk-container-id-21\" class=\"sk-top-container\"><div class=\"sk-text-repr-fallback\"><pre>SVC(C=1, gamma=0.001, kernel=&#x27;linear&#x27;)</pre><b>In a Jupyter environment, please rerun this cell to show the HTML representation or trust the notebook. <br />On GitHub, the HTML representation is unable to render, please try loading this page with nbviewer.org.</b></div><div class=\"sk-container\" hidden><div class=\"sk-item\"><div class=\"sk-estimator sk-toggleable\"><input class=\"sk-toggleable__control sk-hidden--visually\" id=\"sk-estimator-id-21\" type=\"checkbox\" checked><label for=\"sk-estimator-id-21\" class=\"sk-toggleable__label sk-toggleable__label-arrow\">SVC</label><div class=\"sk-toggleable__content\"><pre>SVC(C=1, gamma=0.001, kernel=&#x27;linear&#x27;)</pre></div></div></div></div></div>"
      ],
      "text/plain": [
       "SVC(C=1, gamma=0.001, kernel='linear')"
      ]
     },
     "execution_count": 499,
     "metadata": {},
     "output_type": "execute_result"
    }
   ],
   "source": [
    "svm_model_2 = SVC(C=best_parameters['C'],\n",
    "                  gamma=best_parameters['gamma'],\n",
    "                  kernel=best_parameters[\"kernel\"])\n",
    "\n",
    "svm_model_2.fit(X_train_2, y_train_2)"
   ]
  },
  {
   "cell_type": "code",
   "execution_count": 500,
   "id": "117655f7-b8f6-4c1f-815f-6f9af97e1a67",
   "metadata": {},
   "outputs": [
    {
     "name": "stdout",
     "output_type": "stream",
     "text": [
      "Evaluation SVM Classifier: Model 2\n",
      "--------------------------------------------------------------------------------\n",
      "Mean accuracy score on training set 0.7350230414746544\n",
      "Mean accuracy score on test set 0.5373831775700935\n"
     ]
    },
    {
     "data": {
      "image/png": "[encoded data removed]",
      "text/plain": [
       "<Figure size 432x288 with 2 Axes>"
      ]
     },
     "metadata": {
      "needs_background": "light"
     },
     "output_type": "display_data"
    },
    {
     "name": "stdout",
     "output_type": "stream",
     "text": [
      "              precision    recall  f1-score   support\n",
      "\n",
      "           0       0.36      0.28      0.31        50\n",
      "           1       0.63      0.64      0.63        77\n",
      "           2       0.54      0.60      0.57        87\n",
      "\n",
      "    accuracy                           0.54       214\n",
      "   macro avg       0.51      0.50      0.50       214\n",
      "weighted avg       0.53      0.54      0.53       214\n",
      "\n"
     ]
    }
   ],
   "source": [
    "_ = evaluate_svm(svm_model_2, X_train_2, y_train_2, X_test_2, y_test_2, name=\"Model 2\")"
   ]
  },
  {
   "cell_type": "markdown",
   "id": "c3e9cb68-74fc-4ffc-934a-7bcb31c4e4f6",
   "metadata": {
    "tags": []
   },
   "source": [
    "### Model 3. simple_features + tfidf"
   ]
  },
  {
   "cell_type": "markdown",
   "id": "62d71f60-f155-4a79-8c0b-5a5f0af09017",
   "metadata": {
    "tags": []
   },
   "source": [
    "#### Training: Model 3"
   ]
  },
  {
   "cell_type": "code",
   "execution_count": 501,
   "id": "79ef5437-3d71-41a4-bfc0-796c107585c4",
   "metadata": {},
   "outputs": [
    {
     "name": "stdout",
     "output_type": "stream",
     "text": [
      "Label mapping {'Future': 0, 'Past': 1, 'Present': 2}\n",
      "Successfully created train and test sets.\n"
     ]
    }
   ],
   "source": [
    "X_3, y_3, X_train_3, y_train_3, X_test_3, y_test_3 = train_test(features_3, \n",
    "                                                                scale_enabled=True, \n",
    "                                                                encode_enabled=True)\n",
    "\n",
    "label_mapping = {'Future': 0, 'Past': 1, 'Present': 2}"
   ]
  },
  {
   "cell_type": "code",
   "execution_count": 502,
   "id": "c0699af3-4b6c-4b85-b62a-a3bf23a915f5",
   "metadata": {
    "scrolled": true,
    "tags": []
   },
   "outputs": [
    {
     "name": "stdout",
     "output_type": "stream",
     "text": [
      "RandomForestClassifier()\n",
      "\n",
      "fitting...\n",
      "Fitting 10 folds for each of 60 candidates, totalling 600 fits\n",
      "\n",
      "score is appended\n",
      "\n",
      "LogisticRegression()\n",
      "\n",
      "fitting...\n",
      "Fitting 10 folds for each of 48 candidates, totalling 480 fits\n"
     ]
    },
    {
     "name": "stderr",
     "output_type": "stream",
     "text": [
      "/Users/gbaldonado/opt/anaconda3/lib/python3.9/site-packages/sklearn/linear_model/_logistic.py:458: ConvergenceWarning: lbfgs failed to converge (status=1):\n",
      "STOP: TOTAL NO. of ITERATIONS REACHED LIMIT.\n",
      "\n",
      "Increase the number of iterations (max_iter) or scale the data as shown in:\n",
      "    https://scikit-learn.org/stable/modules/preprocessing.html\n",
      "Please also refer to the documentation for alternative solver options:\n",
      "    https://scikit-learn.org/stable/modules/linear_model.html#logistic-regression\n",
      "  n_iter_i = _check_optimize_result(\n",
      "/Users/gbaldonado/opt/anaconda3/lib/python3.9/site-packages/sklearn/linear_model/_logistic.py:458: ConvergenceWarning: lbfgs failed to converge (status=1):\n",
      "STOP: TOTAL NO. of ITERATIONS REACHED LIMIT.\n",
      "\n",
      "Increase the number of iterations (max_iter) or scale the data as shown in:\n",
      "    https://scikit-learn.org/stable/modules/preprocessing.html\n",
      "Please also refer to the documentation for alternative solver options:\n",
      "    https://scikit-learn.org/stable/modules/linear_model.html#logistic-regression\n",
      "  n_iter_i = _check_optimize_result(\n",
      "/Users/gbaldonado/opt/anaconda3/lib/python3.9/site-packages/sklearn/linear_model/_logistic.py:458: ConvergenceWarning: lbfgs failed to converge (status=1):\n",
      "STOP: TOTAL NO. of ITERATIONS REACHED LIMIT.\n",
      "\n",
      "Increase the number of iterations (max_iter) or scale the data as shown in:\n",
      "    https://scikit-learn.org/stable/modules/preprocessing.html\n",
      "Please also refer to the documentation for alternative solver options:\n",
      "    https://scikit-learn.org/stable/modules/linear_model.html#logistic-regression\n",
      "  n_iter_i = _check_optimize_result(\n",
      "/Users/gbaldonado/opt/anaconda3/lib/python3.9/site-packages/sklearn/linear_model/_logistic.py:458: ConvergenceWarning: lbfgs failed to converge (status=1):\n",
      "STOP: TOTAL NO. of ITERATIONS REACHED LIMIT.\n",
      "\n",
      "Increase the number of iterations (max_iter) or scale the data as shown in:\n",
      "    https://scikit-learn.org/stable/modules/preprocessing.html\n",
      "Please also refer to the documentation for alternative solver options:\n",
      "    https://scikit-learn.org/stable/modules/linear_model.html#logistic-regression\n",
      "  n_iter_i = _check_optimize_result(\n",
      "/Users/gbaldonado/opt/anaconda3/lib/python3.9/site-packages/sklearn/linear_model/_logistic.py:458: ConvergenceWarning: lbfgs failed to converge (status=1):\n",
      "STOP: TOTAL NO. of ITERATIONS REACHED LIMIT.\n",
      "\n",
      "Increase the number of iterations (max_iter) or scale the data as shown in:\n",
      "    https://scikit-learn.org/stable/modules/preprocessing.html\n",
      "Please also refer to the documentation for alternative solver options:\n",
      "    https://scikit-learn.org/stable/modules/linear_model.html#logistic-regression\n",
      "  n_iter_i = _check_optimize_result(\n",
      "/Users/gbaldonado/opt/anaconda3/lib/python3.9/site-packages/sklearn/linear_model/_logistic.py:458: ConvergenceWarning: lbfgs failed to converge (status=1):\n",
      "STOP: TOTAL NO. of ITERATIONS REACHED LIMIT.\n",
      "\n",
      "Increase the number of iterations (max_iter) or scale the data as shown in:\n",
      "    https://scikit-learn.org/stable/modules/preprocessing.html\n",
      "Please also refer to the documentation for alternative solver options:\n",
      "    https://scikit-learn.org/stable/modules/linear_model.html#logistic-regression\n",
      "  n_iter_i = _check_optimize_result(\n",
      "/Users/gbaldonado/opt/anaconda3/lib/python3.9/site-packages/sklearn/linear_model/_logistic.py:458: ConvergenceWarning: lbfgs failed to converge (status=1):\n",
      "STOP: TOTAL NO. of ITERATIONS REACHED LIMIT.\n",
      "\n",
      "Increase the number of iterations (max_iter) or scale the data as shown in:\n",
      "    https://scikit-learn.org/stable/modules/preprocessing.html\n",
      "Please also refer to the documentation for alternative solver options:\n",
      "    https://scikit-learn.org/stable/modules/linear_model.html#logistic-regression\n",
      "  n_iter_i = _check_optimize_result(\n",
      "/Users/gbaldonado/opt/anaconda3/lib/python3.9/site-packages/sklearn/linear_model/_logistic.py:458: ConvergenceWarning: lbfgs failed to converge (status=1):\n",
      "STOP: TOTAL NO. of ITERATIONS REACHED LIMIT.\n",
      "\n",
      "Increase the number of iterations (max_iter) or scale the data as shown in:\n",
      "    https://scikit-learn.org/stable/modules/preprocessing.html\n",
      "Please also refer to the documentation for alternative solver options:\n",
      "    https://scikit-learn.org/stable/modules/linear_model.html#logistic-regression\n",
      "  n_iter_i = _check_optimize_result(\n",
      "/Users/gbaldonado/opt/anaconda3/lib/python3.9/site-packages/sklearn/linear_model/_logistic.py:458: ConvergenceWarning: lbfgs failed to converge (status=1):\n",
      "STOP: TOTAL NO. of ITERATIONS REACHED LIMIT.\n",
      "\n",
      "Increase the number of iterations (max_iter) or scale the data as shown in:\n",
      "    https://scikit-learn.org/stable/modules/preprocessing.html\n",
      "Please also refer to the documentation for alternative solver options:\n",
      "    https://scikit-learn.org/stable/modules/linear_model.html#logistic-regression\n",
      "  n_iter_i = _check_optimize_result(\n",
      "/Users/gbaldonado/opt/anaconda3/lib/python3.9/site-packages/sklearn/linear_model/_logistic.py:458: ConvergenceWarning: lbfgs failed to converge (status=1):\n",
      "STOP: TOTAL NO. of ITERATIONS REACHED LIMIT.\n",
      "\n",
      "Increase the number of iterations (max_iter) or scale the data as shown in:\n",
      "    https://scikit-learn.org/stable/modules/preprocessing.html\n",
      "Please also refer to the documentation for alternative solver options:\n",
      "    https://scikit-learn.org/stable/modules/linear_model.html#logistic-regression\n",
      "  n_iter_i = _check_optimize_result(\n",
      "/Users/gbaldonado/opt/anaconda3/lib/python3.9/site-packages/sklearn/model_selection/_validation.py:378: FitFailedWarning: \n",
      "120 fits failed out of a total of 480.\n",
      "The score on these train-test partitions for these parameters will be set to nan.\n",
      "If these failures are not expected, you can try to debug them by setting error_score='raise'.\n",
      "\n",
      "Below are more details about the failures:\n",
      "--------------------------------------------------------------------------------\n",
      "120 fits failed with the following error:\n",
      "Traceback (most recent call last):\n",
      "  File \"/Users/gbaldonado/opt/anaconda3/lib/python3.9/site-packages/sklearn/model_selection/_validation.py\", line 686, in _fit_and_score\n",
      "    estimator.fit(X_train, y_train, **fit_params)\n",
      "  File \"/Users/gbaldonado/opt/anaconda3/lib/python3.9/site-packages/sklearn/linear_model/_logistic.py\", line 1162, in fit\n",
      "    solver = _check_solver(self.solver, self.penalty, self.dual)\n",
      "  File \"/Users/gbaldonado/opt/anaconda3/lib/python3.9/site-packages/sklearn/linear_model/_logistic.py\", line 54, in _check_solver\n",
      "    raise ValueError(\n",
      "ValueError: Solver lbfgs supports only 'l2' or 'none' penalties, got l1 penalty.\n",
      "\n",
      "  warnings.warn(some_fits_failed_message, FitFailedWarning)\n",
      "/Users/gbaldonado/opt/anaconda3/lib/python3.9/site-packages/sklearn/model_selection/_search.py:953: UserWarning: One or more of the test scores are non-finite: [       nan 0.47484355 0.54272068 0.53305653        nan 0.47484355\n",
      " 0.54272068 0.53305653        nan 0.47484355 0.54272068 0.53305653\n",
      "        nan 0.61302592 0.63049237 0.61960966        nan 0.61302592\n",
      " 0.63049237 0.61960966        nan 0.61302592 0.63049237 0.61960966\n",
      "        nan 0.64399653 0.64555644 0.63377926        nan 0.64399653\n",
      " 0.64555644 0.63377926        nan 0.64399653 0.64555644 0.63377926\n",
      "        nan 0.65290069 0.64531801 0.65702163        nan 0.65290069\n",
      " 0.64531801 0.65702163        nan 0.65290069 0.64531801 0.65702163]\n",
      "  warnings.warn(\n"
     ]
    },
    {
     "name": "stdout",
     "output_type": "stream",
     "text": [
      "\n",
      "score is appended\n",
      "\n",
      "MultinomialNB()\n",
      "\n",
      "fitting...\n",
      "Fitting 10 folds for each of 12 candidates, totalling 120 fits\n",
      "\n",
      "score is appended\n",
      "\n",
      "SVC()\n",
      "\n",
      "fitting...\n",
      "Fitting 10 folds for each of 16 candidates, totalling 160 fits\n",
      "\n",
      "score is appended\n",
      "\n"
     ]
    }
   ],
   "source": [
    "scores = []\n",
    "\n",
    "for model_name, mp in model_params.items():\n",
    "    clf = GridSearchCV(mp['model'], mp['params'], scoring=\"f1_weighted\", cv = 10, n_jobs=-1, verbose=1)\n",
    "    \n",
    "    print(mp['model'])\n",
    "    print('\\nfitting...')\n",
    "    clf.fit(X_train_3, y_train_3)\n",
    "    scores.append({\n",
    "        'model' : model_name,\n",
    "        'best_score' : clf.best_score_,\n",
    "        'best_params' : clf.best_params_\n",
    "    })\n",
    "    print('\\nscore is appended\\n')"
   ]
  },
  {
   "cell_type": "code",
   "execution_count": 503,
   "id": "aa192694-9526-4fac-aaa2-ee1f65190c91",
   "metadata": {},
   "outputs": [
    {
     "data": {
      "text/plain": [
       "[{'model': 'random_forest',\n",
       "  'best_score': 0.5820750056301696,\n",
       "  'best_params': {'max_features': 4,\n",
       "   'min_samples_leaf': 1,\n",
       "   'n_estimators': 500}},\n",
       " {'model': 'logistics_regression',\n",
       "  'best_score': 0.6570216284880572,\n",
       "  'best_params': {'C': 100,\n",
       "   'max_iter': 200,\n",
       "   'penalty': 'l2',\n",
       "   'solver': 'liblinear'}},\n",
       " {'model': 'MultinomialNB',\n",
       "  'best_score': 0.6486571873057152,\n",
       "  'best_params': {'alpha': 0.5, 'fit_prior': False}},\n",
       " {'model': 'SVM',\n",
       "  'best_score': 0.6388402087754717,\n",
       "  'best_params': {'C': 10, 'gamma': 0.001, 'kernel': 'linear'}}]"
      ]
     },
     "execution_count": 503,
     "metadata": {},
     "output_type": "execute_result"
    }
   ],
   "source": [
    "scores"
   ]
  },
  {
   "cell_type": "markdown",
   "id": "5b0282ed-708d-4622-aaf5-a612b5e5a5a6",
   "metadata": {
    "jp-MarkdownHeadingCollapsed": true,
    "tags": []
   },
   "source": [
    "#### Evaluation: Random Forest Model 3"
   ]
  },
  {
   "cell_type": "code",
   "execution_count": 504,
   "id": "07459847-f5c3-4a12-8cf6-82c12b0c8d19",
   "metadata": {},
   "outputs": [
    {
     "data": {
      "text/plain": [
       "{'max_features': 4, 'min_samples_leaf': 1, 'n_estimators': 500}"
      ]
     },
     "execution_count": 504,
     "metadata": {},
     "output_type": "execute_result"
    }
   ],
   "source": [
    "best_parameters = scores[0][\"best_params\"]\n",
    "best_parameters"
   ]
  },
  {
   "cell_type": "code",
   "execution_count": 506,
   "id": "692e15f7-1daf-46f2-b1a0-3e55ce82b825",
   "metadata": {},
   "outputs": [
    {
     "data": {
      "text/html": [
       "<style>#sk-container-id-23 {color: black;background-color: white;}#sk-container-id-23 pre{padding: 0;}#sk-container-id-23 div.sk-toggleable {background-color: white;}#sk-container-id-23 label.sk-toggleable__label {cursor: pointer;display: block;width: 100%;margin-bottom: 0;padding: 0.3em;box-sizing: border-box;text-align: center;}#sk-container-id-23 label.sk-toggleable__label-arrow:before {content: \"▸\";float: left;margin-right: 0.25em;color: #696969;}#sk-container-id-23 label.sk-toggleable__label-arrow:hover:before {color: black;}#sk-container-id-23 div.sk-estimator:hover label.sk-toggleable__label-arrow:before {color: black;}#sk-container-id-23 div.sk-toggleable__content {max-height: 0;max-width: 0;overflow: hidden;text-align: left;background-color: #f0f8ff;}#sk-container-id-23 div.sk-toggleable__content pre {margin: 0.2em;color: black;border-radius: 0.25em;background-color: #f0f8ff;}#sk-container-id-23 input.sk-toggleable__control:checked~div.sk-toggleable__content {max-height: 200px;max-width: 100%;overflow: auto;}#sk-container-id-23 input.sk-toggleable__control:checked~label.sk-toggleable__label-arrow:before {content: \"▾\";}#sk-container-id-23 div.sk-estimator input.sk-toggleable__control:checked~label.sk-toggleable__label {background-color: #d4ebff;}#sk-container-id-23 div.sk-label input.sk-toggleable__control:checked~label.sk-toggleable__label {background-color: #d4ebff;}#sk-container-id-23 input.sk-hidden--visually {border: 0;clip: rect(1px 1px 1px 1px);clip: rect(1px, 1px, 1px, 1px);height: 1px;margin: -1px;overflow: hidden;padding: 0;position: absolute;width: 1px;}#sk-container-id-23 div.sk-estimator {font-family: monospace;background-color: #f0f8ff;border: 1px dotted black;border-radius: 0.25em;box-sizing: border-box;margin-bottom: 0.5em;}#sk-container-id-23 div.sk-estimator:hover {background-color: #d4ebff;}#sk-container-id-23 div.sk-parallel-item::after {content: \"\";width: 100%;border-bottom: 1px solid gray;flex-grow: 1;}#sk-container-id-23 div.sk-label:hover label.sk-toggleable__label {background-color: #d4ebff;}#sk-container-id-23 div.sk-serial::before {content: \"\";position: absolute;border-left: 1px solid gray;box-sizing: border-box;top: 0;bottom: 0;left: 50%;z-index: 0;}#sk-container-id-23 div.sk-serial {display: flex;flex-direction: column;align-items: center;background-color: white;padding-right: 0.2em;padding-left: 0.2em;position: relative;}#sk-container-id-23 div.sk-item {position: relative;z-index: 1;}#sk-container-id-23 div.sk-parallel {display: flex;align-items: stretch;justify-content: center;background-color: white;position: relative;}#sk-container-id-23 div.sk-item::before, #sk-container-id-23 div.sk-parallel-item::before {content: \"\";position: absolute;border-left: 1px solid gray;box-sizing: border-box;top: 0;bottom: 0;left: 50%;z-index: -1;}#sk-container-id-23 div.sk-parallel-item {display: flex;flex-direction: column;z-index: 1;position: relative;background-color: white;}#sk-container-id-23 div.sk-parallel-item:first-child::after {align-self: flex-end;width: 50%;}#sk-container-id-23 div.sk-parallel-item:last-child::after {align-self: flex-start;width: 50%;}#sk-container-id-23 div.sk-parallel-item:only-child::after {width: 0;}#sk-container-id-23 div.sk-dashed-wrapped {border: 1px dashed gray;margin: 0 0.4em 0.5em 0.4em;box-sizing: border-box;padding-bottom: 0.4em;background-color: white;}#sk-container-id-23 div.sk-label label {font-family: monospace;font-weight: bold;display: inline-block;line-height: 1.2em;}#sk-container-id-23 div.sk-label-container {text-align: center;}#sk-container-id-23 div.sk-container {/* jupyter's `normalize.less` sets `[hidden] { display: none; }` but bootstrap.min.css set `[hidden] { display: none !important; }` so we also need the `!important` here to be able to override the default hidden behavior on the sphinx rendered scikit-learn.org. See: https://github.com/scikit-learn/scikit-learn/issues/21755 */display: inline-block !important;position: relative;}#sk-container-id-23 div.sk-text-repr-fallback {display: none;}</style><div id=\"sk-container-id-23\" class=\"sk-top-container\"><div class=\"sk-text-repr-fallback\"><pre>RandomForestClassifier(max_features=4, n_estimators=500, random_state=18)</pre><b>In a Jupyter environment, please rerun this cell to show the HTML representation or trust the notebook. <br />On GitHub, the HTML representation is unable to render, please try loading this page with nbviewer.org.</b></div><div class=\"sk-container\" hidden><div class=\"sk-item\"><div class=\"sk-estimator sk-toggleable\"><input class=\"sk-toggleable__control sk-hidden--visually\" id=\"sk-estimator-id-23\" type=\"checkbox\" checked><label for=\"sk-estimator-id-23\" class=\"sk-toggleable__label sk-toggleable__label-arrow\">RandomForestClassifier</label><div class=\"sk-toggleable__content\"><pre>RandomForestClassifier(max_features=4, n_estimators=500, random_state=18)</pre></div></div></div></div></div>"
      ],
      "text/plain": [
       "RandomForestClassifier(max_features=4, n_estimators=500, random_state=18)"
      ]
     },
     "execution_count": 506,
     "metadata": {},
     "output_type": "execute_result"
    }
   ],
   "source": [
    "rf_model_3 = RandomForestClassifier(random_state=18,\n",
    "                                    max_features=best_parameters['max_features'],\n",
    "                                    min_samples_leaf=best_parameters['min_samples_leaf'],\n",
    "                                    n_estimators=best_parameters['n_estimators'])\n",
    "\n",
    "rf_model_3.fit(X_train_3, y_train_3)"
   ]
  },
  {
   "cell_type": "code",
   "execution_count": 507,
   "id": "2ddc6770-93ec-4b64-9b1a-93945953242f",
   "metadata": {},
   "outputs": [
    {
     "name": "stdout",
     "output_type": "stream",
     "text": [
      "Evaluation Random Forest Classifier: Model 3\n",
      "--------------------------------------------------------------------------------\n",
      "Mean accuracy score on training set 1.0\n",
      "Mean accuracy score on test set 0.5233644859813084\n"
     ]
    },
    {
     "data": {
      "image/png": "[encoded data removed]",
      "text/plain": [
       "<Figure size 432x288 with 2 Axes>"
      ]
     },
     "metadata": {
      "needs_background": "light"
     },
     "output_type": "display_data"
    },
    {
     "name": "stdout",
     "output_type": "stream",
     "text": [
      "              precision    recall  f1-score   support\n",
      "\n",
      "           0       0.56      0.20      0.29        50\n",
      "           1       0.56      0.57      0.57        77\n",
      "           2       0.49      0.67      0.57        87\n",
      "\n",
      "    accuracy                           0.52       214\n",
      "   macro avg       0.54      0.48      0.48       214\n",
      "weighted avg       0.53      0.52      0.50       214\n",
      "\n"
     ]
    }
   ],
   "source": [
    "_ = evaluate_random_forest(rf_model_3, X_train_3, y_train_3, X_test_3, y_test_3, name=\"Model 3\")"
   ]
  },
  {
   "cell_type": "markdown",
   "id": "c2370dc6-d434-4e80-a084-56cc9e3f5146",
   "metadata": {
    "jp-MarkdownHeadingCollapsed": true,
    "tags": []
   },
   "source": [
    "#### Evaluation: Logistic Regression Model 3"
   ]
  },
  {
   "cell_type": "code",
   "execution_count": 508,
   "id": "255611e9-3c29-4934-98f1-72bcacbc1200",
   "metadata": {},
   "outputs": [
    {
     "data": {
      "text/plain": [
       "{'C': 100, 'max_iter': 200, 'penalty': 'l2', 'solver': 'liblinear'}"
      ]
     },
     "execution_count": 508,
     "metadata": {},
     "output_type": "execute_result"
    }
   ],
   "source": [
    "best_parameters = scores[1][\"best_params\"]\n",
    "best_parameters"
   ]
  },
  {
   "cell_type": "code",
   "execution_count": 509,
   "id": "76f4b761-6694-47bb-96b0-693749c02c40",
   "metadata": {},
   "outputs": [
    {
     "data": {
      "text/html": [
       "<style>#sk-container-id-24 {color: black;background-color: white;}#sk-container-id-24 pre{padding: 0;}#sk-container-id-24 div.sk-toggleable {background-color: white;}#sk-container-id-24 label.sk-toggleable__label {cursor: pointer;display: block;width: 100%;margin-bottom: 0;padding: 0.3em;box-sizing: border-box;text-align: center;}#sk-container-id-24 label.sk-toggleable__label-arrow:before {content: \"▸\";float: left;margin-right: 0.25em;color: #696969;}#sk-container-id-24 label.sk-toggleable__label-arrow:hover:before {color: black;}#sk-container-id-24 div.sk-estimator:hover label.sk-toggleable__label-arrow:before {color: black;}#sk-container-id-24 div.sk-toggleable__content {max-height: 0;max-width: 0;overflow: hidden;text-align: left;background-color: #f0f8ff;}#sk-container-id-24 div.sk-toggleable__content pre {margin: 0.2em;color: black;border-radius: 0.25em;background-color: #f0f8ff;}#sk-container-id-24 input.sk-toggleable__control:checked~div.sk-toggleable__content {max-height: 200px;max-width: 100%;overflow: auto;}#sk-container-id-24 input.sk-toggleable__control:checked~label.sk-toggleable__label-arrow:before {content: \"▾\";}#sk-container-id-24 div.sk-estimator input.sk-toggleable__control:checked~label.sk-toggleable__label {background-color: #d4ebff;}#sk-container-id-24 div.sk-label input.sk-toggleable__control:checked~label.sk-toggleable__label {background-color: #d4ebff;}#sk-container-id-24 input.sk-hidden--visually {border: 0;clip: rect(1px 1px 1px 1px);clip: rect(1px, 1px, 1px, 1px);height: 1px;margin: -1px;overflow: hidden;padding: 0;position: absolute;width: 1px;}#sk-container-id-24 div.sk-estimator {font-family: monospace;background-color: #f0f8ff;border: 1px dotted black;border-radius: 0.25em;box-sizing: border-box;margin-bottom: 0.5em;}#sk-container-id-24 div.sk-estimator:hover {background-color: #d4ebff;}#sk-container-id-24 div.sk-parallel-item::after {content: \"\";width: 100%;border-bottom: 1px solid gray;flex-grow: 1;}#sk-container-id-24 div.sk-label:hover label.sk-toggleable__label {background-color: #d4ebff;}#sk-container-id-24 div.sk-serial::before {content: \"\";position: absolute;border-left: 1px solid gray;box-sizing: border-box;top: 0;bottom: 0;left: 50%;z-index: 0;}#sk-container-id-24 div.sk-serial {display: flex;flex-direction: column;align-items: center;background-color: white;padding-right: 0.2em;padding-left: 0.2em;position: relative;}#sk-container-id-24 div.sk-item {position: relative;z-index: 1;}#sk-container-id-24 div.sk-parallel {display: flex;align-items: stretch;justify-content: center;background-color: white;position: relative;}#sk-container-id-24 div.sk-item::before, #sk-container-id-24 div.sk-parallel-item::before {content: \"\";position: absolute;border-left: 1px solid gray;box-sizing: border-box;top: 0;bottom: 0;left: 50%;z-index: -1;}#sk-container-id-24 div.sk-parallel-item {display: flex;flex-direction: column;z-index: 1;position: relative;background-color: white;}#sk-container-id-24 div.sk-parallel-item:first-child::after {align-self: flex-end;width: 50%;}#sk-container-id-24 div.sk-parallel-item:last-child::after {align-self: flex-start;width: 50%;}#sk-container-id-24 div.sk-parallel-item:only-child::after {width: 0;}#sk-container-id-24 div.sk-dashed-wrapped {border: 1px dashed gray;margin: 0 0.4em 0.5em 0.4em;box-sizing: border-box;padding-bottom: 0.4em;background-color: white;}#sk-container-id-24 div.sk-label label {font-family: monospace;font-weight: bold;display: inline-block;line-height: 1.2em;}#sk-container-id-24 div.sk-label-container {text-align: center;}#sk-container-id-24 div.sk-container {/* jupyter's `normalize.less` sets `[hidden] { display: none; }` but bootstrap.min.css set `[hidden] { display: none !important; }` so we also need the `!important` here to be able to override the default hidden behavior on the sphinx rendered scikit-learn.org. See: https://github.com/scikit-learn/scikit-learn/issues/21755 */display: inline-block !important;position: relative;}#sk-container-id-24 div.sk-text-repr-fallback {display: none;}</style><div id=\"sk-container-id-24\" class=\"sk-top-container\"><div class=\"sk-text-repr-fallback\"><pre>LogisticRegression(C=100, max_iter=200, random_state=18, solver=&#x27;liblinear&#x27;)</pre><b>In a Jupyter environment, please rerun this cell to show the HTML representation or trust the notebook. <br />On GitHub, the HTML representation is unable to render, please try loading this page with nbviewer.org.</b></div><div class=\"sk-container\" hidden><div class=\"sk-item\"><div class=\"sk-estimator sk-toggleable\"><input class=\"sk-toggleable__control sk-hidden--visually\" id=\"sk-estimator-id-24\" type=\"checkbox\" checked><label for=\"sk-estimator-id-24\" class=\"sk-toggleable__label sk-toggleable__label-arrow\">LogisticRegression</label><div class=\"sk-toggleable__content\"><pre>LogisticRegression(C=100, max_iter=200, random_state=18, solver=&#x27;liblinear&#x27;)</pre></div></div></div></div></div>"
      ],
      "text/plain": [
       "LogisticRegression(C=100, max_iter=200, random_state=18, solver='liblinear')"
      ]
     },
     "execution_count": 509,
     "metadata": {},
     "output_type": "execute_result"
    }
   ],
   "source": [
    "lr_model_3 = LogisticRegression(random_state=18,\n",
    "                                C=best_parameters['C'],\n",
    "                                solver=best_parameters['solver'],\n",
    "                                max_iter=best_parameters['max_iter'],\n",
    "                                penalty=best_parameters['penalty'])\n",
    "\n",
    "lr_model_3.fit(X_train_3, y_train_3)"
   ]
  },
  {
   "cell_type": "code",
   "execution_count": 510,
   "id": "f338b321-c68c-48f3-9feb-6d6618ccc8be",
   "metadata": {},
   "outputs": [
    {
     "name": "stdout",
     "output_type": "stream",
     "text": [
      "Evaluation Logistic Regression Classifier: Model 3\n",
      "--------------------------------------------------------------------------------\n",
      "Mean accuracy score on training set 0.7304147465437788\n",
      "Mean accuracy score on test set 0.5327102803738317\n"
     ]
    },
    {
     "data": {
      "image/png": "[encoded data removed]",
      "text/plain": [
       "<Figure size 432x288 with 2 Axes>"
      ]
     },
     "metadata": {
      "needs_background": "light"
     },
     "output_type": "display_data"
    },
    {
     "name": "stdout",
     "output_type": "stream",
     "text": [
      "              precision    recall  f1-score   support\n",
      "\n",
      "           0       0.58      0.38      0.46        50\n",
      "           1       0.57      0.53      0.55        77\n",
      "           2       0.50      0.62      0.55        87\n",
      "\n",
      "    accuracy                           0.53       214\n",
      "   macro avg       0.55      0.51      0.52       214\n",
      "weighted avg       0.54      0.53      0.53       214\n",
      "\n"
     ]
    }
   ],
   "source": [
    "_ = evaluate_lr(lr_model_3, X_train_3, y_train_3, X_test_3, y_test_3, name=\"Model 3\")"
   ]
  },
  {
   "cell_type": "markdown",
   "id": "086fdfa2-0977-4a98-ac05-18d5146b1692",
   "metadata": {
    "jp-MarkdownHeadingCollapsed": true,
    "tags": []
   },
   "source": [
    "#### Evaluation: Naive Bayes Model 3"
   ]
  },
  {
   "cell_type": "code",
   "execution_count": 511,
   "id": "4e606fcb-d0d9-40d2-8633-b2208ab9debf",
   "metadata": {},
   "outputs": [
    {
     "data": {
      "text/plain": [
       "{'alpha': 0.5, 'fit_prior': False}"
      ]
     },
     "execution_count": 511,
     "metadata": {},
     "output_type": "execute_result"
    }
   ],
   "source": [
    "best_parameters = scores[2][\"best_params\"]\n",
    "best_parameters"
   ]
  },
  {
   "cell_type": "code",
   "execution_count": 512,
   "id": "e394915a-b3ab-4436-9dc8-454c91d758fc",
   "metadata": {
    "scrolled": true,
    "tags": []
   },
   "outputs": [
    {
     "data": {
      "text/html": [
       "<style>#sk-container-id-25 {color: black;background-color: white;}#sk-container-id-25 pre{padding: 0;}#sk-container-id-25 div.sk-toggleable {background-color: white;}#sk-container-id-25 label.sk-toggleable__label {cursor: pointer;display: block;width: 100%;margin-bottom: 0;padding: 0.3em;box-sizing: border-box;text-align: center;}#sk-container-id-25 label.sk-toggleable__label-arrow:before {content: \"▸\";float: left;margin-right: 0.25em;color: #696969;}#sk-container-id-25 label.sk-toggleable__label-arrow:hover:before {color: black;}#sk-container-id-25 div.sk-estimator:hover label.sk-toggleable__label-arrow:before {color: black;}#sk-container-id-25 div.sk-toggleable__content {max-height: 0;max-width: 0;overflow: hidden;text-align: left;background-color: #f0f8ff;}#sk-container-id-25 div.sk-toggleable__content pre {margin: 0.2em;color: black;border-radius: 0.25em;background-color: #f0f8ff;}#sk-container-id-25 input.sk-toggleable__control:checked~div.sk-toggleable__content {max-height: 200px;max-width: 100%;overflow: auto;}#sk-container-id-25 input.sk-toggleable__control:checked~label.sk-toggleable__label-arrow:before {content: \"▾\";}#sk-container-id-25 div.sk-estimator input.sk-toggleable__control:checked~label.sk-toggleable__label {background-color: #d4ebff;}#sk-container-id-25 div.sk-label input.sk-toggleable__control:checked~label.sk-toggleable__label {background-color: #d4ebff;}#sk-container-id-25 input.sk-hidden--visually {border: 0;clip: rect(1px 1px 1px 1px);clip: rect(1px, 1px, 1px, 1px);height: 1px;margin: -1px;overflow: hidden;padding: 0;position: absolute;width: 1px;}#sk-container-id-25 div.sk-estimator {font-family: monospace;background-color: #f0f8ff;border: 1px dotted black;border-radius: 0.25em;box-sizing: border-box;margin-bottom: 0.5em;}#sk-container-id-25 div.sk-estimator:hover {background-color: #d4ebff;}#sk-container-id-25 div.sk-parallel-item::after {content: \"\";width: 100%;border-bottom: 1px solid gray;flex-grow: 1;}#sk-container-id-25 div.sk-label:hover label.sk-toggleable__label {background-color: #d4ebff;}#sk-container-id-25 div.sk-serial::before {content: \"\";position: absolute;border-left: 1px solid gray;box-sizing: border-box;top: 0;bottom: 0;left: 50%;z-index: 0;}#sk-container-id-25 div.sk-serial {display: flex;flex-direction: column;align-items: center;background-color: white;padding-right: 0.2em;padding-left: 0.2em;position: relative;}#sk-container-id-25 div.sk-item {position: relative;z-index: 1;}#sk-container-id-25 div.sk-parallel {display: flex;align-items: stretch;justify-content: center;background-color: white;position: relative;}#sk-container-id-25 div.sk-item::before, #sk-container-id-25 div.sk-parallel-item::before {content: \"\";position: absolute;border-left: 1px solid gray;box-sizing: border-box;top: 0;bottom: 0;left: 50%;z-index: -1;}#sk-container-id-25 div.sk-parallel-item {display: flex;flex-direction: column;z-index: 1;position: relative;background-color: white;}#sk-container-id-25 div.sk-parallel-item:first-child::after {align-self: flex-end;width: 50%;}#sk-container-id-25 div.sk-parallel-item:last-child::after {align-self: flex-start;width: 50%;}#sk-container-id-25 div.sk-parallel-item:only-child::after {width: 0;}#sk-container-id-25 div.sk-dashed-wrapped {border: 1px dashed gray;margin: 0 0.4em 0.5em 0.4em;box-sizing: border-box;padding-bottom: 0.4em;background-color: white;}#sk-container-id-25 div.sk-label label {font-family: monospace;font-weight: bold;display: inline-block;line-height: 1.2em;}#sk-container-id-25 div.sk-label-container {text-align: center;}#sk-container-id-25 div.sk-container {/* jupyter's `normalize.less` sets `[hidden] { display: none; }` but bootstrap.min.css set `[hidden] { display: none !important; }` so we also need the `!important` here to be able to override the default hidden behavior on the sphinx rendered scikit-learn.org. See: https://github.com/scikit-learn/scikit-learn/issues/21755 */display: inline-block !important;position: relative;}#sk-container-id-25 div.sk-text-repr-fallback {display: none;}</style><div id=\"sk-container-id-25\" class=\"sk-top-container\"><div class=\"sk-text-repr-fallback\"><pre>MultinomialNB(alpha=0.5, fit_prior=False)</pre><b>In a Jupyter environment, please rerun this cell to show the HTML representation or trust the notebook. <br />On GitHub, the HTML representation is unable to render, please try loading this page with nbviewer.org.</b></div><div class=\"sk-container\" hidden><div class=\"sk-item\"><div class=\"sk-estimator sk-toggleable\"><input class=\"sk-toggleable__control sk-hidden--visually\" id=\"sk-estimator-id-25\" type=\"checkbox\" checked><label for=\"sk-estimator-id-25\" class=\"sk-toggleable__label sk-toggleable__label-arrow\">MultinomialNB</label><div class=\"sk-toggleable__content\"><pre>MultinomialNB(alpha=0.5, fit_prior=False)</pre></div></div></div></div></div>"
      ],
      "text/plain": [
       "MultinomialNB(alpha=0.5, fit_prior=False)"
      ]
     },
     "execution_count": 512,
     "metadata": {},
     "output_type": "execute_result"
    }
   ],
   "source": [
    "nb_model_3 = MultinomialNB(alpha=best_parameters['alpha'],\n",
    "                           fit_prior=best_parameters[\"fit_prior\"])\n",
    "\n",
    "nb_model_3.fit(X_train_3, y_train_3)"
   ]
  },
  {
   "cell_type": "code",
   "execution_count": 513,
   "id": "cd9fda97-6775-43c9-b054-54263788ac1b",
   "metadata": {},
   "outputs": [
    {
     "name": "stdout",
     "output_type": "stream",
     "text": [
      "Evaluation Naive Bayes Classifier: Model 3\n",
      "--------------------------------------------------------------------------------\n",
      "Mean accuracy score on training set 0.684331797235023\n",
      "Mean accuracy score on test set 0.5700934579439252\n"
     ]
    },
    {
     "data": {
      "image/png": "[encoded data removed]",
      "text/plain": [
       "<Figure size 432x288 with 2 Axes>"
      ]
     },
     "metadata": {
      "needs_background": "light"
     },
     "output_type": "display_data"
    },
    {
     "name": "stdout",
     "output_type": "stream",
     "text": [
      "              precision    recall  f1-score   support\n",
      "\n",
      "           0       0.61      0.44      0.51        50\n",
      "           1       0.63      0.62      0.63        77\n",
      "           2       0.51      0.60      0.55        87\n",
      "\n",
      "    accuracy                           0.57       214\n",
      "   macro avg       0.58      0.55      0.56       214\n",
      "weighted avg       0.58      0.57      0.57       214\n",
      "\n"
     ]
    }
   ],
   "source": [
    "_ = evaluate_nb(nb_model_3, X_train_3, y_train_3, X_test_3, y_test_3, name=\"Model 3\")"
   ]
  },
  {
   "cell_type": "markdown",
   "id": "d3ff81cb-8d62-4590-b936-bb957362dc8a",
   "metadata": {
    "jp-MarkdownHeadingCollapsed": true,
    "tags": []
   },
   "source": [
    "#### Evaluation: SVM Model 3"
   ]
  },
  {
   "cell_type": "code",
   "execution_count": 514,
   "id": "1b10d719-ba67-4594-ad15-779a6a7f566b",
   "metadata": {},
   "outputs": [
    {
     "data": {
      "text/plain": [
       "{'C': 10, 'gamma': 0.001, 'kernel': 'linear'}"
      ]
     },
     "execution_count": 514,
     "metadata": {},
     "output_type": "execute_result"
    }
   ],
   "source": [
    "best_parameters = scores[3][\"best_params\"]\n",
    "best_parameters"
   ]
  },
  {
   "cell_type": "code",
   "execution_count": 515,
   "id": "6b76f084-7a4b-4976-9d98-c149861179a4",
   "metadata": {},
   "outputs": [
    {
     "data": {
      "text/html": [
       "<style>#sk-container-id-26 {color: black;background-color: white;}#sk-container-id-26 pre{padding: 0;}#sk-container-id-26 div.sk-toggleable {background-color: white;}#sk-container-id-26 label.sk-toggleable__label {cursor: pointer;display: block;width: 100%;margin-bottom: 0;padding: 0.3em;box-sizing: border-box;text-align: center;}#sk-container-id-26 label.sk-toggleable__label-arrow:before {content: \"▸\";float: left;margin-right: 0.25em;color: #696969;}#sk-container-id-26 label.sk-toggleable__label-arrow:hover:before {color: black;}#sk-container-id-26 div.sk-estimator:hover label.sk-toggleable__label-arrow:before {color: black;}#sk-container-id-26 div.sk-toggleable__content {max-height: 0;max-width: 0;overflow: hidden;text-align: left;background-color: #f0f8ff;}#sk-container-id-26 div.sk-toggleable__content pre {margin: 0.2em;color: black;border-radius: 0.25em;background-color: #f0f8ff;}#sk-container-id-26 input.sk-toggleable__control:checked~div.sk-toggleable__content {max-height: 200px;max-width: 100%;overflow: auto;}#sk-container-id-26 input.sk-toggleable__control:checked~label.sk-toggleable__label-arrow:before {content: \"▾\";}#sk-container-id-26 div.sk-estimator input.sk-toggleable__control:checked~label.sk-toggleable__label {background-color: #d4ebff;}#sk-container-id-26 div.sk-label input.sk-toggleable__control:checked~label.sk-toggleable__label {background-color: #d4ebff;}#sk-container-id-26 input.sk-hidden--visually {border: 0;clip: rect(1px 1px 1px 1px);clip: rect(1px, 1px, 1px, 1px);height: 1px;margin: -1px;overflow: hidden;padding: 0;position: absolute;width: 1px;}#sk-container-id-26 div.sk-estimator {font-family: monospace;background-color: #f0f8ff;border: 1px dotted black;border-radius: 0.25em;box-sizing: border-box;margin-bottom: 0.5em;}#sk-container-id-26 div.sk-estimator:hover {background-color: #d4ebff;}#sk-container-id-26 div.sk-parallel-item::after {content: \"\";width: 100%;border-bottom: 1px solid gray;flex-grow: 1;}#sk-container-id-26 div.sk-label:hover label.sk-toggleable__label {background-color: #d4ebff;}#sk-container-id-26 div.sk-serial::before {content: \"\";position: absolute;border-left: 1px solid gray;box-sizing: border-box;top: 0;bottom: 0;left: 50%;z-index: 0;}#sk-container-id-26 div.sk-serial {display: flex;flex-direction: column;align-items: center;background-color: white;padding-right: 0.2em;padding-left: 0.2em;position: relative;}#sk-container-id-26 div.sk-item {position: relative;z-index: 1;}#sk-container-id-26 div.sk-parallel {display: flex;align-items: stretch;justify-content: center;background-color: white;position: relative;}#sk-container-id-26 div.sk-item::before, #sk-container-id-26 div.sk-parallel-item::before {content: \"\";position: absolute;border-left: 1px solid gray;box-sizing: border-box;top: 0;bottom: 0;left: 50%;z-index: -1;}#sk-container-id-26 div.sk-parallel-item {display: flex;flex-direction: column;z-index: 1;position: relative;background-color: white;}#sk-container-id-26 div.sk-parallel-item:first-child::after {align-self: flex-end;width: 50%;}#sk-container-id-26 div.sk-parallel-item:last-child::after {align-self: flex-start;width: 50%;}#sk-container-id-26 div.sk-parallel-item:only-child::after {width: 0;}#sk-container-id-26 div.sk-dashed-wrapped {border: 1px dashed gray;margin: 0 0.4em 0.5em 0.4em;box-sizing: border-box;padding-bottom: 0.4em;background-color: white;}#sk-container-id-26 div.sk-label label {font-family: monospace;font-weight: bold;display: inline-block;line-height: 1.2em;}#sk-container-id-26 div.sk-label-container {text-align: center;}#sk-container-id-26 div.sk-container {/* jupyter's `normalize.less` sets `[hidden] { display: none; }` but bootstrap.min.css set `[hidden] { display: none !important; }` so we also need the `!important` here to be able to override the default hidden behavior on the sphinx rendered scikit-learn.org. See: https://github.com/scikit-learn/scikit-learn/issues/21755 */display: inline-block !important;position: relative;}#sk-container-id-26 div.sk-text-repr-fallback {display: none;}</style><div id=\"sk-container-id-26\" class=\"sk-top-container\"><div class=\"sk-text-repr-fallback\"><pre>SVC(C=10, gamma=0.001, kernel=&#x27;linear&#x27;)</pre><b>In a Jupyter environment, please rerun this cell to show the HTML representation or trust the notebook. <br />On GitHub, the HTML representation is unable to render, please try loading this page with nbviewer.org.</b></div><div class=\"sk-container\" hidden><div class=\"sk-item\"><div class=\"sk-estimator sk-toggleable\"><input class=\"sk-toggleable__control sk-hidden--visually\" id=\"sk-estimator-id-26\" type=\"checkbox\" checked><label for=\"sk-estimator-id-26\" class=\"sk-toggleable__label sk-toggleable__label-arrow\">SVC</label><div class=\"sk-toggleable__content\"><pre>SVC(C=10, gamma=0.001, kernel=&#x27;linear&#x27;)</pre></div></div></div></div></div>"
      ],
      "text/plain": [
       "SVC(C=10, gamma=0.001, kernel='linear')"
      ]
     },
     "execution_count": 515,
     "metadata": {},
     "output_type": "execute_result"
    }
   ],
   "source": [
    "svm_model_3 = SVC(C=best_parameters['C'],\n",
    "                  gamma=best_parameters['gamma'],\n",
    "                  kernel=best_parameters[\"kernel\"])\n",
    "\n",
    "svm_model_3.fit(X_train_3, y_train_3)"
   ]
  },
  {
   "cell_type": "code",
   "execution_count": 516,
   "id": "855d54d2-76f1-4131-bf51-420eb21918b9",
   "metadata": {},
   "outputs": [
    {
     "name": "stdout",
     "output_type": "stream",
     "text": [
      "Evaluation SVM Classifier: Model 3\n",
      "--------------------------------------------------------------------------------\n",
      "Mean accuracy score on training set 0.7142857142857143\n",
      "Mean accuracy score on test set 0.5327102803738317\n"
     ]
    },
    {
     "data": {
      "image/png": "[encoded data removed]",
      "text/plain": [
       "<Figure size 432x288 with 2 Axes>"
      ]
     },
     "metadata": {
      "needs_background": "light"
     },
     "output_type": "display_data"
    },
    {
     "name": "stdout",
     "output_type": "stream",
     "text": [
      "              precision    recall  f1-score   support\n",
      "\n",
      "           0       0.52      0.34      0.41        50\n",
      "           1       0.59      0.52      0.55        77\n",
      "           2       0.50      0.66      0.57        87\n",
      "\n",
      "    accuracy                           0.53       214\n",
      "   macro avg       0.54      0.50      0.51       214\n",
      "weighted avg       0.54      0.53      0.53       214\n",
      "\n"
     ]
    }
   ],
   "source": [
    "_ = evaluate_svm(svm_model_3, X_train_3, y_train_3, X_test_3, y_test_3, name=\"Model 3\")"
   ]
  },
  {
   "cell_type": "markdown",
   "id": "4c74e6f4-a683-4db1-a893-fc713d85b072",
   "metadata": {},
   "source": [
    "### Model Comparisons"
   ]
  },
  {
   "cell_type": "markdown",
   "id": "bd641205-953a-4228-a0b3-8e800996ed12",
   "metadata": {},
   "source": [
    "## Evaluation of Naive Bayes Model 1"
   ]
  },
  {
   "cell_type": "code",
   "execution_count": 552,
   "id": "98f4d8f9-64de-45b4-ba14-146bd3f9253a",
   "metadata": {},
   "outputs": [],
   "source": [
    "def get_X_with_doc(engineered_df, scale_enabled=False, encode_enabled=False):\n",
    "    y = engineered_df[\"label\"]\n",
    "    X = engineered_df.drop(columns=[\"label\"], axis=1)\n",
    "   \n",
    "    \n",
    "    if scale_enabled == True:\n",
    "        X = scale(X)\n",
    "        \n",
    "            \n",
    "    if encode_enabled == True:\n",
    "        encoded_df = encode_categorical_feat(engineered_df)\n",
    "        y = encoded_df[\"label\"]\n",
    "        \n",
    "    X_train, X_test, y_train, y_test = train_test_split(X, y, test_size = 0.33, random_state=42)\n",
    "\n",
    "    X_train.reset_index(inplace=True, drop=True)\n",
    "    X_test.reset_index(inplace=True, drop=True)\n",
    "    y_train.reset_index(inplace=True, drop=True)\n",
    "    y_test.reset_index(inplace=True, drop=True)\n",
    "    \n",
    "    print(\"Successfully created train and test sets.\")\n",
    "    \n",
    "    return X, y, X_train, y_train, X_test, y_test"
   ]
  },
  {
   "cell_type": "code",
   "execution_count": 554,
   "id": "79c2b90b-7dce-43eb-9d71-fd9e9117ab4d",
   "metadata": {},
   "outputs": [
    {
     "name": "stdout",
     "output_type": "stream",
     "text": [
      "Label mapping {'Future': 0, 'Past': 1, 'Present': 2}\n",
      "Successfully created train and test sets.\n"
     ]
    }
   ],
   "source": [
    "_, _, _, _, X_test_with_doc, y_test_with_doc = get_X_with_doc(features_1, \n",
    "                                                                scale_enabled=False, \n",
    "                                                                encode_enabled=True)\n",
    "\n",
    "label_mapping = {'Future': 0, 'Past': 1, 'Present': 2}"
   ]
  },
  {
   "cell_type": "code",
   "execution_count": 556,
   "id": "0b8c81b8-5222-46c8-a612-2e5c0d727741",
   "metadata": {},
   "outputs": [
    {
     "data": {
      "text/html": [
       "<div>\n",
       "<style scoped>\n",
       "    .dataframe tbody tr th:only-of-type {\n",
       "        vertical-align: middle;\n",
       "    }\n",
       "\n",
       "    .dataframe tbody tr th {\n",
       "        vertical-align: top;\n",
       "    }\n",
       "\n",
       "    .dataframe thead th {\n",
       "        text-align: right;\n",
       "    }\n",
       "</style>\n",
       "<table border=\"1\" class=\"dataframe\">\n",
       "  <thead>\n",
       "    <tr style=\"text-align: right;\">\n",
       "      <th></th>\n",
       "      <th>neg_polarity</th>\n",
       "      <th>neu_polarity</th>\n",
       "      <th>pos_polarity</th>\n",
       "      <th>com_polarity</th>\n",
       "      <th>subjectivity</th>\n",
       "      <th>count_time_expressions</th>\n",
       "      <th>futuristic</th>\n",
       "      <th>past</th>\n",
       "      <th>past present</th>\n",
       "      <th>present</th>\n",
       "      <th>...</th>\n",
       "      <th>embedding290</th>\n",
       "      <th>embedding291</th>\n",
       "      <th>embedding292</th>\n",
       "      <th>embedding293</th>\n",
       "      <th>embedding294</th>\n",
       "      <th>embedding295</th>\n",
       "      <th>embedding296</th>\n",
       "      <th>embedding297</th>\n",
       "      <th>embedding298</th>\n",
       "      <th>embedding299</th>\n",
       "    </tr>\n",
       "  </thead>\n",
       "  <tbody>\n",
       "    <tr>\n",
       "      <th>0</th>\n",
       "      <td>0.307400</td>\n",
       "      <td>0.728950</td>\n",
       "      <td>0.085352</td>\n",
       "      <td>0.264005</td>\n",
       "      <td>0.00</td>\n",
       "      <td>0.000</td>\n",
       "      <td>0.0</td>\n",
       "      <td>0.000000</td>\n",
       "      <td>0.0</td>\n",
       "      <td>0.50</td>\n",
       "      <td>...</td>\n",
       "      <td>0.763950</td>\n",
       "      <td>0.576698</td>\n",
       "      <td>0.897735</td>\n",
       "      <td>0.390377</td>\n",
       "      <td>0.260326</td>\n",
       "      <td>0.463392</td>\n",
       "      <td>1.000000</td>\n",
       "      <td>0.756953</td>\n",
       "      <td>0.907270</td>\n",
       "      <td>0.386956</td>\n",
       "    </tr>\n",
       "    <tr>\n",
       "      <th>1</th>\n",
       "      <td>0.263757</td>\n",
       "      <td>0.584775</td>\n",
       "      <td>0.254902</td>\n",
       "      <td>0.742180</td>\n",
       "      <td>0.46</td>\n",
       "      <td>0.000</td>\n",
       "      <td>0.0</td>\n",
       "      <td>0.000000</td>\n",
       "      <td>0.5</td>\n",
       "      <td>0.25</td>\n",
       "      <td>...</td>\n",
       "      <td>0.454210</td>\n",
       "      <td>0.715203</td>\n",
       "      <td>0.843966</td>\n",
       "      <td>0.539755</td>\n",
       "      <td>0.413912</td>\n",
       "      <td>0.387817</td>\n",
       "      <td>0.503503</td>\n",
       "      <td>0.617838</td>\n",
       "      <td>0.547666</td>\n",
       "      <td>0.540980</td>\n",
       "    </tr>\n",
       "    <tr>\n",
       "      <th>2</th>\n",
       "      <td>0.455408</td>\n",
       "      <td>0.600923</td>\n",
       "      <td>0.122261</td>\n",
       "      <td>0.110560</td>\n",
       "      <td>0.65</td>\n",
       "      <td>0.000</td>\n",
       "      <td>0.0</td>\n",
       "      <td>0.000000</td>\n",
       "      <td>0.0</td>\n",
       "      <td>0.00</td>\n",
       "      <td>...</td>\n",
       "      <td>0.558538</td>\n",
       "      <td>0.680168</td>\n",
       "      <td>0.742005</td>\n",
       "      <td>0.316647</td>\n",
       "      <td>0.297040</td>\n",
       "      <td>0.340007</td>\n",
       "      <td>0.660401</td>\n",
       "      <td>0.788009</td>\n",
       "      <td>0.766425</td>\n",
       "      <td>0.485186</td>\n",
       "    </tr>\n",
       "    <tr>\n",
       "      <th>3</th>\n",
       "      <td>0.406072</td>\n",
       "      <td>0.753172</td>\n",
       "      <td>0.000000</td>\n",
       "      <td>0.050245</td>\n",
       "      <td>0.90</td>\n",
       "      <td>0.000</td>\n",
       "      <td>0.0</td>\n",
       "      <td>0.000000</td>\n",
       "      <td>0.0</td>\n",
       "      <td>0.25</td>\n",
       "      <td>...</td>\n",
       "      <td>0.455896</td>\n",
       "      <td>0.541494</td>\n",
       "      <td>0.765572</td>\n",
       "      <td>0.646354</td>\n",
       "      <td>0.402356</td>\n",
       "      <td>0.495549</td>\n",
       "      <td>0.442337</td>\n",
       "      <td>0.649946</td>\n",
       "      <td>0.662880</td>\n",
       "      <td>0.400131</td>\n",
       "    </tr>\n",
       "    <tr>\n",
       "      <th>4</th>\n",
       "      <td>0.000000</td>\n",
       "      <td>0.866205</td>\n",
       "      <td>0.133795</td>\n",
       "      <td>0.683143</td>\n",
       "      <td>0.20</td>\n",
       "      <td>0.125</td>\n",
       "      <td>0.0</td>\n",
       "      <td>0.000000</td>\n",
       "      <td>0.0</td>\n",
       "      <td>0.00</td>\n",
       "      <td>...</td>\n",
       "      <td>0.385843</td>\n",
       "      <td>0.814044</td>\n",
       "      <td>0.515469</td>\n",
       "      <td>0.436891</td>\n",
       "      <td>0.331671</td>\n",
       "      <td>0.388559</td>\n",
       "      <td>0.458484</td>\n",
       "      <td>0.649551</td>\n",
       "      <td>0.689748</td>\n",
       "      <td>0.170818</td>\n",
       "    </tr>\n",
       "    <tr>\n",
       "      <th>...</th>\n",
       "      <td>...</td>\n",
       "      <td>...</td>\n",
       "      <td>...</td>\n",
       "      <td>...</td>\n",
       "      <td>...</td>\n",
       "      <td>...</td>\n",
       "      <td>...</td>\n",
       "      <td>...</td>\n",
       "      <td>...</td>\n",
       "      <td>...</td>\n",
       "      <td>...</td>\n",
       "      <td>...</td>\n",
       "      <td>...</td>\n",
       "      <td>...</td>\n",
       "      <td>...</td>\n",
       "      <td>...</td>\n",
       "      <td>...</td>\n",
       "      <td>...</td>\n",
       "      <td>...</td>\n",
       "      <td>...</td>\n",
       "      <td>...</td>\n",
       "    </tr>\n",
       "    <tr>\n",
       "      <th>209</th>\n",
       "      <td>0.223909</td>\n",
       "      <td>0.672434</td>\n",
       "      <td>0.191465</td>\n",
       "      <td>0.724647</td>\n",
       "      <td>0.62</td>\n",
       "      <td>0.125</td>\n",
       "      <td>0.0</td>\n",
       "      <td>0.000000</td>\n",
       "      <td>0.0</td>\n",
       "      <td>0.00</td>\n",
       "      <td>...</td>\n",
       "      <td>0.630939</td>\n",
       "      <td>0.497310</td>\n",
       "      <td>0.628571</td>\n",
       "      <td>0.670241</td>\n",
       "      <td>0.325391</td>\n",
       "      <td>0.387110</td>\n",
       "      <td>0.308294</td>\n",
       "      <td>0.270096</td>\n",
       "      <td>0.411011</td>\n",
       "      <td>0.309678</td>\n",
       "    </tr>\n",
       "    <tr>\n",
       "      <th>210</th>\n",
       "      <td>0.407970</td>\n",
       "      <td>0.752018</td>\n",
       "      <td>0.000000</td>\n",
       "      <td>0.166990</td>\n",
       "      <td>0.47</td>\n",
       "      <td>0.000</td>\n",
       "      <td>0.0</td>\n",
       "      <td>0.000000</td>\n",
       "      <td>0.0</td>\n",
       "      <td>0.00</td>\n",
       "      <td>...</td>\n",
       "      <td>0.697264</td>\n",
       "      <td>0.277027</td>\n",
       "      <td>0.711209</td>\n",
       "      <td>0.661242</td>\n",
       "      <td>0.421567</td>\n",
       "      <td>0.337944</td>\n",
       "      <td>0.509100</td>\n",
       "      <td>0.471885</td>\n",
       "      <td>0.483475</td>\n",
       "      <td>0.435514</td>\n",
       "    </tr>\n",
       "    <tr>\n",
       "      <th>211</th>\n",
       "      <td>0.096774</td>\n",
       "      <td>0.791234</td>\n",
       "      <td>0.149942</td>\n",
       "      <td>0.759507</td>\n",
       "      <td>0.35</td>\n",
       "      <td>0.000</td>\n",
       "      <td>0.0</td>\n",
       "      <td>0.000000</td>\n",
       "      <td>0.0</td>\n",
       "      <td>0.00</td>\n",
       "      <td>...</td>\n",
       "      <td>0.554114</td>\n",
       "      <td>0.754004</td>\n",
       "      <td>0.787653</td>\n",
       "      <td>0.555313</td>\n",
       "      <td>0.536286</td>\n",
       "      <td>0.310352</td>\n",
       "      <td>0.363030</td>\n",
       "      <td>0.616450</td>\n",
       "      <td>0.507549</td>\n",
       "      <td>0.522771</td>\n",
       "    </tr>\n",
       "    <tr>\n",
       "      <th>212</th>\n",
       "      <td>0.392789</td>\n",
       "      <td>0.580161</td>\n",
       "      <td>0.181084</td>\n",
       "      <td>0.150020</td>\n",
       "      <td>0.69</td>\n",
       "      <td>0.250</td>\n",
       "      <td>0.0</td>\n",
       "      <td>0.333333</td>\n",
       "      <td>0.0</td>\n",
       "      <td>0.50</td>\n",
       "      <td>...</td>\n",
       "      <td>0.652300</td>\n",
       "      <td>0.443528</td>\n",
       "      <td>0.507832</td>\n",
       "      <td>0.552640</td>\n",
       "      <td>0.354213</td>\n",
       "      <td>0.439058</td>\n",
       "      <td>0.735641</td>\n",
       "      <td>0.479633</td>\n",
       "      <td>0.427507</td>\n",
       "      <td>0.177447</td>\n",
       "    </tr>\n",
       "    <tr>\n",
       "      <th>213</th>\n",
       "      <td>0.000000</td>\n",
       "      <td>1.000000</td>\n",
       "      <td>0.000000</td>\n",
       "      <td>0.498518</td>\n",
       "      <td>0.00</td>\n",
       "      <td>0.000</td>\n",
       "      <td>0.0</td>\n",
       "      <td>0.000000</td>\n",
       "      <td>0.0</td>\n",
       "      <td>0.00</td>\n",
       "      <td>...</td>\n",
       "      <td>1.000000</td>\n",
       "      <td>0.031117</td>\n",
       "      <td>0.849583</td>\n",
       "      <td>0.366401</td>\n",
       "      <td>0.163108</td>\n",
       "      <td>0.282718</td>\n",
       "      <td>0.447227</td>\n",
       "      <td>0.269778</td>\n",
       "      <td>0.592266</td>\n",
       "      <td>0.627483</td>\n",
       "    </tr>\n",
       "  </tbody>\n",
       "</table>\n",
       "<p>214 rows × 367 columns</p>\n",
       "</div>"
      ],
      "text/plain": [
       "     neg_polarity  neu_polarity  pos_polarity  com_polarity  subjectivity  \\\n",
       "0        0.307400      0.728950      0.085352      0.264005          0.00   \n",
       "1        0.263757      0.584775      0.254902      0.742180          0.46   \n",
       "2        0.455408      0.600923      0.122261      0.110560          0.65   \n",
       "3        0.406072      0.753172      0.000000      0.050245          0.90   \n",
       "4        0.000000      0.866205      0.133795      0.683143          0.20   \n",
       "..            ...           ...           ...           ...           ...   \n",
       "209      0.223909      0.672434      0.191465      0.724647          0.62   \n",
       "210      0.407970      0.752018      0.000000      0.166990          0.47   \n",
       "211      0.096774      0.791234      0.149942      0.759507          0.35   \n",
       "212      0.392789      0.580161      0.181084      0.150020          0.69   \n",
       "213      0.000000      1.000000      0.000000      0.498518          0.00   \n",
       "\n",
       "     count_time_expressions  futuristic      past  past present  present  ...  \\\n",
       "0                     0.000         0.0  0.000000           0.0     0.50  ...   \n",
       "1                     0.000         0.0  0.000000           0.5     0.25  ...   \n",
       "2                     0.000         0.0  0.000000           0.0     0.00  ...   \n",
       "3                     0.000         0.0  0.000000           0.0     0.25  ...   \n",
       "4                     0.125         0.0  0.000000           0.0     0.00  ...   \n",
       "..                      ...         ...       ...           ...      ...  ...   \n",
       "209                   0.125         0.0  0.000000           0.0     0.00  ...   \n",
       "210                   0.000         0.0  0.000000           0.0     0.00  ...   \n",
       "211                   0.000         0.0  0.000000           0.0     0.00  ...   \n",
       "212                   0.250         0.0  0.333333           0.0     0.50  ...   \n",
       "213                   0.000         0.0  0.000000           0.0     0.00  ...   \n",
       "\n",
       "     embedding290  embedding291  embedding292  embedding293  embedding294  \\\n",
       "0        0.763950      0.576698      0.897735      0.390377      0.260326   \n",
       "1        0.454210      0.715203      0.843966      0.539755      0.413912   \n",
       "2        0.558538      0.680168      0.742005      0.316647      0.297040   \n",
       "3        0.455896      0.541494      0.765572      0.646354      0.402356   \n",
       "4        0.385843      0.814044      0.515469      0.436891      0.331671   \n",
       "..            ...           ...           ...           ...           ...   \n",
       "209      0.630939      0.497310      0.628571      0.670241      0.325391   \n",
       "210      0.697264      0.277027      0.711209      0.661242      0.421567   \n",
       "211      0.554114      0.754004      0.787653      0.555313      0.536286   \n",
       "212      0.652300      0.443528      0.507832      0.552640      0.354213   \n",
       "213      1.000000      0.031117      0.849583      0.366401      0.163108   \n",
       "\n",
       "     embedding295  embedding296  embedding297  embedding298  embedding299  \n",
       "0        0.463392      1.000000      0.756953      0.907270      0.386956  \n",
       "1        0.387817      0.503503      0.617838      0.547666      0.540980  \n",
       "2        0.340007      0.660401      0.788009      0.766425      0.485186  \n",
       "3        0.495549      0.442337      0.649946      0.662880      0.400131  \n",
       "4        0.388559      0.458484      0.649551      0.689748      0.170818  \n",
       "..            ...           ...           ...           ...           ...  \n",
       "209      0.387110      0.308294      0.270096      0.411011      0.309678  \n",
       "210      0.337944      0.509100      0.471885      0.483475      0.435514  \n",
       "211      0.310352      0.363030      0.616450      0.507549      0.522771  \n",
       "212      0.439058      0.735641      0.479633      0.427507      0.177447  \n",
       "213      0.282718      0.447227      0.269778      0.592266      0.627483  \n",
       "\n",
       "[214 rows x 367 columns]"
      ]
     },
     "execution_count": 556,
     "metadata": {},
     "output_type": "execute_result"
    }
   ],
   "source": [
    "X_test_1"
   ]
  },
  {
   "cell_type": "code",
   "execution_count": 548,
   "id": "c0f6f920-c7b3-46ec-a65e-50f80c8b5529",
   "metadata": {},
   "outputs": [
    {
     "name": "stdout",
     "output_type": "stream",
     "text": [
      "Evaluation Naive Bayes Classifier: Model 1\n",
      "--------------------------------------------------------------------------------\n",
      "Mean accuracy score on training set 0.6912442396313364\n",
      "Mean accuracy score on test set 0.5887850467289719\n"
     ]
    },
    {
     "data": {
      "image/png": "[encoded data removed]",
      "text/plain": [
       "<Figure size 432x288 with 2 Axes>"
      ]
     },
     "metadata": {
      "needs_background": "light"
     },
     "output_type": "display_data"
    },
    {
     "name": "stdout",
     "output_type": "stream",
     "text": [
      "              precision    recall  f1-score   support\n",
      "\n",
      "           0       0.53      0.50      0.52        50\n",
      "           1       0.64      0.65      0.65        77\n",
      "           2       0.57      0.59      0.58        87\n",
      "\n",
      "    accuracy                           0.59       214\n",
      "   macro avg       0.58      0.58      0.58       214\n",
      "weighted avg       0.59      0.59      0.59       214\n",
      "\n"
     ]
    }
   ],
   "source": [
    "y_pred = evaluate_nb(nb_model_1, X_train_1, y_train_1, X_test_1, y_test_1, name=\"Model 1\")"
   ]
  },
  {
   "cell_type": "code",
   "execution_count": 558,
   "id": "2a68dc4e-98ed-4452-a08d-1123b29aa05c",
   "metadata": {},
   "outputs": [],
   "source": [
    "def get_result_frames(prediction, ground_truth):\n",
    "    results = {\"doc\": X_test_with_doc[\"doc\"], \"clean\": X_test_with_doc[\"clean\"], \"tokens\": X_test_with_doc[\"tokens\"], \"prediction\": prediction, \"ground_truth\": ground_truth}\n",
    "    results = pd.DataFrame(results)\n",
    "    \n",
    "    return results\n"
   ]
  },
  {
   "cell_type": "code",
   "execution_count": 562,
   "id": "bf1688d3-a409-407f-9e95-0094ef87c42d",
   "metadata": {
    "scrolled": true,
    "tags": []
   },
   "outputs": [
    {
     "data": {
      "text/html": [
       "<div>\n",
       "<style scoped>\n",
       "    .dataframe tbody tr th:only-of-type {\n",
       "        vertical-align: middle;\n",
       "    }\n",
       "\n",
       "    .dataframe tbody tr th {\n",
       "        vertical-align: top;\n",
       "    }\n",
       "\n",
       "    .dataframe thead th {\n",
       "        text-align: right;\n",
       "    }\n",
       "</style>\n",
       "<table border=\"1\" class=\"dataframe\">\n",
       "  <thead>\n",
       "    <tr style=\"text-align: right;\">\n",
       "      <th></th>\n",
       "      <th>doc</th>\n",
       "      <th>clean</th>\n",
       "      <th>tokens</th>\n",
       "      <th>prediction</th>\n",
       "      <th>ground_truth</th>\n",
       "    </tr>\n",
       "  </thead>\n",
       "  <tbody>\n",
       "    <tr>\n",
       "      <th>0</th>\n",
       "      <td>It will be just don’t use any substance I learned I even abused weed if that makes sense, I would let it control me just like opiates. Because I have no self control</td>\n",
       "      <td>will be just dont use any substance learned even abused weed if makes sense would let control just like opiates because have no self control</td>\n",
       "      <td>[will, be, just, dont, use, any, substance, learned, even, abused, weed, if, makes, sense, would, let, control, just, like, opiates, because, have, no, self, control]</td>\n",
       "      <td>0</td>\n",
       "      <td>0</td>\n",
       "    </tr>\n",
       "    <tr>\n",
       "      <th>1</th>\n",
       "      <td>You dont need to feel guilt or shame. You turned that stuff down. Good job. You're still early in the ballgame. Cravings are normal and natural. They'll get better.</td>\n",
       "      <td>dont need to feel guilt or shame turned stuff down good job are still early in the ballgame cravings are normal and natural will get better</td>\n",
       "      <td>[dont, need, to, feel, guilt, or, shame, turned, stuff, down, good, job, are, still, early, in, the, ballgame, cravings, are, normal, and, natural, will, get, better]</td>\n",
       "      <td>2</td>\n",
       "      <td>1</td>\n",
       "    </tr>\n",
       "    <tr>\n",
       "      <th>2</th>\n",
       "      <td>I want to go do this but I’m so self conscious cause I would have no idea what to do when I got into a gym. Like what exercises to do without looking like an idiot</td>\n",
       "      <td>want to go do but im so self conscious cause would have no idea to do when got into a gym like exercises to do without looking like an idiot</td>\n",
       "      <td>[want, to, go, do, but, im, so, self, conscious, cause, would, have, no, idea, to, do, when, got, into, a, gym, like, exercises, to, do, without, looking, like, an, idiot]</td>\n",
       "      <td>0</td>\n",
       "      <td>0</td>\n",
       "    </tr>\n",
       "    <tr>\n",
       "      <th>3</th>\n",
       "      <td>Do you think it helped rather than jumping off from the start? I know it will be painful either way but I think I might not do it just so I can avoid felling shitty for longer and get the acute withdrawals over with.</td>\n",
       "      <td>do think helped rather than jumping off from the start know will be painful either way but think might not do just so can avoid felling shitty for longer and get the acute withdrawals over with</td>\n",
       "      <td>[do, think, helped, rather, than, jumping, off, from, the, start, know, will, be, painful, either, way, but, think, might, not, do, just, so, can, avoid, felling, shitty, for, longer, and, get, the, acute, withdrawals, over, with]</td>\n",
       "      <td>0</td>\n",
       "      <td>0</td>\n",
       "    </tr>\n",
       "    <tr>\n",
       "      <th>4</th>\n",
       "      <td>Day 6 being sober \\n\\nIt feels like cocaine. I got so much power I don’t know what to do. Gonna hit the gym 💪</td>\n",
       "      <td>day 6 being sober feels like cocaine got so much power dont know to do gonna hit the gym</td>\n",
       "      <td>[day, 6, being, sober, feels, like, cocaine, got, so, much, power, dont, know, to, do, gonna, hit, the, gym]</td>\n",
       "      <td>2</td>\n",
       "      <td>2</td>\n",
       "    </tr>\n",
       "    <tr>\n",
       "      <th>...</th>\n",
       "      <td>...</td>\n",
       "      <td>...</td>\n",
       "      <td>...</td>\n",
       "      <td>...</td>\n",
       "      <td>...</td>\n",
       "    </tr>\n",
       "    <tr>\n",
       "      <th>209</th>\n",
       "      <td>i’m glad you were found and made it, for the sake of not only you but your loved ones as well. he’s the second person in my life that i’ve lost to a fent overdose this year and seeing the impact it’s had on everyone has been very disheartening</td>\n",
       "      <td>im glad were found and made for the sake of not only but loved ones as well hes the second person in life ive lost to a fent overdose year and seeing the impact had on everyone has been very disheartening</td>\n",
       "      <td>[im, glad, were, found, and, made, for, the, sake, of, not, only, but, loved, ones, as, well, hes, the, second, person, in, life, ive, lost, to, a, fent, overdose, year, and, seeing, the, impact, had, on, everyone, has, been, very, disheartening]</td>\n",
       "      <td>1</td>\n",
       "      <td>1</td>\n",
       "    </tr>\n",
       "    <tr>\n",
       "      <th>210</th>\n",
       "      <td>I'm right there with you. I also have a mortgage pay and 2 young children to provide for.. no time for rehab. Gotta keep grinding or I'll lose everything..</td>\n",
       "      <td>am right there with also have a mortgage pay and 2 young children to provide for no time for rehab gotta keep grinding or will lose everything</td>\n",
       "      <td>[am, right, there, with, also, have, a, mortgage, pay, and, 2, young, children, to, provide, for, no, time, for, rehab, gotta, keep, grinding, or, will, lose, everything]</td>\n",
       "      <td>2</td>\n",
       "      <td>0</td>\n",
       "    </tr>\n",
       "    <tr>\n",
       "      <th>211</th>\n",
       "      <td>Yes. I’m miserable without drugs. I can stay sober for x amount of time but will always go back. 12 steps promising a spiritual experience and a new mindset and way of life. Drugs are but a symptom of our spiritual sickness.</td>\n",
       "      <td>yes im miserable without drugs can stay sober for x amount of time but will always go back 12 steps promising a spiritual experience and a new mindset and way of life drugs are but a symptom of spiritual sickness</td>\n",
       "      <td>[yes, im, miserable, without, drugs, can, stay, sober, for, x, amount, of, time, but, will, always, go, back, 12, steps, promising, a, spiritual, experience, and, a, new, mindset, and, way, of, life, drugs, are, but, a, symptom, of, spiritual, sickness]</td>\n",
       "      <td>2</td>\n",
       "      <td>2</td>\n",
       "    </tr>\n",
       "    <tr>\n",
       "      <th>212</th>\n",
       "      <td>Okay well I guess I'll have to take imodium then, I just had another bad one lol but at least cramps are gone for now. Wdym you felt sick for six months? As in you felt like vomitting or often fell ill?</td>\n",
       "      <td>okay well guess will have to take imodium then just had another bad one lol but at least cramps are gone for now wdym felt sick for six months as in felt like vomitting or often fell ill</td>\n",
       "      <td>[okay, well, guess, will, have, to, take, imodium, then, just, had, another, bad, one, lol, but, at, least, cramps, are, gone, for, now, wdym, felt, sick, for, six, months, as, in, felt, like, vomitting, or, often, fell, ill]</td>\n",
       "      <td>1</td>\n",
       "      <td>0</td>\n",
       "    </tr>\n",
       "    <tr>\n",
       "      <th>213</th>\n",
       "      <td>I’m off a percocet I’m itching👨🏽‍🍳</td>\n",
       "      <td>im off a percocet im itching</td>\n",
       "      <td>[im, off, a, percocet, im, itching]</td>\n",
       "      <td>2</td>\n",
       "      <td>2</td>\n",
       "    </tr>\n",
       "  </tbody>\n",
       "</table>\n",
       "<p>214 rows × 5 columns</p>\n",
       "</div>"
      ],
      "text/plain": [
       "                                                                                                                                                                                                                                                     doc  \\\n",
       "0                                                                                  It will be just don’t use any substance I learned I even abused weed if that makes sense, I would let it control me just like opiates. Because I have no self control   \n",
       "1                                                                                   You dont need to feel guilt or shame. You turned that stuff down. Good job. You're still early in the ballgame. Cravings are normal and natural. They'll get better.   \n",
       "2                                                                                    I want to go do this but I’m so self conscious cause I would have no idea what to do when I got into a gym. Like what exercises to do without looking like an idiot   \n",
       "3                               Do you think it helped rather than jumping off from the start? I know it will be painful either way but I think I might not do it just so I can avoid felling shitty for longer and get the acute withdrawals over with.   \n",
       "4                                                                                                                                          Day 6 being sober \\n\\nIt feels like cocaine. I got so much power I don’t know what to do. Gonna hit the gym 💪   \n",
       "..                                                                                                                                                                                                                                                   ...   \n",
       "209  i’m glad you were found and made it, for the sake of not only you but your loved ones as well. he’s the second person in my life that i’ve lost to a fent overdose this year and seeing the impact it’s had on everyone has been very disheartening   \n",
       "210                                                                                          I'm right there with you. I also have a mortgage pay and 2 young children to provide for.. no time for rehab. Gotta keep grinding or I'll lose everything..   \n",
       "211                     Yes. I’m miserable without drugs. I can stay sober for x amount of time but will always go back. 12 steps promising a spiritual experience and a new mindset and way of life. Drugs are but a symptom of our spiritual sickness.   \n",
       "212                                           Okay well I guess I'll have to take imodium then, I just had another bad one lol but at least cramps are gone for now. Wdym you felt sick for six months? As in you felt like vomitting or often fell ill?   \n",
       "213                                                                                                                                                                                                                   I’m off a percocet I’m itching👨🏽‍🍳   \n",
       "\n",
       "                                                                                                                                                                                                                    clean  \\\n",
       "0                                                                            will be just dont use any substance learned even abused weed if makes sense would let control just like opiates because have no self control   \n",
       "1                                                                             dont need to feel guilt or shame turned stuff down good job are still early in the ballgame cravings are normal and natural will get better   \n",
       "2                                                                            want to go do but im so self conscious cause would have no idea to do when got into a gym like exercises to do without looking like an idiot   \n",
       "3                       do think helped rather than jumping off from the start know will be painful either way but think might not do just so can avoid felling shitty for longer and get the acute withdrawals over with   \n",
       "4                                                                                                                                day 6 being sober feels like cocaine got so much power dont know to do gonna hit the gym   \n",
       "..                                                                                                                                                                                                                    ...   \n",
       "209          im glad were found and made for the sake of not only but loved ones as well hes the second person in life ive lost to a fent overdose year and seeing the impact had on everyone has been very disheartening   \n",
       "210                                                                        am right there with also have a mortgage pay and 2 young children to provide for no time for rehab gotta keep grinding or will lose everything   \n",
       "211  yes im miserable without drugs can stay sober for x amount of time but will always go back 12 steps promising a spiritual experience and a new mindset and way of life drugs are but a symptom of spiritual sickness   \n",
       "212                            okay well guess will have to take imodium then just had another bad one lol but at least cramps are gone for now wdym felt sick for six months as in felt like vomitting or often fell ill   \n",
       "213                                                                                                                                                                                          im off a percocet im itching   \n",
       "\n",
       "                                                                                                                                                                                                                                                            tokens  \\\n",
       "0                                                                                           [will, be, just, dont, use, any, substance, learned, even, abused, weed, if, makes, sense, would, let, control, just, like, opiates, because, have, no, self, control]   \n",
       "1                                                                                           [dont, need, to, feel, guilt, or, shame, turned, stuff, down, good, job, are, still, early, in, the, ballgame, cravings, are, normal, and, natural, will, get, better]   \n",
       "2                                                                                      [want, to, go, do, but, im, so, self, conscious, cause, would, have, no, idea, to, do, when, got, into, a, gym, like, exercises, to, do, without, looking, like, an, idiot]   \n",
       "3                           [do, think, helped, rather, than, jumping, off, from, the, start, know, will, be, painful, either, way, but, think, might, not, do, just, so, can, avoid, felling, shitty, for, longer, and, get, the, acute, withdrawals, over, with]   \n",
       "4                                                                                                                                                     [day, 6, being, sober, feels, like, cocaine, got, so, much, power, dont, know, to, do, gonna, hit, the, gym]   \n",
       "..                                                                                                                                                                                                                                                             ...   \n",
       "209         [im, glad, were, found, and, made, for, the, sake, of, not, only, but, loved, ones, as, well, hes, the, second, person, in, life, ive, lost, to, a, fent, overdose, year, and, seeing, the, impact, had, on, everyone, has, been, very, disheartening]   \n",
       "210                                                                                     [am, right, there, with, also, have, a, mortgage, pay, and, 2, young, children, to, provide, for, no, time, for, rehab, gotta, keep, grinding, or, will, lose, everything]   \n",
       "211  [yes, im, miserable, without, drugs, can, stay, sober, for, x, amount, of, time, but, will, always, go, back, 12, steps, promising, a, spiritual, experience, and, a, new, mindset, and, way, of, life, drugs, are, but, a, symptom, of, spiritual, sickness]   \n",
       "212                              [okay, well, guess, will, have, to, take, imodium, then, just, had, another, bad, one, lol, but, at, least, cramps, are, gone, for, now, wdym, felt, sick, for, six, months, as, in, felt, like, vomitting, or, often, fell, ill]   \n",
       "213                                                                                                                                                                                                                            [im, off, a, percocet, im, itching]   \n",
       "\n",
       "     prediction  ground_truth  \n",
       "0             0             0  \n",
       "1             2             1  \n",
       "2             0             0  \n",
       "3             0             0  \n",
       "4             2             2  \n",
       "..          ...           ...  \n",
       "209           1             1  \n",
       "210           2             0  \n",
       "211           2             2  \n",
       "212           1             0  \n",
       "213           2             2  \n",
       "\n",
       "[214 rows x 5 columns]"
      ]
     },
     "execution_count": 562,
     "metadata": {},
     "output_type": "execute_result"
    }
   ],
   "source": [
    "results = get_result_frames(y_pred, y_test_1)\n",
    "results"
   ]
  },
  {
   "cell_type": "code",
   "execution_count": 573,
   "id": "ec086a6b-cc7f-4813-b6f5-124c52c76759",
   "metadata": {},
   "outputs": [],
   "source": [
    "def get_cm_frames(result):\n",
    "    # Grab sentences by TP,TN, FP, FN\n",
    "\n",
    "    TP = result[result[\"prediction\"] == result[\"ground_truth\"]]\n",
    "    \n",
    "    TP0 = TP[(TP[\"prediction\"] == 0) & (TP[\"ground_truth\"] == 0)]\n",
    "    TP1 = TP[(TP[\"prediction\"] == 1) & (TP[\"ground_truth\"] == 1)]\n",
    "    TP2 = TP[(TP[\"prediction\"] == 2) & (TP[\"ground_truth\"] == 2)]\n",
    "    \n",
    "    E = result[result[\"prediction\"] != result[\"ground_truth\"]]\n",
    "    \n",
    "    # Misclassified Class 0s\n",
    "    E01 = E[(E[\"prediction\"] == 1) & (E[\"ground_truth\"] == 0)]\n",
    "    E02 = E[(E[\"prediction\"] == 2) & (E[\"ground_truth\"] == 0)]\n",
    "    \n",
    "    # Misclassified Class 1s\n",
    "    E10 = E[(E[\"prediction\"] == 0) & (E[\"ground_truth\"] == 1)]\n",
    "    E12 = E[(E[\"prediction\"] == 2) & (E[\"ground_truth\"] == 1)]\n",
    "    \n",
    "    # Misclassified Class 2s\n",
    "    E20 = E[(E[\"prediction\"] == 0) & (E[\"ground_truth\"] == 2)]\n",
    "    E21 = E[(E[\"prediction\"] == 1) & (E[\"ground_truth\"] == 2)]\n",
    "\n",
    "    cms_dfs = {'TP': TP, \n",
    "               'TP0':TP0, \n",
    "               'TP1': TP1, \n",
    "               'TP2': TP2, \n",
    "               'E': E, \n",
    "               'E01': E01,\n",
    "               'E02': E02,\n",
    "               'E10': E10,\n",
    "               'E12': E12,\n",
    "               'E20': E20,\n",
    "               'E21': E21,\n",
    "              }\n",
    "    \n",
    "    return cms_dfs"
   ]
  },
  {
   "cell_type": "code",
   "execution_count": 574,
   "id": "7c89fb94-b67f-4d9e-8930-313612353571",
   "metadata": {},
   "outputs": [],
   "source": [
    "model_1_cms_frames = get_cm_frames(results)"
   ]
  },
  {
   "cell_type": "code",
   "execution_count": 575,
   "id": "1a7e65cf-e6d5-4366-9718-2186621ede7c",
   "metadata": {},
   "outputs": [],
   "source": [
    "for k,v in model_1_cms_frames.items():\n",
    "    v.to_csv(f\"{k}.csv\", index=False)"
   ]
  }
 ],
 "metadata": {
  "kernelspec": {
   "display_name": "Python 3 (ipykernel)",
   "language": "python",
   "name": "python3"
  },
  "language_info": {
   "codemirror_mode": {
    "name": "ipython",
    "version": 3
   },
   "file_extension": ".py",
   "mimetype": "text/x-python",
   "name": "python",
   "nbconvert_exporter": "python",
   "pygments_lexer": "ipython3",
   "version": "3.9.7"
  }
 },
 "nbformat": 4,
 "nbformat_minor": 5
}
